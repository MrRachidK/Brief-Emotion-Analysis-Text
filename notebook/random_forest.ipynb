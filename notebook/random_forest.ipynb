{
 "metadata": {
  "language_info": {
   "codemirror_mode": {
    "name": "ipython",
    "version": 3
   },
   "file_extension": ".py",
   "mimetype": "text/x-python",
   "name": "python",
   "nbconvert_exporter": "python",
   "pygments_lexer": "ipython3",
   "version": "3.8.5"
  },
  "orig_nbformat": 2,
  "kernelspec": {
   "name": "python385jvsc74a57bd05b9c502b618e97131917a2f1409b4700bb639cdf99ce16cd88a0e27a90524386",
   "display_name": "Python 3.8.5 64-bit ('base': conda)"
  }
 },
 "nbformat": 4,
 "nbformat_minor": 2,
 "cells": [
  {
   "source": [
    "## Importation des librairies et des jeux de données nécessaires à notre travail"
   ],
   "cell_type": "markdown",
   "metadata": {}
  },
  {
   "cell_type": "code",
   "execution_count": 63,
   "metadata": {},
   "outputs": [],
   "source": [
    "import sys\n",
    "sys.path.insert(0, \"/home/apprenant/Documents/Brief-Emotion-Analysis-Text/\")\n",
    "\n",
    "import pandas as pd\n",
    "import numpy as np\n",
    "import warnings\n",
    "warnings.filterwarnings(\"ignore\")\n",
    "from sklearn.model_selection import train_test_split\n",
    "from sklearn.ensemble import RandomForestClassifier\n",
    "from sklearn.feature_extraction.text import CountVectorizer\n",
    "from sklearn.model_selection import cross_val_score\n",
    "from sklearn.metrics import accuracy_score\n",
    "import matplotlib.pyplot as plt\n",
    "from sklearn import preprocessing\n",
    "from src.functions import plot_roc\n",
    "\n",
    "\n",
    "emotion_final = pd.read_csv('/home/apprenant/Documents/Brief-Emotion-Analysis-Text/data/02_cleaned/cleaned_emotion_final.csv')\n",
    "\n",
    "\n",
    "text_emotion = pd.read_csv('/home/apprenant/Documents/Brief-Emotion-Analysis-Text/data/02_cleaned/cleaned_text_emotion.csv')"
   ]
  },
  {
   "cell_type": "code",
   "execution_count": 2,
   "metadata": {},
   "outputs": [
    {
     "output_type": "execute_result",
     "data": {
      "text/plain": [
       "                                                text    label\n",
       "0                            i didnt feel humiliated  sadness\n",
       "1  i can go from feeling so hopeless to so damned...  sadness\n",
       "2   im grabbing a minute to post i feel greedy wrong    anger\n",
       "3  i am ever feeling nostalgic about the fireplac...     love\n",
       "4                               i am feeling grouchy    anger"
      ],
      "text/html": "<div>\n<style scoped>\n    .dataframe tbody tr th:only-of-type {\n        vertical-align: middle;\n    }\n\n    .dataframe tbody tr th {\n        vertical-align: top;\n    }\n\n    .dataframe thead th {\n        text-align: right;\n    }\n</style>\n<table border=\"1\" class=\"dataframe\">\n  <thead>\n    <tr style=\"text-align: right;\">\n      <th></th>\n      <th>text</th>\n      <th>label</th>\n    </tr>\n  </thead>\n  <tbody>\n    <tr>\n      <th>0</th>\n      <td>i didnt feel humiliated</td>\n      <td>sadness</td>\n    </tr>\n    <tr>\n      <th>1</th>\n      <td>i can go from feeling so hopeless to so damned...</td>\n      <td>sadness</td>\n    </tr>\n    <tr>\n      <th>2</th>\n      <td>im grabbing a minute to post i feel greedy wrong</td>\n      <td>anger</td>\n    </tr>\n    <tr>\n      <th>3</th>\n      <td>i am ever feeling nostalgic about the fireplac...</td>\n      <td>love</td>\n    </tr>\n    <tr>\n      <th>4</th>\n      <td>i am feeling grouchy</td>\n      <td>anger</td>\n    </tr>\n  </tbody>\n</table>\n</div>"
     },
     "metadata": {},
     "execution_count": 2
    }
   ],
   "source": [
    "emotion_final.head()"
   ]
  },
  {
   "cell_type": "code",
   "execution_count": 3,
   "metadata": {},
   "outputs": [
    {
     "output_type": "execute_result",
     "data": {
      "text/plain": [
       "(21456, 2)"
      ]
     },
     "metadata": {},
     "execution_count": 3
    }
   ],
   "source": [
    "emotion_final.shape"
   ]
  },
  {
   "cell_type": "code",
   "execution_count": 4,
   "metadata": {},
   "outputs": [
    {
     "output_type": "execute_result",
     "data": {
      "text/plain": [
       "(40000, 3)"
      ]
     },
     "metadata": {},
     "execution_count": 4
    }
   ],
   "source": [
    "text_emotion.shape"
   ]
  },
  {
   "source": [
    "## Etape 1 : Comparaison de classification du premier jeu de données avec la classification du second jeu de données"
   ],
   "cell_type": "markdown",
   "metadata": {}
  },
  {
   "source": [
    "### Premier jeu de données"
   ],
   "cell_type": "markdown",
   "metadata": {}
  },
  {
   "source": [
    "#### Label-encoding des émotions"
   ],
   "cell_type": "markdown",
   "metadata": {}
  },
  {
   "cell_type": "code",
   "execution_count": 5,
   "metadata": {},
   "outputs": [
    {
     "output_type": "execute_result",
     "data": {
      "text/plain": [
       "array(['sadness', 'anger', 'love', 'surprise', 'fear', 'happy'],\n",
       "      dtype=object)"
      ]
     },
     "metadata": {},
     "execution_count": 5
    }
   ],
   "source": [
    "emotion_final['label'].unique()"
   ]
  },
  {
   "cell_type": "code",
   "execution_count": 6,
   "metadata": {},
   "outputs": [],
   "source": [
    "conditions = [(emotion_final['label'] == \"sadness\") | (emotion_final['label'] == \"fear\") | (emotion_final['label'] == \"anger\"), (emotion_final['label'] == \"love\") | (emotion_final['label'] == \"surprise\") | (emotion_final['label'] == \"happy\")] "
   ]
  },
  {
   "cell_type": "code",
   "execution_count": 7,
   "metadata": {},
   "outputs": [],
   "source": [
    "values = [0, 1]"
   ]
  },
  {
   "cell_type": "code",
   "execution_count": 8,
   "metadata": {},
   "outputs": [],
   "source": [
    "emotion_final['binary_emotion'] = np.select(conditions, values)"
   ]
  },
  {
   "cell_type": "code",
   "execution_count": 9,
   "metadata": {},
   "outputs": [
    {
     "output_type": "execute_result",
     "data": {
      "text/plain": [
       "                                                 text     label  \\\n",
       "0                             i didnt feel humiliated   sadness   \n",
       "1   i can go from feeling so hopeless to so damned...   sadness   \n",
       "2    im grabbing a minute to post i feel greedy wrong     anger   \n",
       "3   i am ever feeling nostalgic about the fireplac...      love   \n",
       "4                                i am feeling grouchy     anger   \n",
       "5   ive been feeling a little burdened lately wasn...   sadness   \n",
       "6   ive been taking or milligrams or times recomme...  surprise   \n",
       "7   i feel as confused about life as a teenager or...      fear   \n",
       "8   i have been with petronas for years i feel tha...     happy   \n",
       "9                                 i feel romantic too      love   \n",
       "10  i feel like i have to make the suffering i m s...   sadness   \n",
       "11  i do feel that running is a divine experience ...     happy   \n",
       "12  i think it s the easiest time of year to feel ...     anger   \n",
       "13                 i feel low energy i m just thirsty   sadness   \n",
       "14  i have immense sympathy with the general point...     happy   \n",
       "\n",
       "    binary_emotion  \n",
       "0                0  \n",
       "1                0  \n",
       "2                0  \n",
       "3                1  \n",
       "4                0  \n",
       "5                0  \n",
       "6                1  \n",
       "7                0  \n",
       "8                1  \n",
       "9                1  \n",
       "10               0  \n",
       "11               1  \n",
       "12               0  \n",
       "13               0  \n",
       "14               1  "
      ],
      "text/html": "<div>\n<style scoped>\n    .dataframe tbody tr th:only-of-type {\n        vertical-align: middle;\n    }\n\n    .dataframe tbody tr th {\n        vertical-align: top;\n    }\n\n    .dataframe thead th {\n        text-align: right;\n    }\n</style>\n<table border=\"1\" class=\"dataframe\">\n  <thead>\n    <tr style=\"text-align: right;\">\n      <th></th>\n      <th>text</th>\n      <th>label</th>\n      <th>binary_emotion</th>\n    </tr>\n  </thead>\n  <tbody>\n    <tr>\n      <th>0</th>\n      <td>i didnt feel humiliated</td>\n      <td>sadness</td>\n      <td>0</td>\n    </tr>\n    <tr>\n      <th>1</th>\n      <td>i can go from feeling so hopeless to so damned...</td>\n      <td>sadness</td>\n      <td>0</td>\n    </tr>\n    <tr>\n      <th>2</th>\n      <td>im grabbing a minute to post i feel greedy wrong</td>\n      <td>anger</td>\n      <td>0</td>\n    </tr>\n    <tr>\n      <th>3</th>\n      <td>i am ever feeling nostalgic about the fireplac...</td>\n      <td>love</td>\n      <td>1</td>\n    </tr>\n    <tr>\n      <th>4</th>\n      <td>i am feeling grouchy</td>\n      <td>anger</td>\n      <td>0</td>\n    </tr>\n    <tr>\n      <th>5</th>\n      <td>ive been feeling a little burdened lately wasn...</td>\n      <td>sadness</td>\n      <td>0</td>\n    </tr>\n    <tr>\n      <th>6</th>\n      <td>ive been taking or milligrams or times recomme...</td>\n      <td>surprise</td>\n      <td>1</td>\n    </tr>\n    <tr>\n      <th>7</th>\n      <td>i feel as confused about life as a teenager or...</td>\n      <td>fear</td>\n      <td>0</td>\n    </tr>\n    <tr>\n      <th>8</th>\n      <td>i have been with petronas for years i feel tha...</td>\n      <td>happy</td>\n      <td>1</td>\n    </tr>\n    <tr>\n      <th>9</th>\n      <td>i feel romantic too</td>\n      <td>love</td>\n      <td>1</td>\n    </tr>\n    <tr>\n      <th>10</th>\n      <td>i feel like i have to make the suffering i m s...</td>\n      <td>sadness</td>\n      <td>0</td>\n    </tr>\n    <tr>\n      <th>11</th>\n      <td>i do feel that running is a divine experience ...</td>\n      <td>happy</td>\n      <td>1</td>\n    </tr>\n    <tr>\n      <th>12</th>\n      <td>i think it s the easiest time of year to feel ...</td>\n      <td>anger</td>\n      <td>0</td>\n    </tr>\n    <tr>\n      <th>13</th>\n      <td>i feel low energy i m just thirsty</td>\n      <td>sadness</td>\n      <td>0</td>\n    </tr>\n    <tr>\n      <th>14</th>\n      <td>i have immense sympathy with the general point...</td>\n      <td>happy</td>\n      <td>1</td>\n    </tr>\n  </tbody>\n</table>\n</div>"
     },
     "metadata": {},
     "execution_count": 9
    }
   ],
   "source": [
    "emotion_final.head(15)"
   ]
  },
  {
   "source": [
    "#### Choix des variables"
   ],
   "cell_type": "markdown",
   "metadata": {}
  },
  {
   "cell_type": "code",
   "execution_count": 10,
   "metadata": {},
   "outputs": [],
   "source": [
    "X = emotion_final['text']\n",
    "y = emotion_final['binary_emotion']\n",
    "X_train, X_test, y_train, y_test = train_test_split(X, y, test_size=0.2)"
   ]
  },
  {
   "source": [
    "#### Mise en place du modèle"
   ],
   "cell_type": "markdown",
   "metadata": {}
  },
  {
   "cell_type": "code",
   "execution_count": 11,
   "metadata": {},
   "outputs": [
    {
     "output_type": "execute_result",
     "data": {
      "text/plain": [
       "CountVectorizer(lowercase=False, min_df=0)"
      ]
     },
     "metadata": {},
     "execution_count": 11
    }
   ],
   "source": [
    "vectorizer = CountVectorizer(min_df=0, lowercase=False)\n",
    "vectorizer.fit(emotion_final['text'])"
   ]
  },
  {
   "cell_type": "code",
   "execution_count": 12,
   "metadata": {},
   "outputs": [],
   "source": [
    "text_train = vectorizer.transform(X_train)\n",
    "text_test = vectorizer.transform(X_test)"
   ]
  },
  {
   "cell_type": "code",
   "execution_count": 13,
   "metadata": {},
   "outputs": [
    {
     "output_type": "stream",
     "name": "stdout",
     "text": [
      "Dic Size: 19883\n"
     ]
    }
   ],
   "source": [
    "print(\"Dic Size:\", len(vectorizer.get_feature_names()))"
   ]
  },
  {
   "cell_type": "code",
   "execution_count": 14,
   "metadata": {},
   "outputs": [
    {
     "output_type": "execute_result",
     "data": {
      "text/plain": [
       "RandomForestClassifier(random_state=42)"
      ]
     },
     "metadata": {},
     "execution_count": 14
    }
   ],
   "source": [
    "rf = RandomForestClassifier(random_state=42)\n",
    "rf.fit(text_train, y_train)"
   ]
  },
  {
   "cell_type": "code",
   "execution_count": 15,
   "metadata": {},
   "outputs": [
    {
     "output_type": "stream",
     "name": "stdout",
     "text": [
      "Cross Val Score:  0.9250173823651832\n",
      "Train Score:  0.9997\n",
      "Train Score:  0.9357\n"
     ]
    }
   ],
   "source": [
    "print(\"Cross Val Score: \",cross_val_score(rf,text_train,y_train,cv=5).mean())\n",
    "print(\"Train Score: \", round(rf.score(text_train,y_train),4))\n",
    "print(\"Train Score: \", round(rf.score(text_test,y_test, 4))"
   ]
  },
  {
   "cell_type": "code",
   "execution_count": 16,
   "metadata": {},
   "outputs": [],
   "source": [
    "y_pred = rf.predict(text_test)"
   ]
  },
  {
   "cell_type": "code",
   "execution_count": 17,
   "metadata": {},
   "outputs": [
    {
     "output_type": "execute_result",
     "data": {
      "text/plain": [
       "array([1, 0, 1, ..., 0, 1, 0])"
      ]
     },
     "metadata": {},
     "execution_count": 17
    }
   ],
   "source": [
    "y_pred"
   ]
  },
  {
   "source": [
    "### Second jeu de données"
   ],
   "cell_type": "markdown",
   "metadata": {}
  },
  {
   "source": [
    "#### Label encoding des émotions"
   ],
   "cell_type": "markdown",
   "metadata": {}
  },
  {
   "cell_type": "code",
   "execution_count": 18,
   "metadata": {},
   "outputs": [
    {
     "output_type": "execute_result",
     "data": {
      "text/plain": [
       "array(['empty', 'sadness', 'enthusiasm', 'neutral', 'worry', 'surprise',\n",
       "       'love', 'fun', 'hate', 'happiness', 'boredom', 'relief', 'anger'],\n",
       "      dtype=object)"
      ]
     },
     "metadata": {},
     "execution_count": 18
    }
   ],
   "source": [
    "text_emotion['label'].unique()"
   ]
  },
  {
   "cell_type": "code",
   "execution_count": 19,
   "metadata": {},
   "outputs": [],
   "source": [
    "conditions = [(text_emotion['label'] == \"empty\") | (text_emotion['label'] == \"sadness\") | (text_emotion['label'] == \"worry\") | (text_emotion['label'] == \"hate\") | (text_emotion['label'] == \"boredom\") | (text_emotion['label'] == \"anger\"), (text_emotion['label'] == \"enthusiasm\") | (text_emotion['label'] == \"neutral\") | (text_emotion['label'] == \"surprise\") | (text_emotion['label'] == \"love\") | (text_emotion['label'] == \"fun\") | (text_emotion['label'] == \"happiness\") | (text_emotion['label'] == \"relief\")] "
   ]
  },
  {
   "cell_type": "code",
   "execution_count": 20,
   "metadata": {},
   "outputs": [],
   "source": [
    "values = [0, 1]"
   ]
  },
  {
   "cell_type": "code",
   "execution_count": 21,
   "metadata": {},
   "outputs": [],
   "source": [
    "text_emotion['binary_emotion'] = np.select(conditions, values)"
   ]
  },
  {
   "cell_type": "code",
   "execution_count": 22,
   "metadata": {},
   "outputs": [
    {
     "output_type": "execute_result",
     "data": {
      "text/plain": [
       "         tweet_id       label  \\\n",
       "0      1956967341       empty   \n",
       "1      1956967666     sadness   \n",
       "2      1956967696     sadness   \n",
       "3      1956967789  enthusiasm   \n",
       "4      1956968416     neutral   \n",
       "...           ...         ...   \n",
       "39995  1753918954     neutral   \n",
       "39996  1753919001        love   \n",
       "39997  1753919005        love   \n",
       "39998  1753919043   happiness   \n",
       "39999  1753919049        love   \n",
       "\n",
       "                                                    text  binary_emotion  \n",
       "0      @tiffanylue i know  i was listenin to bad habi...               0  \n",
       "1      Layin n bed with a headache  ughhhh...waitin o...               0  \n",
       "2                    Funeral ceremony...gloomy friday...               0  \n",
       "3                   wants to hang out with friends SOON!               1  \n",
       "4      @dannycastillo We want to trade with someone w...               1  \n",
       "...                                                  ...             ...  \n",
       "39995                                   @JohnLloydTaylor               1  \n",
       "39996                     Happy Mothers Day  All my love               1  \n",
       "39997  Happy Mother's Day to all the mommies out ther...               1  \n",
       "39998  @niariley WASSUP BEAUTIFUL!!! FOLLOW ME!!  PEE...               1  \n",
       "39999  @mopedronin bullet train from tokyo    the gf ...               1  \n",
       "\n",
       "[40000 rows x 4 columns]"
      ],
      "text/html": "<div>\n<style scoped>\n    .dataframe tbody tr th:only-of-type {\n        vertical-align: middle;\n    }\n\n    .dataframe tbody tr th {\n        vertical-align: top;\n    }\n\n    .dataframe thead th {\n        text-align: right;\n    }\n</style>\n<table border=\"1\" class=\"dataframe\">\n  <thead>\n    <tr style=\"text-align: right;\">\n      <th></th>\n      <th>tweet_id</th>\n      <th>label</th>\n      <th>text</th>\n      <th>binary_emotion</th>\n    </tr>\n  </thead>\n  <tbody>\n    <tr>\n      <th>0</th>\n      <td>1956967341</td>\n      <td>empty</td>\n      <td>@tiffanylue i know  i was listenin to bad habi...</td>\n      <td>0</td>\n    </tr>\n    <tr>\n      <th>1</th>\n      <td>1956967666</td>\n      <td>sadness</td>\n      <td>Layin n bed with a headache  ughhhh...waitin o...</td>\n      <td>0</td>\n    </tr>\n    <tr>\n      <th>2</th>\n      <td>1956967696</td>\n      <td>sadness</td>\n      <td>Funeral ceremony...gloomy friday...</td>\n      <td>0</td>\n    </tr>\n    <tr>\n      <th>3</th>\n      <td>1956967789</td>\n      <td>enthusiasm</td>\n      <td>wants to hang out with friends SOON!</td>\n      <td>1</td>\n    </tr>\n    <tr>\n      <th>4</th>\n      <td>1956968416</td>\n      <td>neutral</td>\n      <td>@dannycastillo We want to trade with someone w...</td>\n      <td>1</td>\n    </tr>\n    <tr>\n      <th>...</th>\n      <td>...</td>\n      <td>...</td>\n      <td>...</td>\n      <td>...</td>\n    </tr>\n    <tr>\n      <th>39995</th>\n      <td>1753918954</td>\n      <td>neutral</td>\n      <td>@JohnLloydTaylor</td>\n      <td>1</td>\n    </tr>\n    <tr>\n      <th>39996</th>\n      <td>1753919001</td>\n      <td>love</td>\n      <td>Happy Mothers Day  All my love</td>\n      <td>1</td>\n    </tr>\n    <tr>\n      <th>39997</th>\n      <td>1753919005</td>\n      <td>love</td>\n      <td>Happy Mother's Day to all the mommies out ther...</td>\n      <td>1</td>\n    </tr>\n    <tr>\n      <th>39998</th>\n      <td>1753919043</td>\n      <td>happiness</td>\n      <td>@niariley WASSUP BEAUTIFUL!!! FOLLOW ME!!  PEE...</td>\n      <td>1</td>\n    </tr>\n    <tr>\n      <th>39999</th>\n      <td>1753919049</td>\n      <td>love</td>\n      <td>@mopedronin bullet train from tokyo    the gf ...</td>\n      <td>1</td>\n    </tr>\n  </tbody>\n</table>\n<p>40000 rows × 4 columns</p>\n</div>"
     },
     "metadata": {},
     "execution_count": 22
    }
   ],
   "source": [
    "text_emotion"
   ]
  },
  {
   "source": [
    "#### Choix des variables"
   ],
   "cell_type": "markdown",
   "metadata": {}
  },
  {
   "cell_type": "code",
   "execution_count": 23,
   "metadata": {},
   "outputs": [],
   "source": [
    "X = text_emotion['text']\n",
    "y = text_emotion['binary_emotion']\n",
    "X_train, X_test, y_train, y_test = train_test_split(X, y, test_size=0.2)"
   ]
  },
  {
   "source": [
    "#### Mise en place du modèle"
   ],
   "cell_type": "markdown",
   "metadata": {}
  },
  {
   "cell_type": "code",
   "execution_count": 24,
   "metadata": {},
   "outputs": [
    {
     "output_type": "execute_result",
     "data": {
      "text/plain": [
       "CountVectorizer(lowercase=False, min_df=0)"
      ]
     },
     "metadata": {},
     "execution_count": 24
    }
   ],
   "source": [
    "vectorizer = CountVectorizer(min_df=0, lowercase=False)\n",
    "vectorizer.fit(text_emotion['text'])"
   ]
  },
  {
   "cell_type": "code",
   "execution_count": 25,
   "metadata": {},
   "outputs": [],
   "source": [
    "text_train = vectorizer.transform(X_train)\n",
    "text_test = vectorizer.transform(X_test)"
   ]
  },
  {
   "cell_type": "code",
   "execution_count": 26,
   "metadata": {},
   "outputs": [
    {
     "output_type": "stream",
     "name": "stdout",
     "text": [
      "Dic Size: 56610\n"
     ]
    }
   ],
   "source": [
    "print(\"Dic Size:\", len(vectorizer.get_feature_names()))"
   ]
  },
  {
   "cell_type": "code",
   "execution_count": 27,
   "metadata": {},
   "outputs": [
    {
     "output_type": "execute_result",
     "data": {
      "text/plain": [
       "RandomForestClassifier(random_state=42)"
      ]
     },
     "metadata": {},
     "execution_count": 27
    }
   ],
   "source": [
    "rf = RandomForestClassifier(random_state=42)\n",
    "rf.fit(text_train, y_train)"
   ]
  },
  {
   "cell_type": "code",
   "execution_count": 28,
   "metadata": {},
   "outputs": [
    {
     "output_type": "stream",
     "name": "stdout",
     "text": [
      "Cross Val Score:  0.7032499999999999\n",
      "Train Score:  0.9991\n",
      "Train Score:  0.6991\n"
     ]
    }
   ],
   "source": [
    "print(\"Cross Val Score: \",cross_val_score(rf,text_train,y_train,cv=5).mean())\n",
    "print(\"Train Score: \", round(rf.score(text_train,y_train),4))\n",
    "print(\"Train Score: \", round(rf.score(text_test,y_test),4))"
   ]
  },
  {
   "cell_type": "code",
   "execution_count": 30,
   "metadata": {},
   "outputs": [],
   "source": [
    "y_pred = rf.predict(text_test)"
   ]
  },
  {
   "cell_type": "code",
   "execution_count": 31,
   "metadata": {},
   "outputs": [
    {
     "output_type": "execute_result",
     "data": {
      "text/plain": [
       "array([1, 0, 1, ..., 1, 1, 1])"
      ]
     },
     "metadata": {},
     "execution_count": 31
    }
   ],
   "source": [
    "y_pred"
   ]
  },
  {
   "source": [
    "Les résultats obtenus dans les deux jeux de données sont différents. \n",
    "Dans un premier temps, nous avons réalisé deux modèles différents. Ensuite, la différence notable entre ces deux jeux de données est la nature du texte implanté dans ces jeux de données. Dans le premier jeu, notre texte présente un langage plus soutenu alors que le second se compose de tweets donc présentant un langage plus courant. L'accuracy peut donc être expliqué par le niveau de langue.\n",
    "On peut également supposer que le nombre d'émotions de chacun des deux jeux de données influence le résultat."
   ],
   "cell_type": "markdown",
   "metadata": {}
  },
  {
   "source": [
    "## Etape 2 : Combiner les deux jeux de données pour améliorer les résultats de prédiction"
   ],
   "cell_type": "markdown",
   "metadata": {}
  },
  {
   "cell_type": "code",
   "execution_count": 33,
   "metadata": {},
   "outputs": [],
   "source": [
    "emotion_final_extracted = emotion_final[['text', 'label']]\n",
    "text_emotion_extracted = text_emotion[['text', 'label']]\n",
    "new_emotion_text = pd.concat([emotion_final_extracted, text_emotion_extracted])"
   ]
  },
  {
   "cell_type": "code",
   "execution_count": 34,
   "metadata": {},
   "outputs": [
    {
     "output_type": "execute_result",
     "data": {
      "text/plain": [
       "                                                text    label\n",
       "0                            i didnt feel humiliated  sadness\n",
       "1  i can go from feeling so hopeless to so damned...  sadness\n",
       "2   im grabbing a minute to post i feel greedy wrong    anger\n",
       "3  i am ever feeling nostalgic about the fireplac...     love\n",
       "4                               i am feeling grouchy    anger"
      ],
      "text/html": "<div>\n<style scoped>\n    .dataframe tbody tr th:only-of-type {\n        vertical-align: middle;\n    }\n\n    .dataframe tbody tr th {\n        vertical-align: top;\n    }\n\n    .dataframe thead th {\n        text-align: right;\n    }\n</style>\n<table border=\"1\" class=\"dataframe\">\n  <thead>\n    <tr style=\"text-align: right;\">\n      <th></th>\n      <th>text</th>\n      <th>label</th>\n    </tr>\n  </thead>\n  <tbody>\n    <tr>\n      <th>0</th>\n      <td>i didnt feel humiliated</td>\n      <td>sadness</td>\n    </tr>\n    <tr>\n      <th>1</th>\n      <td>i can go from feeling so hopeless to so damned...</td>\n      <td>sadness</td>\n    </tr>\n    <tr>\n      <th>2</th>\n      <td>im grabbing a minute to post i feel greedy wrong</td>\n      <td>anger</td>\n    </tr>\n    <tr>\n      <th>3</th>\n      <td>i am ever feeling nostalgic about the fireplac...</td>\n      <td>love</td>\n    </tr>\n    <tr>\n      <th>4</th>\n      <td>i am feeling grouchy</td>\n      <td>anger</td>\n    </tr>\n  </tbody>\n</table>\n</div>"
     },
     "metadata": {},
     "execution_count": 34
    }
   ],
   "source": [
    "new_emotion_text.head()"
   ]
  },
  {
   "cell_type": "code",
   "execution_count": 35,
   "metadata": {},
   "outputs": [
    {
     "output_type": "execute_result",
     "data": {
      "text/plain": [
       "(61456, 2)"
      ]
     },
     "metadata": {},
     "execution_count": 35
    }
   ],
   "source": [
    "new_emotion_text.shape"
   ]
  },
  {
   "source": [
    "### Label encoding des données"
   ],
   "cell_type": "markdown",
   "metadata": {}
  },
  {
   "source": [
    "new_emotion_text['label'].unique()"
   ],
   "cell_type": "code",
   "metadata": {},
   "execution_count": 36,
   "outputs": [
    {
     "output_type": "execute_result",
     "data": {
      "text/plain": [
       "array(['sadness', 'anger', 'love', 'surprise', 'fear', 'happy', 'empty',\n",
       "       'enthusiasm', 'neutral', 'worry', 'fun', 'hate', 'happiness',\n",
       "       'boredom', 'relief'], dtype=object)"
      ]
     },
     "metadata": {},
     "execution_count": 36
    }
   ]
  },
  {
   "cell_type": "code",
   "execution_count": 37,
   "metadata": {},
   "outputs": [],
   "source": [
    "new_emotion_text[\"label\"].replace({'happiness': 'happy'}, inplace=True)"
   ]
  },
  {
   "cell_type": "code",
   "execution_count": 38,
   "metadata": {},
   "outputs": [
    {
     "output_type": "execute_result",
     "data": {
      "text/plain": [
       "array(['sadness', 'anger', 'love', 'surprise', 'fear', 'happy', 'empty',\n",
       "       'enthusiasm', 'neutral', 'worry', 'fun', 'hate', 'boredom',\n",
       "       'relief'], dtype=object)"
      ]
     },
     "metadata": {},
     "execution_count": 38
    }
   ],
   "source": [
    "new_emotion_text['label'].unique()"
   ]
  },
  {
   "cell_type": "code",
   "execution_count": 39,
   "metadata": {},
   "outputs": [],
   "source": [
    "conditions = [(new_emotion_text['label'] == \"empty\") | (new_emotion_text['label'] == \"sadness\") | (new_emotion_text['label'] == \"worry\") | (new_emotion_text['label'] == \"hate\") | (new_emotion_text['label'] == \"boredom\") | (new_emotion_text['label'] == \"anger\") | new_emotion_text['label'] == \"fear\", (new_emotion_text['label'] == \"enthusiasm\") | (new_emotion_text['label'] == \"neutral\") | (new_emotion_text['label'] == \"surprise\") | (new_emotion_text['label'] == \"love\") | (new_emotion_text['label'] == \"fun\") | (new_emotion_text['label'] == \"happy\") | (new_emotion_text['label'] == \"relief\")] "
   ]
  },
  {
   "cell_type": "code",
   "execution_count": 40,
   "metadata": {},
   "outputs": [],
   "source": [
    "values = [0, 1]"
   ]
  },
  {
   "cell_type": "code",
   "execution_count": 41,
   "metadata": {},
   "outputs": [],
   "source": [
    "new_emotion_text['binary_emotion'] = np.select(conditions, values)"
   ]
  },
  {
   "cell_type": "code",
   "execution_count": 42,
   "metadata": {},
   "outputs": [
    {
     "output_type": "execute_result",
     "data": {
      "text/plain": [
       "                                                    text    label  \\\n",
       "0                                i didnt feel humiliated  sadness   \n",
       "1      i can go from feeling so hopeless to so damned...  sadness   \n",
       "2       im grabbing a minute to post i feel greedy wrong    anger   \n",
       "3      i am ever feeling nostalgic about the fireplac...     love   \n",
       "4                                   i am feeling grouchy    anger   \n",
       "...                                                  ...      ...   \n",
       "39995                                   @JohnLloydTaylor  neutral   \n",
       "39996                     Happy Mothers Day  All my love     love   \n",
       "39997  Happy Mother's Day to all the mommies out ther...     love   \n",
       "39998  @niariley WASSUP BEAUTIFUL!!! FOLLOW ME!!  PEE...    happy   \n",
       "39999  @mopedronin bullet train from tokyo    the gf ...     love   \n",
       "\n",
       "       binary_emotion  \n",
       "0                   0  \n",
       "1                   0  \n",
       "2                   0  \n",
       "3                   1  \n",
       "4                   0  \n",
       "...               ...  \n",
       "39995               1  \n",
       "39996               1  \n",
       "39997               1  \n",
       "39998               1  \n",
       "39999               1  \n",
       "\n",
       "[61456 rows x 3 columns]"
      ],
      "text/html": "<div>\n<style scoped>\n    .dataframe tbody tr th:only-of-type {\n        vertical-align: middle;\n    }\n\n    .dataframe tbody tr th {\n        vertical-align: top;\n    }\n\n    .dataframe thead th {\n        text-align: right;\n    }\n</style>\n<table border=\"1\" class=\"dataframe\">\n  <thead>\n    <tr style=\"text-align: right;\">\n      <th></th>\n      <th>text</th>\n      <th>label</th>\n      <th>binary_emotion</th>\n    </tr>\n  </thead>\n  <tbody>\n    <tr>\n      <th>0</th>\n      <td>i didnt feel humiliated</td>\n      <td>sadness</td>\n      <td>0</td>\n    </tr>\n    <tr>\n      <th>1</th>\n      <td>i can go from feeling so hopeless to so damned...</td>\n      <td>sadness</td>\n      <td>0</td>\n    </tr>\n    <tr>\n      <th>2</th>\n      <td>im grabbing a minute to post i feel greedy wrong</td>\n      <td>anger</td>\n      <td>0</td>\n    </tr>\n    <tr>\n      <th>3</th>\n      <td>i am ever feeling nostalgic about the fireplac...</td>\n      <td>love</td>\n      <td>1</td>\n    </tr>\n    <tr>\n      <th>4</th>\n      <td>i am feeling grouchy</td>\n      <td>anger</td>\n      <td>0</td>\n    </tr>\n    <tr>\n      <th>...</th>\n      <td>...</td>\n      <td>...</td>\n      <td>...</td>\n    </tr>\n    <tr>\n      <th>39995</th>\n      <td>@JohnLloydTaylor</td>\n      <td>neutral</td>\n      <td>1</td>\n    </tr>\n    <tr>\n      <th>39996</th>\n      <td>Happy Mothers Day  All my love</td>\n      <td>love</td>\n      <td>1</td>\n    </tr>\n    <tr>\n      <th>39997</th>\n      <td>Happy Mother's Day to all the mommies out ther...</td>\n      <td>love</td>\n      <td>1</td>\n    </tr>\n    <tr>\n      <th>39998</th>\n      <td>@niariley WASSUP BEAUTIFUL!!! FOLLOW ME!!  PEE...</td>\n      <td>happy</td>\n      <td>1</td>\n    </tr>\n    <tr>\n      <th>39999</th>\n      <td>@mopedronin bullet train from tokyo    the gf ...</td>\n      <td>love</td>\n      <td>1</td>\n    </tr>\n  </tbody>\n</table>\n<p>61456 rows × 3 columns</p>\n</div>"
     },
     "metadata": {},
     "execution_count": 42
    }
   ],
   "source": [
    "new_emotion_text"
   ]
  },
  {
   "source": [
    "### Choix des variables"
   ],
   "cell_type": "markdown",
   "metadata": {}
  },
  {
   "cell_type": "code",
   "execution_count": 43,
   "metadata": {},
   "outputs": [],
   "source": [
    "X = new_emotion_text['text']\n",
    "y = new_emotion_text['binary_emotion']\n",
    "X_train, X_test, y_train, y_test = train_test_split(X, y, test_size=0.2)"
   ]
  },
  {
   "source": [
    "### Mise en place du modèle"
   ],
   "cell_type": "markdown",
   "metadata": {}
  },
  {
   "cell_type": "code",
   "execution_count": 44,
   "metadata": {},
   "outputs": [
    {
     "output_type": "execute_result",
     "data": {
      "text/plain": [
       "CountVectorizer(lowercase=False, min_df=0)"
      ]
     },
     "metadata": {},
     "execution_count": 44
    }
   ],
   "source": [
    "vectorizer = CountVectorizer(min_df=0, lowercase=False)\n",
    "vectorizer.fit(new_emotion_text['text'])"
   ]
  },
  {
   "cell_type": "code",
   "execution_count": 45,
   "metadata": {},
   "outputs": [
    {
     "output_type": "stream",
     "name": "stdout",
     "text": [
      "Dic Size: 66354\n"
     ]
    }
   ],
   "source": [
    "print(\"Dic Size:\", len(vectorizer.get_feature_names()))"
   ]
  },
  {
   "cell_type": "code",
   "execution_count": 46,
   "metadata": {},
   "outputs": [],
   "source": [
    "text_train = vectorizer.transform(X_train)\n",
    "text_test = vectorizer.transform(X_test)"
   ]
  },
  {
   "cell_type": "code",
   "execution_count": 47,
   "metadata": {},
   "outputs": [
    {
     "output_type": "execute_result",
     "data": {
      "text/plain": [
       "RandomForestClassifier(random_state=42)"
      ]
     },
     "metadata": {},
     "execution_count": 47
    }
   ],
   "source": [
    "rf = RandomForestClassifier(random_state=42)\n",
    "rf.fit(text_train, y_train)"
   ]
  },
  {
   "cell_type": "code",
   "execution_count": 48,
   "metadata": {},
   "outputs": [
    {
     "output_type": "stream",
     "name": "stdout",
     "text": [
      "Cross Val Score:  0.7604344940489909\n",
      "Train Score:  0.9992\n",
      "Train Score:  0.7646\n"
     ]
    }
   ],
   "source": [
    "print(\"Cross Val Score: \",cross_val_score(rf,text_train,y_train,cv=5).mean())\n",
    "print(\"Train Score: \", round(rf.score(text_train,y_train),4))\n",
    "print(\"Train Score: \", round(rf.score(text_test,y_test),4))"
   ]
  },
  {
   "cell_type": "code",
   "execution_count": 49,
   "metadata": {},
   "outputs": [],
   "source": [
    "y_pred = rf.predict(text_test)"
   ]
  },
  {
   "cell_type": "code",
   "execution_count": 50,
   "metadata": {},
   "outputs": [
    {
     "output_type": "execute_result",
     "data": {
      "text/plain": [
       "array([0, 1, 0, ..., 0, 1, 1])"
      ]
     },
     "metadata": {},
     "execution_count": 50
    }
   ],
   "source": [
    "y_pred"
   ]
  },
  {
   "source": [
    "Pour cette deuxième étape, nous avons récupéré les deux jeux de données pour les combiner en un seul. L'accuracy se trouve entre les deux jeux de données, ce qui paraît normal."
   ],
   "cell_type": "markdown",
   "metadata": {}
  },
  {
   "source": [
    "## Etape 3 : Utiliser les nouvelles émotions du jeu de données 2 et les prédire sur les messages du jeu 1"
   ],
   "cell_type": "markdown",
   "metadata": {}
  },
  {
   "source": [
    "### Choix des variables"
   ],
   "cell_type": "markdown",
   "metadata": {}
  },
  {
   "cell_type": "code",
   "execution_count": 51,
   "metadata": {},
   "outputs": [],
   "source": [
    "X = text_emotion['text']\n",
    "y = text_emotion['binary_emotion']\n",
    "X_test = emotion_final['text']\n",
    "y_test = emotion_final['binary_emotion']"
   ]
  },
  {
   "cell_type": "code",
   "execution_count": 52,
   "metadata": {},
   "outputs": [
    {
     "output_type": "execute_result",
     "data": {
      "text/plain": [
       "CountVectorizer(lowercase=False, min_df=0)"
      ]
     },
     "metadata": {},
     "execution_count": 52
    }
   ],
   "source": [
    "vectorizer = CountVectorizer(min_df=0, lowercase=False)\n",
    "vectorizer.fit(X)\n",
    "vectorizer.fit(X_test)"
   ]
  },
  {
   "cell_type": "code",
   "execution_count": 53,
   "metadata": {},
   "outputs": [],
   "source": [
    "text_train = vectorizer.transform(X)\n",
    "text_test = vectorizer.transform(X_test)"
   ]
  },
  {
   "cell_type": "code",
   "execution_count": 54,
   "metadata": {},
   "outputs": [
    {
     "output_type": "stream",
     "name": "stdout",
     "text": [
      "Dic Size: 19883\n"
     ]
    }
   ],
   "source": [
    "print(\"Dic Size:\", len(vectorizer.get_feature_names()))"
   ]
  },
  {
   "cell_type": "code",
   "execution_count": 56,
   "metadata": {},
   "outputs": [
    {
     "output_type": "execute_result",
     "data": {
      "text/plain": [
       "RandomForestClassifier(random_state=42)"
      ]
     },
     "metadata": {},
     "execution_count": 56
    }
   ],
   "source": [
    "rf = RandomForestClassifier(random_state=42)\n",
    "rf.fit(text_train, y)"
   ]
  },
  {
   "cell_type": "code",
   "execution_count": 58,
   "metadata": {},
   "outputs": [],
   "source": [
    "y_pred = rf.predict(text_test)"
   ]
  },
  {
   "cell_type": "code",
   "execution_count": 59,
   "metadata": {},
   "outputs": [
    {
     "output_type": "execute_result",
     "data": {
      "text/plain": [
       "                                                    text  predictions\n",
       "0                                i didnt feel humiliated            0\n",
       "1      i can go from feeling so hopeless to so damned...            0\n",
       "2       im grabbing a minute to post i feel greedy wrong            0\n",
       "3      i am ever feeling nostalgic about the fireplac...            0\n",
       "4                                   i am feeling grouchy            0\n",
       "...                                                  ...          ...\n",
       "21451               Melissa stared at her friend in dism            1\n",
       "21452  Successive state elections have seen the gover...            1\n",
       "21453               Vincent was irritated but not dismay            1\n",
       "21454  Kendall-Hume turned back to face the dismayed ...            1\n",
       "21455                    I am dismayed , but not surpris            1\n",
       "\n",
       "[21456 rows x 2 columns]"
      ],
      "text/html": "<div>\n<style scoped>\n    .dataframe tbody tr th:only-of-type {\n        vertical-align: middle;\n    }\n\n    .dataframe tbody tr th {\n        vertical-align: top;\n    }\n\n    .dataframe thead th {\n        text-align: right;\n    }\n</style>\n<table border=\"1\" class=\"dataframe\">\n  <thead>\n    <tr style=\"text-align: right;\">\n      <th></th>\n      <th>text</th>\n      <th>predictions</th>\n    </tr>\n  </thead>\n  <tbody>\n    <tr>\n      <th>0</th>\n      <td>i didnt feel humiliated</td>\n      <td>0</td>\n    </tr>\n    <tr>\n      <th>1</th>\n      <td>i can go from feeling so hopeless to so damned...</td>\n      <td>0</td>\n    </tr>\n    <tr>\n      <th>2</th>\n      <td>im grabbing a minute to post i feel greedy wrong</td>\n      <td>0</td>\n    </tr>\n    <tr>\n      <th>3</th>\n      <td>i am ever feeling nostalgic about the fireplac...</td>\n      <td>0</td>\n    </tr>\n    <tr>\n      <th>4</th>\n      <td>i am feeling grouchy</td>\n      <td>0</td>\n    </tr>\n    <tr>\n      <th>...</th>\n      <td>...</td>\n      <td>...</td>\n    </tr>\n    <tr>\n      <th>21451</th>\n      <td>Melissa stared at her friend in dism</td>\n      <td>1</td>\n    </tr>\n    <tr>\n      <th>21452</th>\n      <td>Successive state elections have seen the gover...</td>\n      <td>1</td>\n    </tr>\n    <tr>\n      <th>21453</th>\n      <td>Vincent was irritated but not dismay</td>\n      <td>1</td>\n    </tr>\n    <tr>\n      <th>21454</th>\n      <td>Kendall-Hume turned back to face the dismayed ...</td>\n      <td>1</td>\n    </tr>\n    <tr>\n      <th>21455</th>\n      <td>I am dismayed , but not surpris</td>\n      <td>1</td>\n    </tr>\n  </tbody>\n</table>\n<p>21456 rows × 2 columns</p>\n</div>"
     },
     "metadata": {},
     "execution_count": 59
    }
   ],
   "source": [
    "pd.DataFrame({'text':X_test, 'predictions':y_pred})"
   ]
  },
  {
   "cell_type": "code",
   "execution_count": 60,
   "metadata": {},
   "outputs": [],
   "source": [
    "data = {'text' : X_test, 'prediction' : y_pred}\n",
    "predictions_first_messages = pd.DataFrame(data).head(15)"
   ]
  },
  {
   "cell_type": "code",
   "execution_count": 61,
   "metadata": {},
   "outputs": [
    {
     "output_type": "execute_result",
     "data": {
      "text/plain": [
       "array([0, 0, 0, ..., 1, 1, 1])"
      ]
     },
     "metadata": {},
     "execution_count": 61
    }
   ],
   "source": [
    "y_pred"
   ]
  },
  {
   "source": [
    "acc = accuracy_score(y_test, y_pred)\n",
    "print(acc)"
   ],
   "cell_type": "code",
   "metadata": {},
   "execution_count": 64,
   "outputs": [
    {
     "output_type": "stream",
     "name": "stdout",
     "text": [
      "0.5780201342281879\n"
     ]
    }
   ]
  },
  {
   "source": [
    "En comparant les données prédites et les données réelles, dans le cadre d'une classification binaire, on se rend compte que le taux de prédictions réussis est d'environ 57 %, ce qui est plutôt correct dans la mesure où on obtient plus de bonnes que de mauvaises prédictions."
   ],
   "cell_type": "markdown",
   "metadata": {}
  },
  {
   "cell_type": "code",
   "execution_count": 65,
   "metadata": {},
   "outputs": [],
   "source": [
    "predictions_first_messages.to_csv(\"/home/apprenant/Documents/Brief-Emotion-Analysis-Text/data/02_cleaned/random_forest_predictions.csv\")"
   ]
  }
 ]
}