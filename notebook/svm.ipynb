{
 "metadata": {
  "language_info": {
   "codemirror_mode": {
    "name": "ipython",
    "version": 3
   },
   "file_extension": ".py",
   "mimetype": "text/x-python",
   "name": "python",
   "nbconvert_exporter": "python",
   "pygments_lexer": "ipython3",
   "version": "3.8.5"
  },
  "orig_nbformat": 2,
  "kernelspec": {
   "name": "python385jvsc74a57bd05b9c502b618e97131917a2f1409b4700bb639cdf99ce16cd88a0e27a90524386",
   "display_name": "Python 3.8.5 64-bit ('base': conda)"
  }
 },
 "nbformat": 4,
 "nbformat_minor": 2,
 "cells": [
  {
   "source": [
    "## Importation des librairies et des jeux de données nécessaires à notre travail"
   ],
   "cell_type": "markdown",
   "metadata": {}
  },
  {
   "cell_type": "code",
   "execution_count": 2,
   "metadata": {},
   "outputs": [
    {
     "output_type": "stream",
     "name": "stdout",
     "text": [
      "importing Jupyter notebook from text_preprocessing.ipynb\n",
      "Time to clean up: 11.70 sec\n",
      "Time to clean up: 15.15 sec\n"
     ]
    }
   ],
   "source": [
    "import sys\n",
    "sys.path.insert(0, \"/home/apprenant/Documents/Brief-Emotion-Analysis-Text/\")\n",
    "\n",
    "import pandas as pd\n",
    "import numpy as np\n",
    "import warnings\n",
    "warnings.filterwarnings(\"ignore\")\n",
    "from sklearn.model_selection import train_test_split\n",
    "from sklearn.feature_extraction.text import TfidfVectorizer\n",
    "from sklearn import model_selection, svm\n",
    "from sklearn.metrics import accuracy_score\n",
    "from sklearn import preprocessing\n",
    "from src.functions import plot_roc\n",
    "import import_ipynb\n",
    "from text_preprocessing import new_list, new_list2\n",
    "\n",
    "\n",
    "emotion_final = pd.read_csv('/home/apprenant/Documents/Brief-Emotion-Analysis-Text/data/02_cleaned/cleaned_emotion_final.csv')\n",
    "\n",
    "text_emotion = pd.read_csv('/home/apprenant/Documents/Brief-Emotion-Analysis-Text/data/02_cleaned/cleaned_text_emotion.csv')"
   ]
  },
  {
   "cell_type": "code",
   "execution_count": 3,
   "metadata": {},
   "outputs": [
    {
     "output_type": "execute_result",
     "data": {
      "text/plain": [
       "                                                text    label\n",
       "0                            i didnt feel humiliated  sadness\n",
       "1  i can go from feeling so hopeless to so damned...  sadness\n",
       "2   im grabbing a minute to post i feel greedy wrong    anger\n",
       "3  i am ever feeling nostalgic about the fireplac...     love\n",
       "4                               i am feeling grouchy    anger"
      ],
      "text/html": "<div>\n<style scoped>\n    .dataframe tbody tr th:only-of-type {\n        vertical-align: middle;\n    }\n\n    .dataframe tbody tr th {\n        vertical-align: top;\n    }\n\n    .dataframe thead th {\n        text-align: right;\n    }\n</style>\n<table border=\"1\" class=\"dataframe\">\n  <thead>\n    <tr style=\"text-align: right;\">\n      <th></th>\n      <th>text</th>\n      <th>label</th>\n    </tr>\n  </thead>\n  <tbody>\n    <tr>\n      <th>0</th>\n      <td>i didnt feel humiliated</td>\n      <td>sadness</td>\n    </tr>\n    <tr>\n      <th>1</th>\n      <td>i can go from feeling so hopeless to so damned...</td>\n      <td>sadness</td>\n    </tr>\n    <tr>\n      <th>2</th>\n      <td>im grabbing a minute to post i feel greedy wrong</td>\n      <td>anger</td>\n    </tr>\n    <tr>\n      <th>3</th>\n      <td>i am ever feeling nostalgic about the fireplac...</td>\n      <td>love</td>\n    </tr>\n    <tr>\n      <th>4</th>\n      <td>i am feeling grouchy</td>\n      <td>anger</td>\n    </tr>\n  </tbody>\n</table>\n</div>"
     },
     "metadata": {},
     "execution_count": 3
    }
   ],
   "source": [
    "emotion_final.head()"
   ]
  },
  {
   "cell_type": "code",
   "execution_count": 3,
   "metadata": {},
   "outputs": [
    {
     "output_type": "execute_result",
     "data": {
      "text/plain": [
       "(21456, 2)"
      ]
     },
     "metadata": {},
     "execution_count": 3
    }
   ],
   "source": [
    "emotion_final.shape"
   ]
  },
  {
   "cell_type": "code",
   "execution_count": 4,
   "metadata": {},
   "outputs": [
    {
     "output_type": "execute_result",
     "data": {
      "text/plain": [
       "(40000, 3)"
      ]
     },
     "metadata": {},
     "execution_count": 4
    }
   ],
   "source": [
    "text_emotion.shape"
   ]
  },
  {
   "source": [
    "####"
   ],
   "cell_type": "markdown",
   "metadata": {}
  },
  {
   "source": [
    "## Etape 1 : Comparaison de classification du premier jeu de données avec la classification du second jeu de données"
   ],
   "cell_type": "markdown",
   "metadata": {}
  },
  {
   "source": [
    "### Premier jeu de données"
   ],
   "cell_type": "markdown",
   "metadata": {}
  },
  {
   "source": [
    "#### Label-encoding des émotions"
   ],
   "cell_type": "markdown",
   "metadata": {}
  },
  {
   "cell_type": "code",
   "execution_count": 5,
   "metadata": {},
   "outputs": [
    {
     "output_type": "execute_result",
     "data": {
      "text/plain": [
       "array(['sadness', 'anger', 'love', 'surprise', 'fear', 'happy'],\n",
       "      dtype=object)"
      ]
     },
     "metadata": {},
     "execution_count": 5
    }
   ],
   "source": [
    "emotion_final['label'].unique()"
   ]
  },
  {
   "cell_type": "code",
   "execution_count": 6,
   "metadata": {},
   "outputs": [],
   "source": [
    "conditions = [(emotion_final['label'] == \"sadness\") | (emotion_final['label'] == \"anger\"), (emotion_final['label'] == \"fear\") | (emotion_final['label'] == \"surprise\"), (emotion_final['label'] == \"love\") | (emotion_final['label'] == \"happy\")] "
   ]
  },
  {
   "cell_type": "code",
   "execution_count": 7,
   "metadata": {},
   "outputs": [],
   "source": [
    "values = [0, 1, 2]"
   ]
  },
  {
   "cell_type": "code",
   "execution_count": 8,
   "metadata": {},
   "outputs": [],
   "source": [
    "emotion_final['trinary_emotion'] = np.select(conditions, values)"
   ]
  },
  {
   "cell_type": "code",
   "execution_count": 9,
   "metadata": {},
   "outputs": [
    {
     "output_type": "execute_result",
     "data": {
      "text/plain": [
       "                                                 text     label  \\\n",
       "0                             i didnt feel humiliated   sadness   \n",
       "1   i can go from feeling so hopeless to so damned...   sadness   \n",
       "2    im grabbing a minute to post i feel greedy wrong     anger   \n",
       "3   i am ever feeling nostalgic about the fireplac...      love   \n",
       "4                                i am feeling grouchy     anger   \n",
       "5   ive been feeling a little burdened lately wasn...   sadness   \n",
       "6   ive been taking or milligrams or times recomme...  surprise   \n",
       "7   i feel as confused about life as a teenager or...      fear   \n",
       "8   i have been with petronas for years i feel tha...     happy   \n",
       "9                                 i feel romantic too      love   \n",
       "10  i feel like i have to make the suffering i m s...   sadness   \n",
       "11  i do feel that running is a divine experience ...     happy   \n",
       "12  i think it s the easiest time of year to feel ...     anger   \n",
       "13                 i feel low energy i m just thirsty   sadness   \n",
       "14  i have immense sympathy with the general point...     happy   \n",
       "\n",
       "    trinary_emotion  \n",
       "0                 0  \n",
       "1                 0  \n",
       "2                 0  \n",
       "3                 2  \n",
       "4                 0  \n",
       "5                 0  \n",
       "6                 1  \n",
       "7                 1  \n",
       "8                 2  \n",
       "9                 2  \n",
       "10                0  \n",
       "11                2  \n",
       "12                0  \n",
       "13                0  \n",
       "14                2  "
      ],
      "text/html": "<div>\n<style scoped>\n    .dataframe tbody tr th:only-of-type {\n        vertical-align: middle;\n    }\n\n    .dataframe tbody tr th {\n        vertical-align: top;\n    }\n\n    .dataframe thead th {\n        text-align: right;\n    }\n</style>\n<table border=\"1\" class=\"dataframe\">\n  <thead>\n    <tr style=\"text-align: right;\">\n      <th></th>\n      <th>text</th>\n      <th>label</th>\n      <th>trinary_emotion</th>\n    </tr>\n  </thead>\n  <tbody>\n    <tr>\n      <th>0</th>\n      <td>i didnt feel humiliated</td>\n      <td>sadness</td>\n      <td>0</td>\n    </tr>\n    <tr>\n      <th>1</th>\n      <td>i can go from feeling so hopeless to so damned...</td>\n      <td>sadness</td>\n      <td>0</td>\n    </tr>\n    <tr>\n      <th>2</th>\n      <td>im grabbing a minute to post i feel greedy wrong</td>\n      <td>anger</td>\n      <td>0</td>\n    </tr>\n    <tr>\n      <th>3</th>\n      <td>i am ever feeling nostalgic about the fireplac...</td>\n      <td>love</td>\n      <td>2</td>\n    </tr>\n    <tr>\n      <th>4</th>\n      <td>i am feeling grouchy</td>\n      <td>anger</td>\n      <td>0</td>\n    </tr>\n    <tr>\n      <th>5</th>\n      <td>ive been feeling a little burdened lately wasn...</td>\n      <td>sadness</td>\n      <td>0</td>\n    </tr>\n    <tr>\n      <th>6</th>\n      <td>ive been taking or milligrams or times recomme...</td>\n      <td>surprise</td>\n      <td>1</td>\n    </tr>\n    <tr>\n      <th>7</th>\n      <td>i feel as confused about life as a teenager or...</td>\n      <td>fear</td>\n      <td>1</td>\n    </tr>\n    <tr>\n      <th>8</th>\n      <td>i have been with petronas for years i feel tha...</td>\n      <td>happy</td>\n      <td>2</td>\n    </tr>\n    <tr>\n      <th>9</th>\n      <td>i feel romantic too</td>\n      <td>love</td>\n      <td>2</td>\n    </tr>\n    <tr>\n      <th>10</th>\n      <td>i feel like i have to make the suffering i m s...</td>\n      <td>sadness</td>\n      <td>0</td>\n    </tr>\n    <tr>\n      <th>11</th>\n      <td>i do feel that running is a divine experience ...</td>\n      <td>happy</td>\n      <td>2</td>\n    </tr>\n    <tr>\n      <th>12</th>\n      <td>i think it s the easiest time of year to feel ...</td>\n      <td>anger</td>\n      <td>0</td>\n    </tr>\n    <tr>\n      <th>13</th>\n      <td>i feel low energy i m just thirsty</td>\n      <td>sadness</td>\n      <td>0</td>\n    </tr>\n    <tr>\n      <th>14</th>\n      <td>i have immense sympathy with the general point...</td>\n      <td>happy</td>\n      <td>2</td>\n    </tr>\n  </tbody>\n</table>\n</div>"
     },
     "metadata": {},
     "execution_count": 9
    }
   ],
   "source": [
    "emotion_final.head(15)"
   ]
  },
  {
   "source": [
    "#### Choix des variables"
   ],
   "cell_type": "markdown",
   "metadata": {}
  },
  {
   "cell_type": "code",
   "execution_count": 10,
   "metadata": {},
   "outputs": [],
   "source": [
    "X = new_list\n",
    "y = emotion_final['trinary_emotion']\n",
    "X_train, X_test, y_train, y_test = train_test_split(X, y, test_size=0.2)"
   ]
  },
  {
   "source": [
    "#### Vectorisation"
   ],
   "cell_type": "markdown",
   "metadata": {}
  },
  {
   "cell_type": "code",
   "execution_count": 11,
   "metadata": {},
   "outputs": [],
   "source": [
    "Tfidf_vect = TfidfVectorizer(analyzer=lambda x: x)\n",
    "Tfidf_vect.fit(X)\n",
    "Train_X_Tfidf = Tfidf_vect.transform(X_train)\n",
    "Test_X_Tfidf = Tfidf_vect.transform(X_test)"
   ]
  },
  {
   "cell_type": "code",
   "execution_count": 12,
   "metadata": {
    "tags": [
     "outputPrepend"
    ]
   },
   "outputs": [
    {
     "output_type": "stream",
     "name": "stdout",
     "text": [
      "rken': 2683, 'uncontain': 11869, 'engulf': 3646, 'excitem': 3830, 'teetotal': 11234, 'harrow': 5003, 'repel': 9364, 'robyn': 9554, 'outr': 8054, 'athelstan': 666, 'coro': 2390, 'irrespect': 5837, 'africa': 182, 'theatric': 11329, 'edmund': 3473, 'wilson': 12581, 'audien': 706, 'stringent': 10848, 'mandela': 6862, 'tumultu': 11746, 'ticker': 11430, 'novoy': 7813, 'russkoy': 9669, 'soviet': 10530, 'enclav': 3614, 'brighton': 1403, 'ode': 7893, 'pilgrimag': 8497, 'dovercourt': 3251, 'endeavour': 3622, 'stevi': 10761, 'arrest': 578, 'colleag': 2113, 'burford': 1500, 'superintend': 10990, 'constabl': 2297, 'aplin': 494, 'lon': 6644, 'fergus': 4055, 'progr': 8880, 'shortish': 10122, 'alcov': 266, 'ellen': 3551, 'gla': 4619, 'tapestri': 11173, 'sleet': 10293, 'infecti': 5634, 'mockeri': 7297, 'deriv': 2882, 'discomf': 3057, 'amateur': 341, 'oth': 8028, 'neighbo': 7618, 'adorn': 135, 'aristophan': 560, 'amusem': 386, 'obvi': 7878, 'eyebr': 3907, 'phr': 8464, 'gioella': 4609, 'constanc': 2298, 'stern': 10757, 'temperament': 11248, 'trio': 11682, 'lieuten': 6516, 'ymor': 12803, 'pl': 8539, 'rosi': 9598, 'gleam': 4633, 'catherin': 1718, 'brot': 1431, 'unkempt': 11976, 'successio': 10934, 'chil': 1875, 'cheel': 1844, 'gabriel': 4464, 'ern': 3716, 'tess': 11291, 'taheb': 11128, 'sa': 9683, 'sybil': 11089, 'natura': 7584, 'gon': 4690, 'childr': 1882, 'goo': 4695, 'ross': 9600, 'bemoan': 1021, 'lonel': 6647, 'expressio': 3886, 'hound': 5327, 'auburn': 702, 'scalp': 9799, 'freckl': 4360, 'tigh': 11441, 'marvin': 6938, 'senilit': 9954, 'tolonen': 11502, 'smil': 10351, 'rea': 9158, 'folklor': 4256, 'dobi': 3178, 'exorcis': 3857, 'dai': 2644, 'scottish': 9858, 'weir': 12452, 'livingsto': 6603, 'famil': 3960, 'maggovertski': 6800, 'powd': 8721, 'hyster': 5423, 'compart': 2180, 'mourner': 7422, 'arriva': 581, 'guil': 4867, 'sadn': 9704, 'crumpl': 2560, 'fac': 3924, 'benefi': 1030, 'repentanc': 9366, 'winemak': 12596, 'nuisanc': 7828, 'fizzi': 4149, 'effec': 3487, 'morton': 7397, 'hom': 5251, 'awa': 753, 'alexei': 276, 'elsewh': 3557, 'understoo': 11894, 'graem': 4747, 'souness': 10524, 'touchlin': 11554, 'bo': 1230, 'majesti': 6824, 'windsor': 12593, 'annus': 442, 'horribili': 5303, 'raucous': 9142, 'cruditi': 2555, 'mimick': 7194, 'soldi': 10449, 'reverend': 9463, 'prentic': 8780, 'angui': 422, 'carer': 1658, 'proce': 8860, 'etch': 3750, 'britt': 1414, 'ekland': 3518, 'searchin': 9900, 'toda': 11485, 'widespread': 12552, 'katherin': 6133, 'crestfallen': 2510, 'bulldog': 1474, 'crestfall': 2509, 'nicki': 7694, 'moo': 7359, 'preston': 8801, 'darbi': 2680, 'mellor': 7062, 'hangin': 4962, 'monotoni': 7352, 'crevic': 2512, 'courtyard': 2443, 'aldridg': 268, 'tennyson': 11265, 'disclos': 3053, 'mariana': 6909, 'shakespear': 10031, 'moat': 7292, 'grang': 4763, 'kirkwood': 6213, 'winn': 12601, 'meanwhil': 7032, 'hewson': 5167, 'australi': 722, 'crane': 2472, 'floo': 4206, 'mccolgan': 7007, 'mccreadi': 7008, 'dejectio': 2810, 'massacr': 6954, 'necessar': 7602, 'wor': 12673, 'dispel': 3105, 'elin': 3545, 'merril': 7108, 'rapidl': 9126, 'spiro': 10602, 'rambl': 9104, 'allevi': 302, 'barbara': 868, 'grou': 4831, 'endil': 3624, 'anaestheti': 390, 'reassess': 9189, 'agai': 190, 'fo': 4239, 'partn': 8252, 'depressio': 2872, 'marsilid': 6929, 'outlaw': 8050, 'treatmen': 11646, 'precipit': 8751, 'forti': 4307, 'amphetamin': 380, 'foo': 4264, 'wome': 12653, 'incommunicado': 5571, 'behaviou': 994, 'mazawatte': 6998, 'cambridg': 1587, 'norfolk': 7776, 'soar': 10417, 'horro': 5308, 'edwin': 3479, 'creggan': 2505, 'asle': 624, 'besieg': 1056, 'dolli': 3201, 'luce': 6727, 'hote': 5320, 'moonligh': 7365, 'maud': 6984, 'kurfrstendamm': 6273, 'purpo': 8996, 'despondenc': 2906, 'counteract': 2424, 'reclaim': 9217, 'balm': 842, 'ricald': 9490, 'cabl': 1551, 'sheila': 10064, 'brackenburi': 1337, 'hasti': 5013, 'lucill': 6730, 'rebuil': 9200, 'abd': 16, 'karim': 6122, 'frenc': 4373, 'therein': 11347, 'gaull': 4517, 'boom': 1282, 'recessio': 9210, 'gothic': 4722, 'glossari': 4656, 'rewrot': 9478, 'diana': 2967, 'avid': 747, 'desponden': 2905, 'rebelliou': 9198, 'eventualit': 3784, 'lrdg': 6720, 'patrol': 8287, 'sunk': 10974, 'employmen': 3602, 'tentat': 11269, 'paren': 8227, 'nigel': 7704, \"n'\": 7538, 'pitman': 8533, 'edc': 3460, 'sig': 10167, \"o'clock\": 7853, 'haverford': 5030, 'askin': 623, 'sardin': 9760, 'warmt': 12385, 'renault': 9349, 'reall': 9181, 'clare': 1977, 'fina': 4108, 'scrawni': 9871, 'wheelchair': 12495, 'ronaldsay': 9581, 'northampton': 7783, 'mcalees': 7002, 'glor': 4651, 'fareha': 3977, 'bedford': 966, 'suzannah': 11041, 'dwyer': 3397, 'bate': 916, 'conferenc': 2253, 'sno': 10392, 'conven': 2346, 'disconsolat': 3062, 'wycomb': 12743, \"o'neil\": 7854, 'drizzl': 3320, 'clinton': 2025, 'rein': 9297, 'handov': 4955, 'franci': 4343, 'climber': 2019, 'wenner': 12466, 'jagger': 5903, 'robe': 9547, 'wilkinson': 12575, 'defea': 2784, 'shrunk': 10145, 'parliament': 8238, 'downca': 3256, 'downcast': 3257, 'mcleish': 7014, 'unea': 11914, 'penelop': 8356, 'huntley': 5392, 'leapor': 6413, 'freemantl': 4367, 'vinyl': 12260, 'flora': 4210, 'wer': 12469, 'angalo': 413, 'canter': 1619, 'despai': 2899, 'fox': 4326, 'lydi': 6769, 'guar': 4852, 'ana': 388, 'kyte': 6279, 'unnam': 11989, 'criticis': 2528, 'derelict': 2879, 'downheart': 3259, 'keegan': 6145, 'newcastl': 7666, 'secreci': 9909, 'ai': 223, 'ministeri': 7216, 'bragg': 1343, 'humouredl': 5378, 'miguel': 7170, 'thoughtfu': 11386, 'quittin': 9055, 'scorer': 9851, 'roo': 9582, 'jill': 5989, 'stricken': 10843, 'wren': 12711, 'lun': 6749, 'disea': 3074, 'equipmen': 3706, 'tria': 11663, 'copiousl': 2371, 'lavatori': 6377, 'barron': 897, 'palac': 8177, 'westminst': 12476, 'condol': 2245, 'grie': 4802, 'sandra': 9744, 'darlington': 2687, 'miscarriag': 7233, 'unborn': 11847, 'stoical': 10789, 'newland': 7671, 'christoph': 1925, 'solvent': 10466, 'shoc': 10101, 'courtship': 2442, 'araminta': 536, 'morrison': 7391, 'heartbrea': 5075, 'ninth': 7726, 'heartbrok': 5077, 'lif': 6517, 'godwin': 4681, 'sophi': 10500, 'cram': 2468, 'transplant': 11623, 'missionar': 7261, 'maudi': 6985, 'wond': 12655, 'ordain': 7999, 'colett': 2106, 'ups': 12079, 'heron': 5155, 'inconsol': 5579, 'inconsolabl': 5580, 'wif': 12559, 'extensivel': 3891, 'liza': 6605, 'salisburi': 9720, 'plai': 8546, 'symphoni': 11099, 'maman': 6851, 'yussuf': 12833, 'vincent': 12251, 'resistanc': 9410, 'sven': 11042, 'hjerson': 5216, 'lugubri': 6738, 'changez': 1804, 'reclin': 9219, 'cultiv': 2586, 'publican': 8962, 'armouri': 568, 'taciturn': 11120, 'malevol': 6840, 'wodehousian': 12641, 'nam': 7556, 'bert': 1052, 'lanki': 6335, 'lugubriou': 6739, 'bathsheba': 919, 'miserabl': 7238, 'tranc': 11606, 'abject': 26, 'tel': 11236, 'occident': 7883, 'bedraggl': 968, 'morass': 7375, 'rai': 9091, 'mor': 7372, 'elis': 3546, 'deat': 2734, 'inkl': 5675, 'biddi': 1094, 'trut': 11719, 'nigh': 7708, 'postur': 8707, 'fel': 4041, 'pierr': 8489, 'codron': 2077, 'sawbon': 9792, 'dishonest': 3086, 'misquot': 7253, 'itiner': 5876, 'coventri': 2445, 'marrow': 6926, 'mournfu': 7423, 'cameraman': 1590, 'micki': 7144, 'incongruousl': 5575, 'landor': 6327, 'gravesid': 4779, 'interestin': 5750, 'taper': 11172, 'grimi': 4811, 'overpr': 8103, 'jostl': 6039, 'gobbl': 4676, 'yesterda': 12790, 'jol': 6019, 'everywh': 3798, 'shoreward': 10116, 'dock': 3182, 'overhea': 8094, 'basset': 911, 'pupp': 8987, 'merchant': 7097, 'friar': 4385, 'sorrowfu': 10510, 'tero': 11279, 'mowbray': 7436, 'mien': 7163, 'cour': 2435, 'toot': 11526, 'moustach': 7428, 'ag': 188, 'eleanor': 3528, 'khthon': 6180, 'melod': 7065, 'interlock': 5753, 'philippa': 8450, \"mdash'how\": 7022, 'tartan': 11177, 'soho': 10441, 'candlelit': 1610, 'barraclough': 891, 'methuen': 7126, 'leibnitz': 6444, 'reproach': 9383, 'landlor': 6323, 'worthington': 12695, 'unendur': 11923, 'deterioratio': 2922, 'tonic': 11518, 'whiski': 12524, 'gin': 4605, 'sorro': 10508, 'gleni': 4637, 'monaco': 7335, 'plac': 8541, 'provisio': 8931, 'goalpost': 4674, 'bann': 863, 'mississippi': 7263, 'clyde': 2058, 'boyn': 1330, 'stor': 10800, 'louis': 6696, 'pai': 8164, 'robinson': 9551, 'countr': 2429, 'woebegon': 12643, 'hepzibah': 5139, 'pitifu': 8532, 'katz': 6141, 'lament': 6316, 'counten': 2422, 'tal': 11140, 'laughin': 6364, 'glorney': 4654, 'lansdown': 6336, 'prote': 8917, 'furi': 4451, 'suda': 10941, 'prophet': 8902, 'confound': 2262, 'loyalist': 6717, 'intac': 5731, 'rune': 9655, 'parson': 8243, 'avai': 737, 'hersel': 5159, 'hara': 4981, 'kiri': 6212, 'paradox': 8213, 'evelyn': 3780, 'linoleum': 6565, 'embroid': 3577, 'satin': 9771, 'breech': 1378, 'jabot': 5890, 'eighteenth': 3512, 'dialect': 2962, \"t'ang\": 11111, 'ts': 11723, 'deleg': 2815, 'auditorium': 710, 'stour': 10809, 'burd': 1496, 'padr': 8156, 'allot': 307, 'astoni': 652, 'rebecqu': 9193, 'incl': 5565, 'behi': 996, 'astound': 654, 'plump': 8597, 'soapi': 10416, 'fi': 4074, 'muzzl': 7520, 'hid': 5176, 'bewi': 1071, 'schellenberg': 9826, 'andrus': 410, 'huski': 5400, 'bangor': 857, 'lightbodi': 6526, 'niba': 7684, 'nutmeg': 7838, 'henck': 5133, 'nervo': 7639, 'devon': 2940, 'loch': 6622, 'apprecia': 519, 'ibrox': 5432, 'ch': 1781, 'cauldron': 1724, 'suspend': 11034, 'dist': 3134, 'burgl': 1503, 'impair': 5505, 'whee': 12493, 'bewilder': 1073, 'boarder': 1232, 'carpent': 1677, 'penguin': 8358, 'glibli': 4639, 'knittin': 6241, 'nizan': 7732, 'inf': 5627, 'sensual': 9963, 'silk': 10182, 'mandi': 6863, 'gloria': 4653, 'agap': 191, 'exasper': 3818, 'sonni': 10492, 'lumber': 6745, 'depar': 2861, 'woolton': 12671, 'shiona': 10089, 'stokil': 10790, 'flabbergast': 4152, 'mare': 6901, 'kilburn': 6190, 'kelli': 6153, 'leith': 6446, 'nonp': 7762, 'mait': 6822, 'nonpluss': 7763, 'chryselius': 1929, 'pennington': 8365, 'attun': 699, 'ethel': 3753, 'puzzlement': 9013, 'eam': 3410, 'puzz': 9011, 'franki': 4345, 'rattlesnak': 9141, 'creas': 2489, 'enquir': 3662, 'col': 2098, 'gus': 4890, 'withdrew': 12624, 'preoccup': 8781, 'signalman': 10174, 'unison': 11970, 'mauric': 6988, 'jinni': 5997, 'corbett': 2377, 'bac': 792, 'estefan': 3742, 'olog': 7937, 'comm': 2152, 'mitch': 7276, 'ruefulli': 9641, 'handkerchief': 4952, 'remai': 9329, 'herman': 5147, 'disconcert': 3059, 'erika': 3714, 'swagger': 11046, 'mau': 6983, 'agi': 201, 'quizzic': 9058, 'isabel': 5844, 'waggon': 12331, 'ruddi': 9633, 'decay': 2747, 'perspi': 8412, 'hanley': 4965, 'odon': 7896, 'ald': 267, 'linsay': 6566, 'mcshane': 7017, 'lifelong': 6520, 'sen': 9949, 'allan': 296, 'bean': 945, 'snp': 10408, 'whitehal': 12529, 'sha': 10019, 'stych': 10898, 'stupefact': 10891, 'compl': 2193, 'momentari': 7326, 'wriggl': 12716, 'leapt': 6414, 'pooley': 8657, 'emp': 3591, 'stupef': 10890, 'platter': 8564, 'stupefi': 10892, 'blackberri': 1145, 'pipkin': 8521, 'limp': 6551, 'parch': 8226, 'ama': 339, 'wool': 12670, 'sylvi': 11093, 'bedr': 967, 'cont': 2314, 'surpr': 11021, 'martial': 6933, 'acquit': 93, 'incur': 5590, 'liberalis': 6503, 'hardlin': 4991, 'forgo': 4295, 'divo': 3165, 'granddaught': 4754, 'ballat': 837, 'wr': 12707, 'incomprehens': 5574, 'mo': 7289, 'ious': 5808, 'clive': 2030, 'greenacr': 4794, 'agoraphob': 212, 'bernic': 1050, 'byng': 1537, 'minorca': 7220, 'cowardic': 2453, 'wan': 12362, 'piggi': 8492, 'establishm': 3739, 'penknif': 8362, 'lightwat': 6534, 'valley': 12140, 'affront': 174, 'huvin': 5403, 'stretcher': 10839, 'perr': 8399, \"o'\": 7852, 'kert': 6166, 'oot': 7969, 'poplin': 8665, 'shor': 10114, 'suff': 10946, 'affron': 173, 'rejoind': 9303, 'barbarossa': 869, 'milan': 7175, 'milanes': 7176, 'tore': 11536, 'latin': 6356, 'prefectur': 8765, 'pol': 8628, 'seer': 9926, 'caan': 1542, 'gro': 4820, 'korup': 6258, 'eleph': 3537, 'tranquillis': 11609, 'tar': 11174, 'viol': 12261, 'lenin': 6459, 'mitchum': 7278, 'irishman': 5825, 'macsharri': 6789, 'delor': 2828, 'thame': 11314, 'grower': 4839, 'busin': 1521, 'lancashir': 6319, 'gooch': 4696, 'selector': 9935, 'axe': 770, 'defreita': 2802, 'essex': 3736, 'pacemen': 8143, 'incen': 5555, 'linek': 6557, 'foh': 4248, 'underst': 11890, 'massu': 6958, 'effigi': 3493, 'infuria': 5653, 'aslef': 626, 'disp': 3103, 'excommun': 3834, 'landriani': 6328, 'conv': 2345, 'newgat': 7670, 'artilleri': 594, 'breach': 1364, 'carmelit': 1669, 'whitefriar': 12528, 'occupa': 7886, 'matilda': 6973, 'trunchbul': 11715, 'oviedo': 8124, 'melndez': 7064, 'vald': 12133, 'insur': 5728, 'hamnett': 4942, 'sixth': 10233, 'duan': 3341, 'sapph': 9752, 'ir': 5814, 'pati': 8279, 'stein': 10744, 'lissa': 6580, 'duff': 3358, 'che': 1834, 'mif': 7164, 'premier': 8776, 'notori': 7805, 'stilt': 10776, 'atherton': 667, 'que': 9032, 'dispens': 3106, 'contracept': 2335, 'jose': 6035, 'gil': 4599, 'robl': 9552, 'charett': 1817, 'apo': 495, 'membership': 7074, 'delig': 2823, 'repor': 9376, 'indenbaum': 5595, 'modigliani': 7305, 'portrait': 8684, 'pres': 8787, 'offen': 7902, 'amidst': 363, 'inebri': 5617, 'hooton': 5288, 'richar': 9493, 'underf': 11881, 'albert': 260, 'osthryth': 8026, 'ecgfrith': 3447, 'bestow': 1060, 'archbishop': 541, 'theodor': 11334, 'duel': 3356, 'recou': 9230, 'contr': 2334, 'bagshot': 822, 'discret': 3070, 'trunch': 11714, 'indign': 5607, 'recei': 9205, 'unforgiv': 11940, 'lucrat': 6734, 'sking': 10257, 'tyr': 11799, 'peo': 8371, 'mistrust': 7272, 'carli': 1668, 'trea': 11635, 'aff': 163, 'cullam': 2581, 'dana': 2665, 'falangist': 3950, 'deaden': 2722, 'stude': 10878, 'nape': 7569, 'muff': 7464, 'prese': 8791, 'surkov': 11018, 'ri': 9486, 'russian': 9668, 'grind': 4814, 'busk': 1522, 'spars': 10550, 'adjectiv': 121, 'punctuat': 8980, 'eff': 3485, 'steadili': 10735, 'jessami': 5974, 'annoya': 439, 'tzann': 11803, 'leant': 6411, 'jeal': 5944, 'fritz': 4399, 'frustrati': 4419, 'decr': 2765, 'dotti': 3241, 'wheeler': 12496, 'irk': 5826, 'kisl': 6214, 'sculptor': 9887, 'stairwel': 10692, 'seventh': 10005, 'stubbl': 10872, 'sw': 11043, 'tabitha': 11115, 'campbel': 1596, 'mansel': 6885, 'trou': 11698, 'skipper': 10263, 'walsh': 12359, 'molineux': 7319, 'farrow': 3982, 'yi': 12795, 'yester': 12789, 'blo': 1187, 'opa': 7972, 'toppl': 11533, 'ridg': 9500, 'sli': 10297, 'overturn': 8119, 'dab': 2638, 'puffi': 8966, 'peev': 8341, 'unopen': 11994, 'gordon': 4711, 'cowan': 2451, 'midfield': 7153, 'suffus': 10950, 'circumstan': 1959, 'cro': 2529, 'florist': 4214, 'pavem': 8299, 'stu': 10870, 'crosser': 2541, 'vexat': 12220, 'frau': 4351, 'nordern': 7774, 'meryl': 7110, 'cecilia': 1745, 'drili': 3309, 'hou': 5326, 'slowco': 10319, 'abigail': 23, 'incredulou': 5588, 'landladi': 6322, 'insul': 5725, 'shackel': 10021, 'magistr': 6803, 'contemptu': 2323, 'ruc': 9630, 'res': 9395, 'dissipat': 3132, 'zealous': 12848, 'jaguar': 5904, 'rover': 9615, 'lawson': 6384, 'bellybutton': 1014, 'impugn': 5534, 'mcillvanney': 7012, 'hon': 5270, 'gu': 4851, 'lucien': 6729, 'nevil': 7661, 'cann': 1612, 'pedretti': 8334, 'scandalou': 9803, 'augu': 714, 'blackey': 1148, 'thrash': 11389, 'mot': 7403, 'roseberi': 9595, 'sothebi': 10513, 'exaspera': 3819, 'mystif': 7531, 'whereupon': 12504, 'galileo': 4474, 'charlott': 1823, 'thro': 11400, 'cyni': 2631, 'teac': 11205, 'tyremark': 11802, 'duva': 3390, 'plummer': 8595, 'shaw': 10056, 'cleveland': 2009, 'veteran': 12217, 'televi': 11242, 'doubtless': 3245, 'exasperat': 3820, 'robbi': 9546, 'payn': 8308, 'dersingham': 2884, 'goad': 4672, 'uncompromis': 11864, 'contemporar': 2321, 'cluck': 2049, 'irina': 5823, 'parkin': 8237, 'thrust': 11410, 'governm': 4730, 'tetchi': 11296, 'coney': 2251, 'psychiatr': 8943, 'repeal': 9362, 'hopkin': 5293, 'collus': 2121, 'hungarian': 5385, 'pact': 8152, 'governmen': 4731, 'apoplect': 500, 'loveitt': 6705, 'unansw': 11839, 'hers': 5158, 'violinist': 12266, 'instrum': 5722, 'pos': 8690, 'sta': 10678, 'situati': 10230, 'welfa': 12459, 'anxio': 469, 'oracl': 7994, 'affecti': 167, 'nig': 7702, 'waiter': 12339, 'wro': 12726, 'stephen': 10754, 'spielberg': 10591, 'helplin': 5126, 'sherwood': 10075, 'solicito': 10455, 'foc': 4242, 'fluctuat': 4225, 'conc': 2223, 'understo': 11893, 'timor': 11457, 'awri': 767, 'melbour': 7057, 'constitu': 2302, 'monmouth': 7348, 'proposa': 8907, 'truman': 11711, 'sino': 10214, 'dairen': 2647, 'liaotung': 6498, 'peninsula': 8360, 'manchur': 6859, 'gloucestershir': 4658, 'protestor': 8921, 'rifkind': 9503, 'chairman': 1789, 'scholey': 9831, 'offi': 7908, 'ey': 3905, 'inscrib': 5691, 'gladi': 4621, 'elola': 3554, 'helier': 5117, 'hospita': 5314, 'headbang': 5050, 'hank': 4964, 'poli': 8633, 'argum': 553, 'abolitionist': 31, 'spectrum': 10572, 'priso': 8842, 'stuc': 10874, 'picket': 8476, 'pledg': 8582, 'stringer': 10849, 'polanski': 8629, 'gaff': 4466, 'crc': 2485, 'cre': 2486, 'investigati': 5798, 'designati': 2893, 'rld': 9537, 'vanguard': 12147, 'disqui': 3118, 'represent': 9379, 'denti': 2857, 'immor': 5501, 'morali': 7374, 'shai': 10027, 'tung': 11748, 'jeffrey': 5955, 'whereabou': 12500, 'primat': 8827, 'bugger': 1468, 'parkhurst': 8236, 'microb': 7145, 'juggernaut': 6062, 'lorri': 6676, 'eec': 3480, 'rul': 9648, 'amend': 357, 'moudud': 7416, 'ahm': 222, 'memb': 7072, 'zal': 12839, 'armenian': 564, 'genocid': 4549, 'libel': 6501, 'privi': 8849, 'foyl': 4327, 'bookshop': 1279, 'dither': 3152, 'francesca': 4342, 'bower': 1321, 'chateau': 1832, 'positi': 8697, 'breathi': 1376, 'bilberri': 1104, 'picker': 8475, 'stati': 10725, 'kinnock': 6210, 'iss': 5863, 'gooseneck': 4708, 'fishban': 4140, 'unwari': 12053, 'reap': 9184, 'dra': 3274, 'rafferti': 9087, 'cli': 2011, 'childin': 1879, 'hor': 5295, 'brui': 1441, 'trench': 11656, 'silen': 10178, 'rabb': 9065, 'dea': 2719, 'reno': 9354, 'divor': 3166, 'ladyship': 6303, 'distraug': 3143, 'invitati': 5803, 'reprov': 9387, 'prefe': 8764, 'katarina': 6131, 'malici': 6841, 'wom': 12649, 'soci': 10422, 'mcwhinney': 7019, 'drumhark': 3330, 'comber': 2137, 'spectato': 10569, 'draught': 3288, 'disqualifi': 3117, 'celib': 1752, 'sce': 9815, 'inst': 5710, 'continui': 2332, 'whirl': 12520, 'figu': 4096, 'paster': 8267, 'faithless': 3947, 'lo': 6612, 'itemis': 5873, 'bedworth': 972, 'alf': 278, 'rambo': 9105, 'massac': 6953, 'aggi': 196, 'hobnail': 5228, 'fascinat': 3986, 'briant': 1387, 'melani': 7056, 'ursula': 12096, 'tiananmen': 11425, 'bland': 1160, 'peke': 8345, 'khmer': 6179, 'atroc': 683, 'cambodian': 1585, 'factio': 3933, 'horr': 5301, 'shepherd': 10071, 'eyewit': 3914, 'shrapnel': 10139, 'apa': 485, 'aston': 651, 'villa': 12247, 'norwich': 7786, 'contaminati': 2319, 'gough': 4726, 'whitlam': 12530, 'vi': 12222, 'recoil': 9224, 'lancast': 6320, 'aircraft': 234, 'festi': 4062, 'faldo': 3951, 'clos': 2035, 'hardbroom': 4985, 'reprimand': 9382, 'zola': 12868, 'smi': 10349, 'machi': 6780, 'backbench': 797, 'hims': 5197, 'fing': 4117, 'caba': 1544, 'tomorr': 11510, 'sailo': 9713, 'minicab': 7209, 'cabb': 1545, 'arou': 573, 'stri': 10841, 'maureen': 6986, 'spee': 10574, 'sergeant': 9981, 'agitat': 205, 'spaniard': 10542, 'indifferen': 5604, 'annabel': 433, 'hurrica': 5395, 'edgwar': 3464, 'multitudin': 7482, 'unrecept': 12011, 'abu': 49, 'portsmouth': 8687, 'machiavelli': 6781, 'ramsey': 9109, 'ashi': 614, 'unhappin': 11950, 'arca': 538, 'wiri': 12612, 'profus': 8877, 'spilt': 10594, 'assort': 645, 'gambler': 4482, 'beleagur': 1004, 'waken': 12342, 'preced': 8747, 'aga': 189, 'belgra': 1005, 'ind': 5592, 'primo': 8832, 'umpir': 11831, 'cumberbatch': 2589, 'fleme': 4182, 'zzap': 12880, 'estonian': 3744, 'populati': 8669, 'gould': 4727, 'ornitholog': 8017, 'natu': 7582, 'tamar': 11153, 'midday': 7150, 'bradi': 1340, 'directori': 3028, 'jeddah': 5950, 'printout': 8838, 'dism': 3094, 'thirtieth': 11373, 'linesman': 6558, 'offsid': 7913, 'gascoign': 4502, 'charlton': 1824, 'tes': 11290, 'supplier': 11004, 'lopez': 6670, 'competito': 2191, 'dusti': 3387, 'oblivio': 7869, 'bonami': 1266, 'dobr': 3179, 'skelton': 10244, 'dowag': 3254, 'duchess': 3348, 'cutback': 2619, 'constern': 2300, 'floyd': 4222, 'patterson': 8291, 'treatm': 11645, 'edouard': 3475, 'tina': 11459, 'wicked': 12549, 'confetti': 2255, 'cleo': 2006, 'melissa': 7060, 'pummel': 8973, 'electora': 3530, 'kendal': 6156, 'hume': 5370, 'coup': 2432, 'surpri': 11022}\n"
     ]
    }
   ],
   "source": [
    "print(Tfidf_vect.vocabulary_)"
   ]
  },
  {
   "cell_type": "code",
   "execution_count": 13,
   "metadata": {},
   "outputs": [
    {
     "output_type": "stream",
     "name": "stdout",
     "text": [
      "  (0, 6716)\t0.5215427632998677\n  (0, 5017)\t0.39089008466512565\n  (0, 4032)\t0.08166666801343207\n  (0, 2658)\t0.5241508425627386\n  (0, 2175)\t0.5420281702424553\n  (1, 11292)\t0.39378305844763717\n  (1, 9850)\t0.4245705775628263\n  (1, 8925)\t0.32668274133273345\n  (1, 4697)\t0.24710983249942306\n  (1, 4121)\t0.33181259940834945\n  (1, 4032)\t0.05590371347141585\n  (1, 3860)\t0.4847859799420308\n  (1, 3476)\t0.3855484043419911\n  (2, 12791)\t0.64431900298494\n  (2, 11486)\t0.4815601783069248\n  (2, 5478)\t0.29763985109665786\n  (2, 5290)\t0.5033820141742714\n  (2, 4032)\t0.10473721357048044\n  (3, 12700)\t0.24857805092047403\n  (3, 12104)\t0.2876430809094514\n  (3, 11662)\t0.2728770953461116\n  (3, 9182)\t0.22734345372430192\n  (3, 8885)\t0.39205336357426007\n  (3, 4032)\t0.062123127961459204\n  (3, 3922)\t0.46831736105658334\n  :\t:\n  (17160, 5446)\t0.3271458583352871\n  (17160, 4269)\t0.3077789934360871\n  (17160, 4032)\t0.043075684689973616\n  (17160, 3414)\t0.2801294121836162\n  (17160, 3224)\t0.2786239537552725\n  (17161, 12696)\t0.4515923084534507\n  (17161, 11845)\t0.6049124739415438\n  (17161, 11449)\t0.261071393681442\n  (17161, 8749)\t0.44781639056212397\n  (17161, 6682)\t0.3952367518417533\n  (17161, 4032)\t0.07235608857812546\n  (17162, 12721)\t0.3820901972699357\n  (17162, 10476)\t0.3310834117382362\n  (17162, 8798)\t0.4493312506142753\n  (17162, 4449)\t0.47167078120749967\n  (17162, 4032)\t0.07853924303497851\n  (17162, 3556)\t0.4366744582216805\n  (17162, 2140)\t0.3509500845402433\n  (17163, 10880)\t0.7861769684830281\n  (17163, 8855)\t0.34912405159583204\n  (17163, 8262)\t0.33003178206866957\n  (17163, 7793)\t0.17985593165473063\n  (17163, 6537)\t0.15828851092266633\n  (17163, 4032)\t0.060609875713363105\n  (17163, 476)\t0.3000670387983813\n"
     ]
    }
   ],
   "source": [
    "print(Train_X_Tfidf)"
   ]
  },
  {
   "source": [
    "#### Mise en place du modèle"
   ],
   "cell_type": "markdown",
   "metadata": {}
  },
  {
   "cell_type": "code",
   "execution_count": 14,
   "metadata": {},
   "outputs": [
    {
     "output_type": "execute_result",
     "data": {
      "text/plain": [
       "SVC(gamma='auto', kernel='linear')"
      ]
     },
     "metadata": {},
     "execution_count": 14
    }
   ],
   "source": [
    "SVM = svm.SVC(C=1.0, kernel='linear', degree=3, gamma='auto')\n",
    "SVM.fit(Train_X_Tfidf,y_train)"
   ]
  },
  {
   "cell_type": "code",
   "execution_count": 15,
   "metadata": {},
   "outputs": [],
   "source": [
    "predictions_SVM = SVM.predict(Test_X_Tfidf)"
   ]
  },
  {
   "cell_type": "code",
   "execution_count": 16,
   "metadata": {},
   "outputs": [
    {
     "output_type": "stream",
     "name": "stdout",
     "text": [
      "SVM Accuracy Score ->  91.21621621621621\n"
     ]
    }
   ],
   "source": [
    "print(\"SVM Accuracy Score -> \", accuracy_score(predictions_SVM, y_test)*100)"
   ]
  },
  {
   "source": [
    "### Second jeu de données"
   ],
   "cell_type": "markdown",
   "metadata": {}
  },
  {
   "source": [
    "#### Label encoding des émotions"
   ],
   "cell_type": "markdown",
   "metadata": {}
  },
  {
   "cell_type": "code",
   "execution_count": 17,
   "metadata": {},
   "outputs": [
    {
     "output_type": "execute_result",
     "data": {
      "text/plain": [
       "array(['empty', 'sadness', 'enthusiasm', 'neutral', 'worry', 'surprise',\n",
       "       'love', 'fun', 'hate', 'happiness', 'boredom', 'relief', 'anger'],\n",
       "      dtype=object)"
      ]
     },
     "metadata": {},
     "execution_count": 17
    }
   ],
   "source": [
    "text_emotion['label'].unique()"
   ]
  },
  {
   "cell_type": "code",
   "execution_count": 18,
   "metadata": {},
   "outputs": [],
   "source": [
    "conditions = [(text_emotion['label'] == \"sadness\") | (text_emotion['label'] == \"worry\") | (text_emotion['label'] == \"anger\") | (text_emotion['label'] == \"hate\"), (text_emotion['label'] == \"neutral\")| (text_emotion['label'] == \"boredom\") | (text_emotion['label'] == \"surprise\") | (text_emotion['label'] == \"empty\"), (text_emotion['label'] == \"love\") | (text_emotion['label'] == \"fun\") | (text_emotion['label'] == \"happiness\") | (text_emotion['label'] == \"relief\") | (text_emotion['label'] == \"enthusiasm\") ] "
   ]
  },
  {
   "cell_type": "code",
   "execution_count": 19,
   "metadata": {},
   "outputs": [],
   "source": [
    "values = [0, 1, 2]"
   ]
  },
  {
   "cell_type": "code",
   "execution_count": 20,
   "metadata": {},
   "outputs": [],
   "source": [
    "text_emotion['trinary_emotion'] = np.select(conditions, values)"
   ]
  },
  {
   "cell_type": "code",
   "execution_count": 21,
   "metadata": {},
   "outputs": [
    {
     "output_type": "execute_result",
     "data": {
      "text/plain": [
       "         tweet_id       label  \\\n",
       "0      1956967341       empty   \n",
       "1      1956967666     sadness   \n",
       "2      1956967696     sadness   \n",
       "3      1956967789  enthusiasm   \n",
       "4      1956968416     neutral   \n",
       "...           ...         ...   \n",
       "39995  1753918954     neutral   \n",
       "39996  1753919001        love   \n",
       "39997  1753919005        love   \n",
       "39998  1753919043   happiness   \n",
       "39999  1753919049        love   \n",
       "\n",
       "                                                    text  trinary_emotion  \n",
       "0      @tiffanylue i know  i was listenin to bad habi...                1  \n",
       "1      Layin n bed with a headache  ughhhh...waitin o...                0  \n",
       "2                    Funeral ceremony...gloomy friday...                0  \n",
       "3                   wants to hang out with friends SOON!                2  \n",
       "4      @dannycastillo We want to trade with someone w...                1  \n",
       "...                                                  ...              ...  \n",
       "39995                                   @JohnLloydTaylor                1  \n",
       "39996                     Happy Mothers Day  All my love                2  \n",
       "39997  Happy Mother's Day to all the mommies out ther...                2  \n",
       "39998  @niariley WASSUP BEAUTIFUL!!! FOLLOW ME!!  PEE...                2  \n",
       "39999  @mopedronin bullet train from tokyo    the gf ...                2  \n",
       "\n",
       "[40000 rows x 4 columns]"
      ],
      "text/html": "<div>\n<style scoped>\n    .dataframe tbody tr th:only-of-type {\n        vertical-align: middle;\n    }\n\n    .dataframe tbody tr th {\n        vertical-align: top;\n    }\n\n    .dataframe thead th {\n        text-align: right;\n    }\n</style>\n<table border=\"1\" class=\"dataframe\">\n  <thead>\n    <tr style=\"text-align: right;\">\n      <th></th>\n      <th>tweet_id</th>\n      <th>label</th>\n      <th>text</th>\n      <th>trinary_emotion</th>\n    </tr>\n  </thead>\n  <tbody>\n    <tr>\n      <th>0</th>\n      <td>1956967341</td>\n      <td>empty</td>\n      <td>@tiffanylue i know  i was listenin to bad habi...</td>\n      <td>1</td>\n    </tr>\n    <tr>\n      <th>1</th>\n      <td>1956967666</td>\n      <td>sadness</td>\n      <td>Layin n bed with a headache  ughhhh...waitin o...</td>\n      <td>0</td>\n    </tr>\n    <tr>\n      <th>2</th>\n      <td>1956967696</td>\n      <td>sadness</td>\n      <td>Funeral ceremony...gloomy friday...</td>\n      <td>0</td>\n    </tr>\n    <tr>\n      <th>3</th>\n      <td>1956967789</td>\n      <td>enthusiasm</td>\n      <td>wants to hang out with friends SOON!</td>\n      <td>2</td>\n    </tr>\n    <tr>\n      <th>4</th>\n      <td>1956968416</td>\n      <td>neutral</td>\n      <td>@dannycastillo We want to trade with someone w...</td>\n      <td>1</td>\n    </tr>\n    <tr>\n      <th>...</th>\n      <td>...</td>\n      <td>...</td>\n      <td>...</td>\n      <td>...</td>\n    </tr>\n    <tr>\n      <th>39995</th>\n      <td>1753918954</td>\n      <td>neutral</td>\n      <td>@JohnLloydTaylor</td>\n      <td>1</td>\n    </tr>\n    <tr>\n      <th>39996</th>\n      <td>1753919001</td>\n      <td>love</td>\n      <td>Happy Mothers Day  All my love</td>\n      <td>2</td>\n    </tr>\n    <tr>\n      <th>39997</th>\n      <td>1753919005</td>\n      <td>love</td>\n      <td>Happy Mother's Day to all the mommies out ther...</td>\n      <td>2</td>\n    </tr>\n    <tr>\n      <th>39998</th>\n      <td>1753919043</td>\n      <td>happiness</td>\n      <td>@niariley WASSUP BEAUTIFUL!!! FOLLOW ME!!  PEE...</td>\n      <td>2</td>\n    </tr>\n    <tr>\n      <th>39999</th>\n      <td>1753919049</td>\n      <td>love</td>\n      <td>@mopedronin bullet train from tokyo    the gf ...</td>\n      <td>2</td>\n    </tr>\n  </tbody>\n</table>\n<p>40000 rows × 4 columns</p>\n</div>"
     },
     "metadata": {},
     "execution_count": 21
    }
   ],
   "source": [
    "text_emotion"
   ]
  },
  {
   "source": [
    "#### Choix des variables"
   ],
   "cell_type": "markdown",
   "metadata": {}
  },
  {
   "cell_type": "code",
   "execution_count": 22,
   "metadata": {},
   "outputs": [],
   "source": [
    "X = new_list2\n",
    "y = text_emotion['trinary_emotion']\n",
    "X_train, X_test, y_train, y_test = train_test_split(X, y, test_size=0.2)"
   ]
  },
  {
   "source": [
    "#### Mise en place du modèle"
   ],
   "cell_type": "markdown",
   "metadata": {}
  },
  {
   "cell_type": "code",
   "execution_count": 23,
   "metadata": {},
   "outputs": [],
   "source": [
    "Tfidf_vect = TfidfVectorizer(analyzer=lambda x: x)\n",
    "Tfidf_vect.fit(X)\n",
    "Train_X_Tfidf = Tfidf_vect.transform(X_train)\n",
    "Test_X_Tfidf = Tfidf_vect.transform(X_test)"
   ]
  },
  {
   "cell_type": "code",
   "execution_count": 24,
   "metadata": {
    "tags": [
     "outputPrepend"
    ]
   },
   "outputs": [
    {
     "output_type": "stream",
     "name": "stdout",
     "text": [
      "22028, 'tofurki': 19390, 'lohang:': 11110, 'lester': 10842, 'jiuliani': 9859, 'iwish': 9623, 'jfc': 9830, 'meteor': 11982, 'ooww': 13629, 'lipstic': 10989, 'jester': 9815, 'tobleron': 19373, 'chichest': 3386, 'nitentdo': 13128, 'fragil': 6987, 'amigo': 669, ':mother': 34, 'yhaw': 21837, 'mumi': 12615, 'respit': 15817, 'vimto': 20637, 'droplet': 5474, 'nemecek': 12927, 'keed': 10187, 'intol': 9451, 'hawksmoor': 8368, 'yit': 21853, 'hitchik': 8658, 'allig': 539, 'meadowbank': 11828, 'thanku': 19004, 'cand': 2916, 'twtad': 20022, 'kinni': 10342, 'innit': 9353, 'carcassonn': 2967, 'tomb': 19411, 'but': 2701, 'theyu': 19088, 'inspiron': 9382, 'ddr': 4699, 'sae': 16311, 'silk': 17184, 'snowflak': 17537, 'luncheon': 11328, 'cyprus': 4515, 'yester': 21819, 'howlin': 8888, 'musta': 12667, 'walaikum': 20842, 'assalam': 1089, \"w'end\": 20787, 'dua': 5509, 'trotzdem': 19723, 'weh': 21064, 'nutmeg': 13335, 'rasberri': 15431, 'irwin': 9538, 'pu': 15115, 'greentea': 7911, 'chuf': 3517, 'pester': 14298, 'personnel': 14284, 'spaggetti': 17741, 'tripic': 19690, 'dreeaami': 5446, 'hounslow': 8859, 'exhusband': 6254, 'voil': 20731, 'tellmetwic': 18882, 'dollarosa': 5301, 'ironclad': 9527, 'softshock': 17592, 'chorleywood': 3485, 'dubstep': 5518, 'lyx': 11382, 'sammyandchellishow': 16372, 'whoott': 21255, 'bacoor': 1362, 'wahaha': 20810, 'toink': 19398, 'wiih': 21306, 'bubl': 2561, 'blg': 2044, 'aasman': 84, 'paar': 13890, 'shaayad': 16827, 'kellie:': 10209, 'alex:': 493, 'hahahahahahahaa': 8147, 'mifun': 12065, 'raven': 15450, 'thor': 19150, 'wonderfur': 21466, 'kittykiss': 10372, 'chweet': 3533, 'muax': 12578, 'skye': 17320, 'thrillseek': 19182, 'dictionari': 5014, 'mimmiz': 12123, 'supremist': 18466, 'abhor': 107, 'cottin': 4164, 'plis': 14607, 'status:': 18046, 'sonia': 17656, 'heartstr': 8444, 'lola': 11115, 'euch': 6126, 'janett': 9705, 'aslyum': 1080, 'chergo': 3354, 'overheardinlondon': 13823, 'wasstraat': 20930, 'ffanci': 6571, 'scarabeo': 16516, 'autumn': 1217, 'polyest': 14695, 'sylvest': 18600, 'sheena': 16914, 'othman': 13742, 'likewith': 10939, 'mkting': 12254, 'mcdick': 11790, 'rblpnbro': 15470, 'trax': 19632, 'charni': 3283, 'trishi': 19698, 'alor': 572, 'quich': 15291, 'vesak': 20575, 'hannahisdead:': 8256, 'fuckyeah': 7176, 'norr': 13214, 'dishes:': 5147, 'torta': 19498, 'itlog': 9592, 'breakfastservic': 2382, 'marjolein': 11633, 'guido': 8040, 'dirk': 5096, 'frapp': 7011, 'saigon': 16328, 'hanoi': 8258, 'jihoon': 9845, 'mime': 12119, 'easel': 5651, 'tweetbreak': 19884, 'horn': 8814, 'strek': 18194, 'dorian': 5354, 'scriptgirl': 16623, 'sharn': 16882, 'twitterhead': 19986, 'poutin': 14807, 'hedburg': 8464, 'outz': 13791, 'youz': 21920, 'bellss': 1759, 'ringin': 15968, 'adieu': 236, 'favourti': 6473, 'ging': 7567, 'leavingg': 10772, 'boyfrienndd': 2315, 'nightz': 13088, 'dibster': 5009, 'tys': 20054, 'thelovelybones:': 19049, 'premir': 14885, 'mcsmoothi': 11818, 'guapisimo': 8020, 'skateprk': 17283, 'handbal': 8231, 'arcadia': 940, \"mariachi'nin\": 11618, 'yeni': 21801, 'kampanyasi': 10090, 'berab': 1796, 'gelistirdigimiz': 7426, 'uygulamasi': 20445, \"hurriyet'\": 8994, 'haber': 8107, 'olmus:': 13541, 'amma': 675, 'shepherd': 16939, 'clad': 3600, 'playset': 14576, 'mfr': 12004, 'amish': 672, 'proto': 15064, 'acen': 172, 'tyg': 20038, 'superfli': 18435, 'jdorama': 9761, 'brendon': 2407, 'deathstar': 4727, 'enterpric': 5973, 'okey': 13520, 'hermit': 8545, 'reefri': 15622, 'ahhahahaha': 389, 'ariyan': 975, 'hamish': 8215, 'binari': 1920, 'zirconcod': 22024, 'busyy': 2700, 'ida': 9090, 'quester': 15285, 'sequest': 16764, 'albion': 476, 'anyonewithbik': 828, 'twitdroid': 19957, 'underst': 20209, 'orderd': 13684, 'cinerama': 3564, 'youporn': 21903, 'sooper': 17667, 'dooper': 5347, 'bharia': 1867, 'dhumchik': 4989, 'beautyy': 1662, 'feckin': 6501, 'gdgd': 7403, 'imna': 9206, 'yani': 21730, 'cyjvgnp': 4509, 'sowyy': 17730, 'rugrat': 16199, 'anndd': 760, 'biker': 1906, 'zomg': 22035, 'hugger': 8934, 'larin': 10655, 'rirakkuma': 15981, 'divers': 5199, 'atcha': 1124, 'hue': 8925, 'caveat': 3111, 'kakabalik': 10075, 'tarlac': 18752, 'mme': 12260, 'equipment:': 6033, 'coolmax': 4086, 'yoda': 21864, 'deceit': 4744, 'tatum': 18783, 'outdat': 13765, 'bigot': 1901, 'patronis': 14112, 'imperialist': 9218, 'monoculturalist': 12363, 'righteous': 15958, 'jfufnfwucnbqj': 9834, 'romina': 16091, 'kaleidoscop': 10080, 'greshamblak': 7922, 'eexcit': 5742, 'reallyy': 15518, 'gahif': 7294, 'melika': 11898, 'hoorayi': 8791, 'pantien': 13992, 'ideia': 9097, 'yourselff': 21910, 'bubb': 2554, 'viz': 20700, 'rhix': 15906, 'anonym': 778, \"round'n'round\": 16143, 'geocod': 7458, 'ssm': 17951, 'funzen': 7226, 'iloveitwhen': 9167, 'unassum': 20166, 'unpretenti': 20310, 'rerecord': 15795, 'awestruck': 1267, 'pangaea': 13977, 'killah': 10308, 'mikeywayday': 12082, 'dramathon': 5420, 'datapoint': 4644, 'evok': 6196, 'danapoint': 4582, 'gpgmail': 7805, 'twatt': 19862, 'sgb': 16822, 'tare': 18749, 'castil': 3061, 'urechi': 20383, 'drumu': 5489, 'muzichii': 12685, 'vopseaua': 20753, 'afectat': 294, 'rau': 15444, 'iyla': 9630, 'printchick': 14963, 'sharen': 16876, 'amarula': 631, 'timestamp:': 19280, 'cest': 3192, 'legaci': 10792, 'hiyahh': 8666, 'listnin': 11010, 'agreement:': 358, 'schoolbook': 16557, ':i': 30, 'pww': 15214, 'kwento': 10520, 'anyho': 822, 'mumzi': 12621, 'idyl': 9116, 'geordiebird': 7469, 'chng': 3454, 'feedicon': 6508, 'bossman': 2262, 'powershel': 14819, 'overher': 13825, 'bringtaraback': 2443, 'ishra': 9551, 'ventura': 20545, 'psychiatr': 15102, 'beeman': 1699, 'crocodil': 4333, 'wooden': 21480, 'implic': 9222, 'lindi': 10965, 'olympiou': 13544, 'diamanti': 4999, 'thessaloniki': 19078, 'cancertown': 2912, 'mazi': 11769, 'kristina': 10480, \"d'awhh\": 4524, 'dono': 5331, 'funnili': 7218, 'roland': 16068, 'fuckn': 7173, 'urrxta': 20397, 'rigid': 15959, 'cuckoo': 4403, 'yehh': 21793, 'mandingo': 11561, 'oxoxo': 13874, ':o:o:o:o:o:o:o': 36, 'foxi': 6980, 'givein': 7594, 'arun': 1039, 'tantal': 18732, 'communism': 3888, 'night:': 13077, 'ecpm': 5699, 'anwb': 814, 'years:': 21774, 'abba': 95, 'siberia': 17128, 'epi': 6011, 'learner': 10761, 'bent:': 1789, 'turnon': 19835, 'rullz': 16208, 'excti': 6242, 'jerseyz': 9808, 'qiuqiu': 15238, 'rossi': 16127, 'reliabl': 15695, 'automobil': 1213, 'juan': 9987, 'pelota': 14206, 'greenday': 7902, 'flatmat': 6746, 'correction:': 4141, 'faceti': 6349, 'aikido': 414, 'xloser': 21672, 'saya': 16488, 'members:': 11912, 'nunawad': 13321, 'teatre': 18824, 'alist': 519, 'helena': 8496, 'cantab': 2933, 'trait': 19590, 'sftw': 16820, 'officialshew': 13460, 'maar': 11393, 'timthumb': 19289, 'bgeezi': 1856, 'coca': 3743, 'fructos': 7138, 'disater': 5111, 'ferrari': 6551, 'chocoslam': 3465, 'blokey': 2076, 'heavyweight': 8457, 'scanlon': 16512, 'hoars': 8685, 'robber': 16020, 'kimosav': 10325, 'butti': 2724, 'dillybar': 5063, 'cafe:': 2796, 'misog': 12201, 'sion': 17229, 'sierr': 17152, 'uy': 20444, 'saying:': 16493, 'quil': 15301, 'kuwait': 10518, 'renown': 15748, 'anesthet': 728, 'defici': 4792, 'emir': 5886, 'richter': 15932, 'grungi': 8005, 'adress': 259, 'loco_crime_': 11096, 'smashspac': 17447, 'ssbb': 17948, 'greatfirewallofchina': 7890, 'wyat': 21642, 'donkey': 5325, 'echt': 5686, 'angetan': 735, 'sst': 17955, 'mcnugget': 11814, 'queenrania': 15275, 'tweeterz': 19894, 'location:': 11088, 'savior': 16480, 'shabbi': 16828, 'gmn': 7656, 'punya': 15168, 'antibacteri': 796, 'metalcor': 11974, 'exxager': 6310, 'xhaust': 21664, 'corr': 4138, 'dinn': 5075, 'kd': 10179, 'derham': 4906, 'yeem': 21786, 'camerabag': 2879, 'lolo': 11124, 'hindustan': 8642, 'dunia': 5562, 'asay': 1048, 'nehi': 12910, 'milegi': 12091, 'quaver': 15270, 'stoneheng': 18137, 'awekay': 1256, 'mort': 12446, 'dur': 5576, 'prend': 14887, 'buger': 2593, 'minibus': 12142, 'dati': 4647, 'lian': 10877, 'eina': 5778, 'franci': 7001, 'about': 118, 'arizzard': 977, 'emarosa': 5864, 'gingg': 7569, 'watergun': 20951, 'broughti': 2502, 'akin': 454, 'mamacita': 11532, 'muuaah': 12682, 'opus': 13667, 'mg': 12006, 'mchale': 11804, 'puyallup': 15203, 'rustl': 16239, 'smarter': 17441, 'classier': 3625, 'selalu': 16704, 'ruang': 16185, 'sahabat': 16322, 'smuggl': 17487, 'prodigi': 15007, 'shreddi': 17088, 'wright': 21593, 'maita': 11489, 'thatv': 19022, 'wacko': 20799, 'jealz': 9767, 'thh': 19091, 'sampsonn': 16375, 'gustar': 8075, 'earlybird': 5635, 'laka': 10581, 'nalang': 12781, 'bandana': 1455, 'identifi': 9100, 'frist': 7114, 'phog': 14361, 'coffin': 3772, 'subit': 18283, 'ravish': 15453, 'as:': 1042, 'boyfrann': 2313, 'nako': 12778, 'umuulan': 20154, 'wheew': 21182, 'tweat': 19865, 'doogi': 5342, 'howser': 8891, 'naina': 12769, 'familia': 6391, 'trixter': 19705, 'fanboy': 6402, 'tangibl': 18722, 'pussycat': 15196, 'maroon': 11649, 'morrningg': 12442, 'bravi': 2364, 'rentaphon': 15752, 'yesi': 21812, 'fitzcarraldo': 6706, 'cherrylolita:': 3359, 'noghti': 13167, 'defunct': 4803, 'grisham': 7951, 'boyzon': 2321, 'derni': 4909, 'sofi': 17586, 'twittertaleov': 20004, 'shute': 17114, 'hollyweird': 8730, 'aracheologist': 933, 'buxton': 2730, 'micheal': 12027, 'sheen': 16913, 'volturi': 20741, 'izon': 9634, 'goona': 7751, 'teeve': 18852, 'areo': 958, 'lumpi': 11321, 'chatter': 3294, 'wadg': 20802, 'nurtur': 13329, 'milf': 12095, 'sociabl': 17564, 'everryth': 6176, 'breadtalk': 2376, 'khayyam': 10269, 'wakil': 20836, 'elisa': 5824, 'ise': 9548, 'shelan': 16924, 'rae': 15356, 'gatorad': 7373, 'yumyum': 21952, 'aris': 974, 'skankin': 17279, 'hallelujah': 8198, 'cohen': 3775, 'xfactor': 21662, 'tought': 19529, 'famin': 6394, 'ipt': 9506, 'ngobrolin': 13028, 'cii': 3553, 'kesian': 10237, 'kamu': 10091, 'speakernya': 17778, 'rusak': 16229, 'benerin': 1779, 'allsort': 550, 'reiki': 15671, 'cruet': 4357, 'ohtay': 13493, 'nevertheless': 12978, 'waltzer': 20868, 'emul': 5907, 'activeresourc': 200, 'bussi': 2696, 'kuantan': 10500, 'trian': 19662, 'whistler': 21216, 'shooee': 17023, 'farro': 6434, 'prerecord': 14894, 'admk': 248, 'hyderabad': 9023, 'hahahaah': 8139, 'lamo': 10605, 'oneshot': 13590, 'thurther': 19218, 'hypnosi': 9039, 'ohi': 13479, 'pastrana': 14090, 'tamlyn': 18713, 'watti': 20963, 'overplay': 13833, 'hhahaa': 8585, 'loli': 11119, 'applescript': 894, 'oda': 13429, 'bitbett': 1957, 'jackshit': 9653, 'gerai': 7474, 'shecki': 16910, 'maxxi': 11752, 'anwar': 812, 'twittertakeov': 20003, 'scattegori': 16527, 'tallebudgera': 18705, 'darkest': 4621, 'yogulici': 21868, 'competitor': 3913, 'sugarfre': 18338, 'facepanda': 6347, 'laast': 10536, 'brawn': 2368, 'mclaren': 11808, 'khichadi': 10272, 'mendelssohn': 11930, 'symphoni': 18610, 'ranchero': 15412, 'papabear': 14000, 'zdf': 21990, 'fernsehgarten': 6549, 'leisur': 10810, 'curious:': 4447, 'garner': 7353, 'boya': 2310, 'smap': 17435, 'lonesometown': 11138, 'houseofrock': 8865, 'thxx': 19224, 'pointless': 14663, 'missinmydgbigtym': 12210, 'jenson': 9798, 'schuhmach': 16563, 'fotc': 6961, 'empitom': 5900, 'ffrecommend': 6574, 'fend': 6538, 'franco': 7003, 'everest': 6169, 'boofi': 2198, 'uhuru': 20115, 'toothpick': 19467, 'dbar': 4688, 'timez': 19282, 'englisch': 5942, 'upss': 20368, 'writen': 21599, 'chesca': 3362, 'ascari': 1051, 'unabash': 20158, 'byw': 2763, 'johno': 9907, 'chairman': 3215, 'ivfm': 9618, 'pyyuci': 15224, 'skus': 17316, 'scotter': 16589, 'yoou': 21879, 'netplay': 12963, 'weightless': 21071, 'gott': 7784, 'qc': 15230, 'finnali': 6668, 'dg': 4979, 'brlliant': 2464, 'jiah': 9840, 'absoulut': 128, 'lewish': 10861, 'nomint': 13182, 'remmber': 15728, 'mooch': 12387, 'headsup': 8417, 'toolbar': 19459, 'mariqueen': 11631, 'toniight': 19447, 'uniteddog': 20273, 'weetabix': 21058, 'turbines:': 19825, 'pegel': 14197, 'kelil': 10204, 'kuil': 10505, 'ambienc': 646, 'realx': 15520, 'fryeffect': 7147, 'soccergam': 17563, 'iono': 9490, 'wiser': 21382, 'rol': 16067, 'gda': 7400, 'girlish': 7580, 'buongiorno': 2652, 'listenen': 11004, 'dbuc': 4692, 'kyneton': 10529, 'daylesford': 4672, 'mcd': 11789, 'sumbodi': 18361, 'gramma': 7836, 'geodefens': 7459, 'louder': 11211, 'karl': 10127, 'alen': 488, 'genni': 7446, 'pcso': 14149, 'garley': 7351, 'inbrug': 9252, 'teheh': 18858, 'elijah': 5820, 'mcglaclan': 11801, 'jpnnbak': 9978, 'glre': 7644, 'baseship': 1538, 'skrg': 17313, 'sempit': 16725, 'waktunya': 20839, 'havealovelytim': 8351, 'lilim': 10945, 'presents:': 14905, 'recepi': 15551, 'keiron': 10198, 'mychem': 12700, 'slash': 17343, 'cuold': 4429, 'natalyy': 12839, 'bilko': 1912, 'lushh': 11343, 'citeh': 3580, 'oii': 13499, 'marko': 11640, 'roseland': 16122, 'vri': 20771, 'bruxel': 2526, 'catchyy': 3078, 'xmind': 21675, 'preview:': 14932, 'candic': 2920, 'rus': 16228, 'mascot': 11679, 'virl': 20661, 'westend': 21122, 'aprreci': 914, 'viritu': 20660, 'destroyalin': 4938, 'duckrac': 5524, 'polyvor': 14696, 'yesti': 21823, 'fayr': 6477, 'cipriano': 3569, 'amaiz': 625, 'tbqh': 18800, 'unixodbc': 20280, 'waldi': 20845, 'bonzo': 2190, 'mattern': 11730, 'smtime': 17483, 'solitud': 17611, 'realz': 15521, ':wave': 53, 'boffert': 2154, 'ronaldo': 16098, 'awsum': 1281, 'dampier': 4578, 'tiberiu': 19228, 'aflat': 307, 'sunt': 18424, 'imbecili': 9186, 'groul': 7974, 'auntiegail': 1191, 'vest': 20577, 'childmind': 3404, 'headbutt': 8404, 'wonderfuli': 21465, 'mader': 11439, 'wirt': 21376, 'almo': 561, 'listenint': 11007, 'afh': 305, 'vulcan': 20781, 'acsm': 193, 'unfathom': 20229, 'overpow': 13834, 'unparallel': 20304, 'sublimin': 18286, 'phoenixfm': 14360, 'seriuosli': 16780, 'genoes': 7448, 'zhonguoren': 22011, 'muslim': 12661, 'briyani': 2463, 'flicker': 6767, 'yeehah': 21785, 'topifi': 19476, 'midyr': 12062, 'hmd': 8672, 'klum': 10388, 'estou': 6107, 'slimi': 17386, 'reden': 15597, 'zebra': 21995, 'jls': 9873, 'antcam': 791, 'lan': 10608, 'compr': 3934, 'abhi': 106, 'cass': 3047, 'empress': 5905, 'mpaa': 12521, 'videorecord': 20614, 'cantera': 2935, 'urbanoutfitt': 20380, 'soetim': 17583, 'goodtim': 7742, 'kaila': 10070, 'ocampo': 13408, 'rainbowhol': 15383, 'env': 5991, 'sippin': 17232, 'euruko': 6142, 'mutha': 12675, 'wp': 21579, 'rawknrol': 15458, 'sanh': 16402, 'theolog': 19057, 'afterlif': 318, 'mammyy': 11541, 'knitterati': 10407, 'ravelri': 15449, 'parnoid': 14049, 'chroni': 3507, 'rajendran': 15395, 'wthr': 21621, 'performac': 14257, 'bradie': 2335, 'hag': 8127, 'fii': 6620, 'mushkila': 12647, \"ma'a\": 11388, 'ammox': 677, 'robbinson': 16023, 'coontail': 4089, 'rishlov': 15983, 'smile:': 17460, 'bithday': 1962, 'momduk': 12326, 'jba': 9752, 'sliverlight': 17396, 'jumper': 10020, 'thatmak': 19020, 'carbonara': 2966, 'lina': 10961, 'birthdaypres': 1948, 'rieger': 15949, 'begonia': 1719, 'camool': 2885, 'streetcar': 18190, 'kyoto': 10530, 'impli': 9221, 'profiel': 15018, 'jole': 9916, 'erwin': 6069, 'blom': 2077, 'turkish': 19831, 'ceasar': 3140, 'valk': 20480, 'corney': 4128, 'tadi': 18658, 'be': 1624, 'koala': 10429, 'pubquizz': 15120, 'sinon': 17226, 'bip': 1937, 'kneel': 10399, 'pairung': 13934, 'ejam': 5789, 'rapidshar': 15426, 'tanc': 18718, 'vapid': 20498, 'bachus': 1337, 'goodmornin': 7738, 'embarres': 5871, 'jalapeno': 9687, 'chaparro': 3253, 'thirst': 19121, 'stealthi': 18061, 'mamba': 11535, 'snazz': 17504, 'youregreat': 21907, 'mngr': 12269, 'frankfurt': 7006, 'crikey': 4313, 'inflict': 9320, 'maternalhealth': 11716, 'there:': 19068, 'scarepoint': 16520, 'exploit': 6284, 'basslin': 1553, 'otara': 13729, 'redirect': 15604, 'keyla': 10254, 'janic': 9708, 'rippl': 15978, 'frehley': 7056, 'jovani': 9963, 'evelyn': 6154, 'immigr': 9202, 'robsessedpattinson': 16034, 'handbook': 8232, 'disciplin': 5117, 'grievanc': 7935, 'residenti': 15808, 'flowi': 6804, 'oystser': 13882, 'platter': 14556, 'somwher': 17647, 'luket': 11310, 'heathfox': 8451, 'dreamweav': 5443, 'light:': 10924, 'looki': 11161, 'mhc': 12012, 'wd': 20990, 'pitta': 14506, 'bornean': 2256, 'bristlehead': 2448, 'titti': 19330, 'businessi': 2693, 'afflict': 301, 'tada': 18657, 'nasism': 12832, 'lucien': 11289, 'kerk': 10233, 'prezzi': 14935, '_is': 58, 'plansem': 14541, 'constanc': 4024, 'jfk': 9832, 'horseforth': 8828, 'jah': 9668, 'prerequisit': 14895, 'gaydar': 7386, 'apperici': 884, 'sanath': 16384, 'jaya': 9740, 'bubblewrap': 2559, 'crunchi': 4366, 'budda': 2575, 'hawndog': 8369, 'basil': 1543, 'telegraph': 18869, 'neway': 12984, 'nesquik': 12948, 'loretta': 11185, 'canazarro': 2906, 'squarespac': 17920, 'vivoc': 20698, 'yupz': 21959, 'aircondit': 426, 'meka': 11887, 'scorecard': 16583, 'keswick': 10238, 'woould': 21508, 'nogard': 13165, 'infront': 9327, 'accordion': 165, 'swansea': 18522, 'hatti': 8341, 'hedgehog': 8466, 'pram': 14846, 'wimbledon': 21338, 'peruvian': 14290, 'thar': 19011, 'tong': 19438, 'ch:': 3201, 'banh': 1469, 'trong': 19716, 'quirki': 15309, 'concerto': 3953, 'ska': 17276, 'smb': 17448, 'seria': 16775, 'mors': 12445, 'plangi': 14538, 'pulish': 15142, 'hatr': 8340, 'karishmaa': 10126, 'luvv': 11356, 'fashionisthenextc': 6442, 'calmer': 2859, 'ching': 3426, 'chong': 3475, 'buttfuck': 2721, 'guava': 8025, 'tyla': 20040, 'inc': 9253, 'skomer': 17309, 'analyz': 703, 'twello': 19913, 'foodi': 6891, \"u'l\": 20061, 'happymoth': 8277, 'enjoyin': 5950, 'addl': 224, 'ado': 250, 'kiokudb': 10344, 'catalyst': 3072, 'tutus': 19848, 'urselff': 20399, 'stepsist': 18082, 'jaiho': 9671, 'rach': 15333, 'yh': 21836, 'eekk': 5735, 'thabk': 18993, 'catvampe': 3096, 'garden:': 7345, 'localgovcamp': 11086, 'sybas': 18597, 'ase': 1055, 'sparc': 17755, 'solari': 17602, 'akankah': 448, 'suatu': 18277, 'mendapatkannya': 11928, 'at': 1120, 'rhode': 15907, 'fillet': 6631, 'mesaj': 11962, 'eroare:': 6058, 'forbiddenyou': 6911, 'jpg': 9975, 'ghicit': 7521, 'kiyosaki': 10376, 'birder': 1940, 'carnag': 3000, 'speakerphon': 17779, 'ilif': 9150, 'karla': 10128, 'collabro': 3801, 'jphlip': 9976, 'pseudo': 15089, 'werid': 21113, 'alpha:': 578, 'cuil': 4413, 'miz': 12244, 'cassio': 3054, 'tysm': 20055, 'clayton': 3634, 'huckabe': 8922, 'maya': 11754, 'kibbel': 10282, 'jae': 9661, 'save:summ': 16475, 'crete': 4306, 'gp': 7802, 'menageri': 11925, 'loungey': 11221, 'treki': 19645, 'linuxoutlaw': 10984, 'suivez': 18350, 'luigi': 11306, 'barista': 1512, 'sdn': 16638, \"'p\": 12, 'playboy': 14563, 'montmel': 12382, 'misanthrop': 12184, 'twiit': 19931, 'mbb': 11772, 'puls': 15147, 'agfest': 343, 'apparat': 877, 'teus': 18965, 'jessandnicolemus': 9810, 'quickpwn': 15295, 'iflow': 9123, 'twittererer': 19978, 'cryopreserv': 4377, 'omlett': 13572, 'omnomlett': 13576, 'peen': 14189, 'jolli': 9919, 'people': 14237, 'ludi': 11298, 'yinz': 21844, 'congrad': 3994, 'covershot': 4215, 'kelana': 10201, 'coffeeshop': 3769, 'gradual': 7829, 'ptfe': 15111, 'grice': 7930, 'cactus': 2787, 'heao': 8428, 'bludger': 2097, 'beater': 1646, 'quidditch': 15297, 'wheniwerealad': 21186, 'pleze': 14604, 'whalen': 21143, 'misunderstand': 12229, 'kickoff': 10288, 'tsar': 19764, 'crept': 4304, 'dongl': 5323, 'alreet': 586, 'dreamgirl': 5439, 'twitwoo': 20014, 'celebritytweet': 3151, 'lustig': 11346, 'armer': 986, 'garantiefal': 7339, 'mybrut': 12698, 'barcampbkk': 1503, 'pentecost': 14232, 'portugal:': 14762, 'adorei': 256, 'fonzi': 6888, 'corlain': 4121, 'shezz': 16954, 'hving': 9014, 'photomedia': 14381, 'tripod': 19693, 'viewfind': 20627, 'unfocus': 20233, 'name:': 12788, 'u:': 20065, 'live:': 11027, 'shatranjanpoli': 16890, 'andheri': 715, 'gettng': 7501, 'foul': 6967, 'reactionari': 15494, 'luat': 11279, 'examenul': 6221, 'spss': 17910, 'garageband': 7338, 'chillingoutnow': 3417, 'mimick': 12121, 'accent:': 154, 'euruko:': 6143, 'ful': 7186, 'yep:': 21803, 'sisch': 17240, 'broom': 2494, 'swiffer': 18562, 'brotherhood': 2500, 'magician': 11456, 'sxswi': 18591, \"m'off\": 11385, 'satde': 16453, 'piggl': 14434, \"g'nyt\": 7267, 'gosl': 7770, 'primatech': 14950, 'anych': 820, 'link:': 10976, 'whaataat': 21138, 'sierra': 17153, 'dap': 4611, 'unfortunatelli': 20240, 'mccartney': 11785, 'suni': 18407, 'tisk': 19319, 'tfl': 18980, 'hws': 9018, 'kmrn': 10393, 'kosong': 10462, \"wha'dya\": 21135, 'gatwick': 7374, 'frolic': 7126, 'consumm': 4035, 'degreas': 4811, 'ipsohot': 9504, 'sightse': 17162, 'gaijin': 7295, 'godzilla': 7700}\n"
     ]
    }
   ],
   "source": [
    "print(Tfidf_vect.vocabulary_)"
   ]
  },
  {
   "cell_type": "code",
   "execution_count": 25,
   "metadata": {},
   "outputs": [
    {
     "output_type": "stream",
     "name": "stdout",
     "text": [
      "  (0, 20278)\t0.2811970061530342\n  (0, 19163)\t0.18799657661288752\n  (0, 19114)\t0.1455868708563478\n  (0, 18306)\t0.25617095326090217\n  (0, 15515)\t0.1472556895039614\n  (0, 14652)\t0.6310393624271096\n  (0, 13735)\t0.2532629219013494\n  (0, 13236)\t0.09181134430007659\n  (0, 8436)\t0.343221068394199\n  (0, 6165)\t0.1892486277156972\n  (0, 6160)\t0.24872383087622488\n  (0, 4174)\t0.16542958856361148\n  (0, 4006)\t0.2519004830804535\n  (1, 17879)\t0.5537785630293834\n  (1, 17684)\t0.2569171973575678\n  (1, 14362)\t0.29131931334003763\n  (1, 13236)\t0.1426266398697693\n  (1, 7488)\t0.1892067483342654\n  (1, 6568)\t0.39343765010484805\n  (1, 6181)\t0.28688803526591233\n  (1, 1001)\t0.3112654806412272\n  (1, 195)\t0.39029505986213975\n  (2, 20059)\t0.3890440676277751\n  (2, 19273)\t0.18094488501116684\n  (2, 13236)\t0.11926953237411246\n  :\t:\n  (31997, 9047)\t0.247913106430939\n  (31997, 8400)\t0.2704263922122376\n  (31997, 6814)\t0.4647735138321617\n  (31997, 1956)\t0.28542962277071204\n  (31997, 1687)\t0.25666311724238444\n  (31998, 21766)\t0.20934098699014983\n  (31998, 20410)\t0.2247036185557252\n  (31998, 20062)\t0.40336752591123715\n  (31998, 20059)\t0.18498071736084612\n  (31998, 19273)\t0.17206952845334597\n  (31998, 14838)\t0.3095700909697825\n  (31998, 13587)\t0.17510110181500677\n  (31998, 13453)\t0.2614215763884805\n  (31998, 12892)\t0.1893368002435532\n  (31998, 11026)\t0.2262838049018381\n  (31998, 10843)\t0.22460687991890071\n  (31998, 7671)\t0.14242466358082556\n  (31998, 7488)\t0.30092144672778126\n  (31998, 7421)\t0.3539412413043838\n  (31998, 5527)\t0.2699560044655075\n  (31998, 3844)\t0.19449427904506128\n  (31999, 17074)\t0.3498908656082564\n  (31999, 7671)\t0.2319255596442354\n  (31999, 5834)\t0.5891303926905707\n  (31999, 5170)\t0.6904435511726266\n"
     ]
    }
   ],
   "source": [
    "print(Train_X_Tfidf)"
   ]
  },
  {
   "cell_type": "code",
   "execution_count": 26,
   "metadata": {},
   "outputs": [
    {
     "output_type": "execute_result",
     "data": {
      "text/plain": [
       "SVC(gamma='auto', kernel='linear')"
      ]
     },
     "metadata": {},
     "execution_count": 26
    }
   ],
   "source": [
    "SVM = svm.SVC(C=1.0, kernel='linear', degree=3, gamma='auto')\n",
    "SVM.fit(Train_X_Tfidf,y_train)"
   ]
  },
  {
   "cell_type": "code",
   "execution_count": 27,
   "metadata": {},
   "outputs": [],
   "source": [
    "predictions_SVM = SVM.predict(Test_X_Tfidf)"
   ]
  },
  {
   "cell_type": "code",
   "execution_count": 28,
   "metadata": {},
   "outputs": [
    {
     "output_type": "stream",
     "name": "stdout",
     "text": [
      "SVM Accuracy Score ->  57.550000000000004\n"
     ]
    }
   ],
   "source": [
    "print(\"SVM Accuracy Score -> \",accuracy_score(predictions_SVM, y_test)*100)"
   ]
  },
  {
   "source": [
    "Les résultats obtenus dans les deux jeux de données sont différents. \n",
    "Dans un premier temps, nous avons réalisé deux modèles différents. Ensuite, la différence notable entre ces deux jeux de données est la nature du texte implanté dans ces jeux de données. Dans le premier jeu, notre texte présente un langage plus soutenu alors que le second se compose de tweets donc présentant un langage plus courant. L'accuracy peut donc être expliqué par le niveau de langue.\n",
    "On peut également supposer que le nombre d'émotions de chacun des deux jeux de données influence le résultat."
   ],
   "cell_type": "markdown",
   "metadata": {}
  },
  {
   "source": [
    "## Etape 2 : Combiner les deux jeux de données pour améliorer les résultats de prédiction"
   ],
   "cell_type": "markdown",
   "metadata": {}
  },
  {
   "cell_type": "code",
   "execution_count": 29,
   "metadata": {},
   "outputs": [],
   "source": [
    "emotion_final_extracted = emotion_final[['text', 'label']]\n",
    "text_emotion_extracted = text_emotion[['text', 'label']]\n",
    "new_emotion_text = pd.concat([emotion_final_extracted, text_emotion_extracted])"
   ]
  },
  {
   "cell_type": "code",
   "execution_count": 30,
   "metadata": {},
   "outputs": [
    {
     "output_type": "execute_result",
     "data": {
      "text/plain": [
       "                                                text    label\n",
       "0                            i didnt feel humiliated  sadness\n",
       "1  i can go from feeling so hopeless to so damned...  sadness\n",
       "2   im grabbing a minute to post i feel greedy wrong    anger\n",
       "3  i am ever feeling nostalgic about the fireplac...     love\n",
       "4                               i am feeling grouchy    anger"
      ],
      "text/html": "<div>\n<style scoped>\n    .dataframe tbody tr th:only-of-type {\n        vertical-align: middle;\n    }\n\n    .dataframe tbody tr th {\n        vertical-align: top;\n    }\n\n    .dataframe thead th {\n        text-align: right;\n    }\n</style>\n<table border=\"1\" class=\"dataframe\">\n  <thead>\n    <tr style=\"text-align: right;\">\n      <th></th>\n      <th>text</th>\n      <th>label</th>\n    </tr>\n  </thead>\n  <tbody>\n    <tr>\n      <th>0</th>\n      <td>i didnt feel humiliated</td>\n      <td>sadness</td>\n    </tr>\n    <tr>\n      <th>1</th>\n      <td>i can go from feeling so hopeless to so damned...</td>\n      <td>sadness</td>\n    </tr>\n    <tr>\n      <th>2</th>\n      <td>im grabbing a minute to post i feel greedy wrong</td>\n      <td>anger</td>\n    </tr>\n    <tr>\n      <th>3</th>\n      <td>i am ever feeling nostalgic about the fireplac...</td>\n      <td>love</td>\n    </tr>\n    <tr>\n      <th>4</th>\n      <td>i am feeling grouchy</td>\n      <td>anger</td>\n    </tr>\n  </tbody>\n</table>\n</div>"
     },
     "metadata": {},
     "execution_count": 30
    }
   ],
   "source": [
    "new_emotion_text.head()"
   ]
  },
  {
   "cell_type": "code",
   "execution_count": 31,
   "metadata": {},
   "outputs": [
    {
     "output_type": "execute_result",
     "data": {
      "text/plain": [
       "(61456, 2)"
      ]
     },
     "metadata": {},
     "execution_count": 31
    }
   ],
   "source": [
    "new_emotion_text.shape"
   ]
  },
  {
   "source": [
    "### Label encoding des données"
   ],
   "cell_type": "markdown",
   "metadata": {}
  },
  {
   "source": [
    "new_emotion_text['label'].unique()"
   ],
   "cell_type": "code",
   "metadata": {},
   "execution_count": 32,
   "outputs": [
    {
     "output_type": "execute_result",
     "data": {
      "text/plain": [
       "array(['sadness', 'anger', 'love', 'surprise', 'fear', 'happy', 'empty',\n",
       "       'enthusiasm', 'neutral', 'worry', 'fun', 'hate', 'happiness',\n",
       "       'boredom', 'relief'], dtype=object)"
      ]
     },
     "metadata": {},
     "execution_count": 32
    }
   ]
  },
  {
   "cell_type": "code",
   "execution_count": 33,
   "metadata": {},
   "outputs": [],
   "source": [
    "new_emotion_text[\"label\"].replace({'happiness': 'happy'}, inplace=True)"
   ]
  },
  {
   "cell_type": "code",
   "execution_count": 34,
   "metadata": {},
   "outputs": [
    {
     "output_type": "execute_result",
     "data": {
      "text/plain": [
       "array(['sadness', 'anger', 'love', 'surprise', 'fear', 'happy', 'empty',\n",
       "       'enthusiasm', 'neutral', 'worry', 'fun', 'hate', 'boredom',\n",
       "       'relief'], dtype=object)"
      ]
     },
     "metadata": {},
     "execution_count": 34
    }
   ],
   "source": [
    "new_emotion_text['label'].unique()"
   ]
  },
  {
   "cell_type": "code",
   "execution_count": 38,
   "metadata": {},
   "outputs": [],
   "source": [
    "conditions = [(new_emotion_text['label'] == \"sadness\") | (new_emotion_text['label'] == \"worry\") | (new_emotion_text['label'] == \"anger\") | (new_emotion_text['label'] == \"hate\"), (new_emotion_text['label'] == \"neutral\")| (new_emotion_text['label'] == \"boredom\") | (new_emotion_text['label'] == \"surprise\") | (new_emotion_text['label'] == \"empty\") | (new_emotion_text['label'] == \"fear\"), (new_emotion_text['label'] == \"love\") | (new_emotion_text['label'] == \"fun\") | (new_emotion_text['label'] == \"happiness\") | (new_emotion_text['label'] == \"relief\") | (new_emotion_text['label'] == \"enthusiasm\") ] "
   ]
  },
  {
   "cell_type": "code",
   "execution_count": 39,
   "metadata": {},
   "outputs": [],
   "source": [
    "values = [0, 1, 2]"
   ]
  },
  {
   "cell_type": "code",
   "execution_count": 40,
   "metadata": {},
   "outputs": [],
   "source": [
    "new_emotion_text['trinary_emotion'] = np.select(conditions, values)"
   ]
  },
  {
   "cell_type": "code",
   "execution_count": 41,
   "metadata": {},
   "outputs": [
    {
     "output_type": "execute_result",
     "data": {
      "text/plain": [
       "                                                    text    label  \\\n",
       "0                                i didnt feel humiliated  sadness   \n",
       "1      i can go from feeling so hopeless to so damned...  sadness   \n",
       "2       im grabbing a minute to post i feel greedy wrong    anger   \n",
       "3      i am ever feeling nostalgic about the fireplac...     love   \n",
       "4                                   i am feeling grouchy    anger   \n",
       "...                                                  ...      ...   \n",
       "39995                                   @JohnLloydTaylor  neutral   \n",
       "39996                     Happy Mothers Day  All my love     love   \n",
       "39997  Happy Mother's Day to all the mommies out ther...     love   \n",
       "39998  @niariley WASSUP BEAUTIFUL!!! FOLLOW ME!!  PEE...    happy   \n",
       "39999  @mopedronin bullet train from tokyo    the gf ...     love   \n",
       "\n",
       "       trinary_emotion  \n",
       "0                    0  \n",
       "1                    0  \n",
       "2                    0  \n",
       "3                    2  \n",
       "4                    0  \n",
       "...                ...  \n",
       "39995                1  \n",
       "39996                2  \n",
       "39997                2  \n",
       "39998                0  \n",
       "39999                2  \n",
       "\n",
       "[61456 rows x 3 columns]"
      ],
      "text/html": "<div>\n<style scoped>\n    .dataframe tbody tr th:only-of-type {\n        vertical-align: middle;\n    }\n\n    .dataframe tbody tr th {\n        vertical-align: top;\n    }\n\n    .dataframe thead th {\n        text-align: right;\n    }\n</style>\n<table border=\"1\" class=\"dataframe\">\n  <thead>\n    <tr style=\"text-align: right;\">\n      <th></th>\n      <th>text</th>\n      <th>label</th>\n      <th>trinary_emotion</th>\n    </tr>\n  </thead>\n  <tbody>\n    <tr>\n      <th>0</th>\n      <td>i didnt feel humiliated</td>\n      <td>sadness</td>\n      <td>0</td>\n    </tr>\n    <tr>\n      <th>1</th>\n      <td>i can go from feeling so hopeless to so damned...</td>\n      <td>sadness</td>\n      <td>0</td>\n    </tr>\n    <tr>\n      <th>2</th>\n      <td>im grabbing a minute to post i feel greedy wrong</td>\n      <td>anger</td>\n      <td>0</td>\n    </tr>\n    <tr>\n      <th>3</th>\n      <td>i am ever feeling nostalgic about the fireplac...</td>\n      <td>love</td>\n      <td>2</td>\n    </tr>\n    <tr>\n      <th>4</th>\n      <td>i am feeling grouchy</td>\n      <td>anger</td>\n      <td>0</td>\n    </tr>\n    <tr>\n      <th>...</th>\n      <td>...</td>\n      <td>...</td>\n      <td>...</td>\n    </tr>\n    <tr>\n      <th>39995</th>\n      <td>@JohnLloydTaylor</td>\n      <td>neutral</td>\n      <td>1</td>\n    </tr>\n    <tr>\n      <th>39996</th>\n      <td>Happy Mothers Day  All my love</td>\n      <td>love</td>\n      <td>2</td>\n    </tr>\n    <tr>\n      <th>39997</th>\n      <td>Happy Mother's Day to all the mommies out ther...</td>\n      <td>love</td>\n      <td>2</td>\n    </tr>\n    <tr>\n      <th>39998</th>\n      <td>@niariley WASSUP BEAUTIFUL!!! FOLLOW ME!!  PEE...</td>\n      <td>happy</td>\n      <td>0</td>\n    </tr>\n    <tr>\n      <th>39999</th>\n      <td>@mopedronin bullet train from tokyo    the gf ...</td>\n      <td>love</td>\n      <td>2</td>\n    </tr>\n  </tbody>\n</table>\n<p>61456 rows × 3 columns</p>\n</div>"
     },
     "metadata": {},
     "execution_count": 41
    }
   ],
   "source": [
    "new_emotion_text"
   ]
  },
  {
   "source": [
    "### Choix des variables"
   ],
   "cell_type": "markdown",
   "metadata": {}
  },
  {
   "cell_type": "code",
   "execution_count": 42,
   "metadata": {},
   "outputs": [],
   "source": [
    "X = new_list + new_list2\n",
    "y = new_emotion_text['trinary_emotion']\n",
    "X_train, X_test, y_train, y_test = train_test_split(X, y, test_size=0.2)"
   ]
  },
  {
   "source": [
    "### Mise en place du modèle"
   ],
   "cell_type": "markdown",
   "metadata": {}
  },
  {
   "cell_type": "code",
   "execution_count": 43,
   "metadata": {},
   "outputs": [],
   "source": [
    "Tfidf_vect = TfidfVectorizer(analyzer=lambda x: x)\n",
    "Tfidf_vect.fit(X)\n",
    "Train_X_Tfidf = Tfidf_vect.transform(X_train)\n",
    "Test_X_Tfidf = Tfidf_vect.transform(X_test)"
   ]
  },
  {
   "cell_type": "code",
   "execution_count": 44,
   "metadata": {
    "tags": [
     "outputPrepend"
    ]
   },
   "outputs": [
    {
     "output_type": "stream",
     "name": "stdout",
     "text": [
      "23872, 'chrystina': 4283, 'glenelg': 9470, 'runday': 20215, 'dataloung': 5695, 'webshot': 26160, 'requiem': 19680, 'myspaces:': 15838, 'grat': 9769, 'why:': 26446, 'aoouoouoouu': 1048, 'bwahahahaha': 3369, 'bedalii': 2087, 'phast': 17827, 'musicar': 15758, 'grope': 9888, 'ulja': 24964, 'bahahaha': 1746, 'mercur': 14871, 'vallejo': 25496, 'arbi': 1161, 'walkathon': 25952, 'blokeslib': 2586, 'pineforest': 17979, 'harlow': 10295, 'braclet': 2897, 'tonight:': 24160, 'spald': 22095, 'frd': 8759, 'yung': 27228, 'breakfst': 2959, 'panini': 17373, 'svetlana': 23058, 'rewatch': 19811, 'woolseri': 26719, 'molton': 15343, 'clinch': 4474, 'poorer': 18294, 'egss': 7154, 'unix': 25201, 'tcu': 23411, 'bubblegum': 3160, 'funkey': 8978, 'xmlrpc': 26926, 'codeignit': 4582, 'output': 17100, 'zend': 27290, 'testfest': 23594, 'groot': 9883, 'succ': 22804, 'jas': 12133, 'twidget': 24746, 'peolpl': 17700, 'can:': 3551, 'thnkn': 23811, 'virtus': 25735, 'treviso': 24433, 'futurshow': 9016, 'forza': 8682, 'ragazzi': 19125, 'espn': 7578, 'humma': 11095, 'cupi': 5461, 'pohaku': 18220, 'gbw': 9198, 'whoah': 26407, 'sweepi': 23094, 'ftuv': 8915, 'xmrn': 26927, 'utv': 25438, 'holidayz': 10809, 'kamikaz': 12569, 'pst': 18792, 'novemeb': 16494, 'eventho': 7674, 'gerrard': 9309, 'hollaback': 10813, 'felton': 8145, 's:': 20284, 'divx': 6470, 'benihana': 2218, 'trnds': 24493, 'summat': 22884, 'ovah': 17132, 'mozert': 15589, 'alkalin': 645, 'suh': 22852, 'weet': 26188, 'prix': 18629, 'jessiebear': 12236, 'dmore': 6501, 'drea': 6745, 'boubous': 2829, 'ovr': 17218, 'dokay': 6567, 'witht': 26606, 'suggest:': 22851, 'fiercemichi': 8237, 'vacum': 25467, 'pixiebob': 18041, 'econtrol': 7064, 'rpm': 20146, 'twittergadget': 24804, 'trib': 24443, 'vishal': 25740, 'adt': 317, 'princelpl': 18600, 'dinnerr': 6265, 'doomsday': 6624, 'illumin': 11346, 'waterley': 26075, 'mcflys': 14676, 'buss': 3319, 'compaq': 4763, 'evrytim': 7729, 'plce': 18122, 'mojojojo': 15328, 'twub': 24846, 'muthath': 15786, 'togetha': 24103, 'swensen': 23110, \"you'r\": 27160, 'minnebron': 15128, 'eddplant': 7079, 'librefm': 13549, 'audaci': 1476, 'unsubscrib': 25289, \"g'nitey\": 9039, 'splodg': 22229, 'facespac': 7926, 'jass': 12137, 'zoey': 27329, 'tofurki': 24098, 'lohang:': 13824, 'lester': 13494, 'jiuliani': 12290, 'iwish': 12013, 'jfc': 12254, 'meteor': 14914, 'ooww': 16919, 'lipstic': 13678, 'jester': 12239, 'tobleron': 24075, 'chichest': 4140, 'nitentdo': 16317, 'amigo': 817, ':mother': 34, 'yhaw': 27098, 'mumi': 15711, 'respit': 19717, 'vimto': 25697, 'droplet': 6796, 'nemecek': 16073, 'keed': 12689, 'intol': 11791, 'hawksmoor': 10376, 'yit': 27117, 'hitchik': 10734, 'allig': 664, 'meadowbank': 14719, 'thanku': 23653, 'cand': 3570, 'twtad': 24843, 'kinni': 12870, 'innit': 11650, 'carcassonn': 3638, 'tomb': 24122, 'but': 3325, 'theyu': 23755, 'inspiron': 11692, 'ddr': 5758, 'sae': 20334, 'snowflak': 21830, 'howlin': 11011, 'musta': 15775, 'walaikum': 25940, 'assalam': 1360, \"w'end\": 25875, 'dua': 6834, 'trotzdem': 24514, 'weh': 26196, 'rasberri': 19210, 'pu': 18818, 'greentea': 9818, 'spaggetti': 22091, 'tripic': 24473, 'dreeaami': 6762, 'hounslow': 10978, 'exhusband': 7799, 'voil': 25807, 'tellmetwic': 23499, 'dollarosa': 6576, 'ironclad': 11890, 'softshock': 21897, 'chorleywood': 4251, 'lyx': 14155, 'sammyandchellishow': 20404, 'whoott': 26429, 'bacoor': 1709, 'wahaha': 25901, 'toink': 24107, 'wiih': 26490, 'bubl': 3164, 'blg': 2546, 'aasman': 84, 'paar': 17257, 'shaayad': 20979, 'kellie:': 12714, 'alex:': 607, 'hahahahahahahaa': 10109, 'mifun': 15016, 'thor': 23824, 'wonderfur': 26683, 'kittykiss': 12910, 'chweet': 4310, 'muax': 15657, 'skye': 21561, 'thrillseek': 23861, 'mimmiz': 15087, 'supremist': 22998, 'abhor': 113, 'cottin': 5124, 'plis': 18153, 'status:': 22465, 'heartstr': 10473, 'euch': 7632, 'janett': 12108, 'aslyum': 1349, 'chergo': 4107, 'overheardinlondon': 17172, 'wasstraat': 26051, 'ffanci': 8198, 'scarabeo': 20582, 'polyest': 18264, 'sylvest': 23164, 'sheena': 21081, 'othman': 17056, 'likewith': 13616, 'mkting': 15262, 'mcdick': 14669, 'rblpnbro': 19260, 'trax': 24391, 'charni': 4025, 'trishi': 24482, 'alor': 702, 'quich': 19028, 'vesak': 25622, 'hannahisdead:': 10234, 'fuckyeah': 8935, 'norr': 16426, 'dishes:': 6361, 'torta': 24221, 'itlog': 11979, 'breakfastservic': 2958, 'marjolein': 14477, 'guido': 9976, 'dirk': 6288, 'saigon': 20353, 'hanoi': 10236, 'jihoon': 12271, 'mime': 15080, 'tweetbreak': 24702, 'strek': 22653, 'dorian': 6639, 'scriptgirl': 20722, 'sharn': 21044, 'twitterhead': 24805, 'poutin': 18399, 'hedburg': 10496, 'outz': 17124, 'youz': 27192, 'bellss': 2182, 'ringin': 19909, 'adieu': 280, 'favourti': 8076, 'ging': 9405, 'leavingg': 13399, 'boyfrienndd': 2876, 'nightz': 16266, 'dibster': 6177, 'tys': 24881, 'thelovelybones:': 23704, 'premir': 18507, 'mcsmoothi': 14706, 'guapisimo': 9950, 'skateprk': 21507, 'handbal': 10201, 'arcadia': 1168, \"mariachi'nin\": 14457, 'yeni': 27060, 'kampanyasi': 12571, 'berab': 2236, 'gelistirdigimiz': 9233, 'uygulamasi': 25450, \"hurriyet'\": 11143, 'haber': 10063, 'olmus:': 16815, 'clad': 4384, 'playset': 18116, 'mfr': 14943, 'acen': 204, 'tyg': 24861, 'superfli': 22955, 'jdorama': 12171, 'deathstar': 5793, 'enterpric': 7440, 'okey': 16792, 'reefri': 19448, 'ahhahahaha': 482, 'ariyan': 1214, 'hamish': 10182, 'binari': 2392, 'zirconcod': 27324, 'busyy': 3324, 'ida': 11260, 'quester': 19021, 'sequest': 20899, 'albion': 586, 'anyonewithbik': 1028, 'twitdroid': 24776, 'orderd': 16984, 'cinerama': 4344, 'youporn': 27174, 'sooper': 21998, 'dooper': 6627, 'bharia': 2328, 'dhumchik': 6147, 'beautyy': 2060, 'feckin': 8105, 'gdgd': 9207, 'imna': 11407, 'yani': 26981, 'cyjvgnp': 5543, 'sowyy': 22077, 'rugrat': 20194, 'anndd': 943, 'biker': 2376, 'zomg': 27339, 'hugger': 11066, 'larin': 13255, 'rirakkuma': 19924, 'atcha': 1406, 'hue': 11057, 'caveat': 3817, 'kakabalik': 12551, 'tarlac': 23347, 'mme': 15268, 'equipment:': 7514, 'coolmax': 5031, 'yoda': 27132, 'deceit': 5814, 'tatum': 23383, 'outdat': 17083, 'bigot': 2370, 'imperialist': 11423, 'monoculturalist': 15399, 'jfufnfwucnbqj': 12258, 'romina': 20056, 'kaleidoscop': 12558, 'greshamblak': 9830, 'eexcit': 7120, 'reallyy': 19316, 'gahif': 9070, 'melika': 14798, 'hoorayi': 10897, 'pantien': 17383, 'ideia': 11269, 'yourselff': 27181, 'bubb': 3157, 'viz': 25773, 'rhix': 19834, \"round'n'round\": 20118, 'geocod': 9277, 'ssm': 22353, 'funzen': 8994, 'iloveitwhen': 11356, 'unassum': 25008, 'unpretenti': 25247, 'rerecord': 19686, 'awestruck': 1593, 'pangaea': 17365, 'killah': 12831, 'mikeywayday': 15037, 'dramathon': 6728, 'datapoint': 5696, 'danapoint': 5627, 'gpgmail': 9695, 'twatt': 24678, 'sgb': 20974, 'tare': 23344, 'castil': 3754, 'urechi': 25374, 'drumu': 6813, 'muzichii': 15795, 'vopseaua': 25834, 'afectat': 357, 'rau': 19227, 'iyla': 12020, 'printchick': 18607, 'sharen': 21036, 'amarula': 771, 'timestamp:': 23973, 'cest': 3917, 'hiyahh': 10743, 'listnin': 13705, 'agreement:': 450, 'schoolbook': 20636, ':i': 30, 'pww': 18938, 'kwento': 13090, 'anyho': 1021, 'mumzi': 15717, 'geordiebird': 9289, 'chng': 4220, 'feedicon': 8116, 'bossman': 2811, 'powershel': 18414, 'overher': 17174, 'bringtaraback': 3033, 'ishra': 11923, 'ventura': 25589, 'beeman': 2105, 'crocodil': 5339, 'lindi': 13645, 'olympiou': 16820, 'diamanti': 6162, 'thessaloniki': 23741, 'cancertown': 3566, 'mazi': 14641, 'kristina': 13042, \"d'awhh\": 5561, 'dono': 6607, 'funnili': 8986, 'roland': 20030, 'fuckn': 8932, 'urrxta': 25390, 'cuckoo': 5419, 'yehh': 27051, 'mandingo': 14380, 'oxoxo': 17238, ':o:o:o:o:o:o:o': 36, 'foxi': 8706, 'givein': 9433, 'tantal': 23324, 'communism': 4747, 'night:': 16253, 'ecpm': 7065, 'anwb': 1012, 'years:': 27031, 'siberia': 21324, 'epi': 7487, 'learner': 13388, 'bent:': 2227, 'turnon': 24649, 'rullz': 20205, 'excti': 7777, 'jerseyz': 12229, 'qiuqiu': 18965, 'rossi': 20099, 'automobil': 1529, 'juan': 12440, 'pelota': 17657, 'greenday': 9808, 'correction:': 5100, 'faceti': 7927, 'aikido': 508, 'xloser': 26921, 'saya': 20547, 'members:': 14820, 'nunawad': 16553, 'teatre': 23433, 'alist': 640, 'cantab': 3591, 'sftw': 20972, 'officialshew': 16726, 'maar': 14166, 'timthumb': 23983, 'bgeezi': 2316, 'fructos': 8893, 'disater': 6306, 'ferrari': 8170, 'chocoslam': 4231, 'blokey': 2587, 'heavyweight': 10488, 'scanlon': 20577, 'robber': 19973, 'kimosav': 12849, 'butti': 3350, 'dillybar': 6243, 'cafe:': 3432, 'misog': 15194, 'sion': 21449, 'sierr': 21352, 'uy': 25449, 'saying:': 20552, 'quil': 19040, 'defici': 5878, 'emir': 7308, 'richter': 19864, 'grungi': 9934, 'loco_crime_': 13807, 'smashspac': 21716, 'ssbb': 22350, 'greatfirewallofchina': 9795, 'wyat': 26882, 'donkey': 6601, 'echt': 7051, 'angetan': 910, 'sst': 22358, 'mcnugget': 14698, 'queenrania': 19008, 'tweeterz': 24712, 'location:': 13799, 'shabbi': 20980, 'gmn': 9519, 'punya': 18880, 'antibacteri': 988, 'metalcor': 14905, 'exxager': 7876, 'xhaust': 26911, 'corr': 5097, 'kd': 12681, 'derham': 6029, 'yeem': 27044, 'camerabag': 3526, 'lolo': 13844, 'hindustan': 10714, 'dunia': 6900, 'asay': 1309, 'nehi': 16055, 'milegi': 15047, 'quaver': 19002, 'stoneheng': 22583, 'awekay': 1582, 'mort': 15502, 'dur': 6916, 'prend': 18511, 'buger': 3199, 'dati': 5700, 'lian': 13534, 'eina': 7172, 'about': 131, 'arizzard': 1216, 'emarosa': 7278, 'gingg': 9407, 'watergun': 26073, 'broughti': 3102, 'mamacita': 14345, 'muuaah': 15791, 'opus': 16965, 'mchale': 14685, 'puyallup': 18925, 'classier': 4417, 'selalu': 20820, 'ruang': 20166, 'sahabat': 20347, 'smuggl': 21761, 'prodigi': 18664, 'shreddi': 21280, 'wright': 26824, 'maita': 14288, 'thatv': 23673, 'wacko': 25887, 'jealz': 12178, 'thh': 23758, 'sampsonn': 20408, 'gustar': 10025, 'earlybird': 6989, 'laka': 13166, 'nalang': 15910, 'bandana': 1815, 'frist': 8863, 'phog': 17861, 'subit': 22775, 'ravish': 19239, 'as:': 1301, 'boyfrann': 2874, 'nako': 15906, 'umuulan': 24991, 'wheew': 26335, 'tweat': 24682, 'doogi': 6621, 'howser': 11014, 'naina': 15895, 'familia': 7982, 'trixter': 24492, 'fanboy': 7993, 'pussycat': 18915, 'maroon': 14495, 'morrningg': 15497, 'bravi': 2936, 'rentaphon': 19624, 'yesi': 27071, 'fitzcarraldo': 8363, 'cherrylolita:': 4112, 'noghti': 16360, 'defunct': 5893, 'grisham': 9867, 'boyzon': 2883, 'derni': 6033, 'sofi': 21890, 'twittertaleov': 24823, 'shute': 21310, 'hollyweird': 10824, 'aracheologist': 1159, 'buxton': 3356, 'micheal': 14967, 'sheen': 21080, 'volturi': 25819, 'izon': 12024, 'goona': 9626, 'teeve': 23465, 'areo': 1190, 'lumpi': 14083, 'wadg': 25891, 'milf': 15052, 'everryth': 7694, 'breadtalk': 2952, 'khayyam': 12785, 'wakil': 25934, 'elisa': 7232, 'ise': 11920, 'shelan': 21092, 'rae': 19111, 'yumyum': 27226, 'skankin': 21503, 'hallelujah': 10165, 'xfactor': 26909, 'famin': 7985, 'ipt': 11862, 'ngobrolin': 16196, 'cii': 4330, 'kesian': 12750, 'kamu': 12572, 'speakernya': 22135, 'rusak': 20232, 'benerin': 2213, 'allsort': 677, 'reiki': 19519, 'cruet': 5372, 'ohtay': 16762, 'waltzer': 25974, 'emul': 7342, 'activeresourc': 239, 'bussi': 3320, 'kuantan': 13063, 'trian': 24440, 'whistler': 26383, 'shooee': 21206, 'farro': 8030, 'prerecord': 18522, 'admk': 296, 'hyderabad': 11175, 'hahahaah': 10101, 'lamo': 13192, 'oneshot': 16874, 'thurther': 23901, 'ohi': 16748, 'pastrana': 17512, 'tamlyn': 23299, 'watti': 26086, 'overplay': 17183, 'hhahaa': 10648, 'loli': 13837, 'applescript': 1113, 'oda': 16685, 'bitbett': 2439, 'jackshit': 12045, 'gerai': 9295, 'shecki': 21077, 'maxxi': 14623, 'anwar': 1010, 'twittertakeov': 24822, 'scattegori': 20594, 'tallebudgera': 23287, 'yogulici': 27136, 'competitor': 4781, 'sugarfre': 22846, 'facepanda': 7924, 'laast': 13109, 'brawn': 2940, 'mclaren': 14691, 'khichadi': 12789, 'mendelssohn': 14841, 'ranchero': 19181, 'papabear': 17391, 'zdf': 27275, 'fernsehgarten': 8167, 'curious:': 5473, 'garner': 9145, 'boya': 2870, 'smap': 21703, 'lonesometown': 13860, 'houseofrock': 10987, 'thxx': 23907, 'missinmydgbigtym': 15210, 'jenson': 12215, 'schuhmach': 20645, 'fotc': 8686, 'empitom': 7332, 'ffrecommend': 8202, 'franco': 8736, 'everest': 7686, 'boofi': 2741, 'toothpick': 24185, 'dbar': 5747, 'timez': 23975, 'englisch': 7395, 'upss': 25355, 'writen': 26831, 'chesca': 4115, 'ascari': 1312, 'unabash': 24995, 'byw': 3392, 'johno': 12342, 'ivfm': 12006, 'pyyuci': 18949, 'skus': 21557, 'scotter': 20682, 'yoou': 27148, 'netplay': 16119, 'gott': 9668, 'qc': 18957, 'finnali': 8316, 'dg': 6134, 'brlliant': 3057, 'jiah': 12265, 'absoulut': 146, 'lewish': 13516, 'nomint': 16380, 'remmber': 19594, 'headsup': 10435, 'toolbar': 24175, 'mariqueen': 14473, 'toniight': 24163, 'uniteddog': 25195, 'weetabix': 26189, 'turbines:': 24636, 'pegel': 17646, 'kelil': 12709, 'kuil': 13070, 'realx': 19319, 'fryeffect': 8905, 'soccergam': 21864, 'iono': 11844, 'rol': 20029, 'gda': 9204, 'girlish': 9419, 'buongiorno': 3264, 'listenen': 13697, 'dbuc': 5751, 'kyneton': 13100, 'daylesford': 5730, 'mcd': 14668, 'sumbodi': 22872, 'gramma': 9728, 'geodefens': 9278, 'karl': 12617, 'genni': 9261, 'pcso': 17589, 'garley': 9141, 'inbrug': 11478, 'teheh': 23471, 'elijah': 7228, 'mcglaclan': 14681, 'jpnnbak': 12426, 'glre': 9503, 'baseship': 1922, 'skrg': 21553, 'sempit': 20848, 'waktunya': 25937, 'havealovelytim': 10356, 'lilim': 13622, 'presents:': 18535, 'recepi': 19361, 'keiron': 12702, 'cuold': 5453, 'natalyy': 15973, 'bilko': 2383, 'lushh': 14112, 'citeh': 4362, 'oii': 16768, 'marko': 14484, 'roseland': 20092, 'vri': 25854, 'bruxel': 3128, 'catchyy': 3773, 'xmind': 26924, 'preview:': 18570, 'candic': 3574, 'rus': 20231, 'mascot': 14534, 'virl': 25727, 'westend': 26267, 'aprreci': 1139, 'viritu': 25726, 'destroyalin': 6076, 'duckrac': 6855, 'yesti': 27083, 'fayr': 8080, 'cipriano': 4350, 'amaiz': 764, 'tbqh': 23403, 'unixodbc': 25202, 'waldi': 25943, 'bonzo': 2733, 'mattern': 14595, 'smtime': 21757, 'realz': 19320, ':wave': 53, 'boffert': 2683, 'ronaldo': 20064, 'awsum': 1608, 'dampier': 5623, 'tiberiu': 23914, 'aflat': 380, 'sunt': 22939, 'imbecili': 11378, 'groul': 9898, 'auntiegail': 1502, 'childmind': 4163, 'headbutt': 10417, 'wonderfuli': 26682, 'mader': 14224, 'wirt': 26577, 'almo': 690, 'listenint': 13700, 'afh': 376, 'vulcan': 25865, 'acsm': 231, 'unparallel': 25237, 'sublimin': 22780, 'phoenixfm': 17860, 'seriuosli': 20921, 'genoes': 9264, 'zhonguoren': 27302, 'briyani': 3056, 'yeehah': 27043, 'topifi': 24195, 'midyr': 15012, 'hmd': 10751, 'klum': 12932, 'estou': 7606, 'slimi': 21638, 'reden': 19420, 'zebra': 27281, 'jls': 12304, 'antcam': 982, 'lan': 13195, 'compr': 4808, 'abhi': 112, 'cass': 3738, 'empress': 7339, 'mpaa': 15596, 'videorecord': 25669, 'cantera': 3596, 'urbanoutfitt': 25371, 'soetim': 21887, 'goodtim': 9615, 'kaila': 12545, 'ocampo': 16660, 'rainbowhol': 19143, 'env': 7465, 'sippin': 21452, 'euruko': 7654, 'mutha': 15784, 'rawknrol': 19244, 'sanh': 20441, 'afterlif': 395, 'mammyy': 14357, 'knitterati': 12954, 'ravelri': 19234, 'parnoid': 17462, 'chroni': 4278, 'rajendran': 19155, 'wthr': 26857, 'performac': 17727, 'bradie': 2901, 'hag': 10087, 'fii': 8259, 'mushkila': 15753, \"ma'a\": 14161, 'ammox': 829, 'robbinson': 19976, 'coontail': 5035, 'rishlov': 19927, 'smile:': 21732, 'bithday': 2444, 'momduk': 15350, 'jba': 12160, 'sliverlight': 21650, 'thatmak': 23670, 'carbonara': 3636, 'lina': 13641, 'birthdaypres': 2428, 'rieger': 19884, 'begonia': 2132, 'camool': 3536, 'streetcar': 22649, 'kyoto': 13101, 'profiel': 18676, 'jole': 12353, 'erwin': 7556, 'blom': 2588, 'ceasar': 3854, 'valk': 25494, 'corney': 5085, 'tadi': 23232, 'koala': 12980, 'pubquizz': 18825, 'sinon': 21446, 'bip': 2417, 'pairung': 17315, 'ejam': 7184, 'rapidshar': 19200, 'tanc': 23306, 'vapid': 25518, 'bachus': 1680, 'goodmornin': 9611, 'embarres': 7288, 'chaparro': 3989, 'thirst': 23791, 'stealthi': 22482, 'mamba': 14349, 'snazz': 21783, 'youregreat': 27178, 'mngr': 15278, 'frankfurt': 8739, 'crikey': 5313, 'maternalhealth': 14578, 'there:': 23728, 'scarepoint': 20587, 'basslin': 1939, 'otara': 17042, 'redirect': 19427, 'keyla': 12767, 'janic': 12111, 'frehley': 8795, 'jovani': 12410, 'robsessedpattinson': 19989, 'oystser': 17248, 'somwher': 21973, 'luket': 14068, 'heathfox': 10481, 'dreamweav': 6757, 'light:': 13591, 'looki': 13886, 'mhc': 14951, 'pitta': 18033, 'bornean': 2803, 'bristlehead': 3040, 'titti': 24029, 'businessi': 3316, 'afflict': 369, 'tada': 23231, 'nasism': 15965, 'kerk': 12743, 'prezzi': 18574, '_is': 58, 'plansem': 18073, 'jfk': 12256, 'horseforth': 10940, 'jah': 12065, 'prerequisit': 18523, 'gaydar': 9190, 'apperici': 1102, 'sanath': 20417, 'jaya': 12146, 'bubblewrap': 3162, 'budda': 3178, 'hawndog': 10377, 'basil': 1928, 'telegraph': 23483, 'neway': 16146, 'nesquik': 16102, 'loretta': 13915, 'canazarro': 3560, 'squarespac': 22313, 'vivoc': 25770, 'yupz': 27234, 'aircondit': 524, 'meka': 14784, 'scorecard': 20672, 'keswick': 12751, 'woould': 26728, 'nogard': 16358, 'infront': 11609, 'accordion': 194, 'swansea': 23070, 'hatti': 10344, 'peruvian': 17777, 'thar': 23660, 'tong': 24153, 'ch:': 3927, 'banh': 1831, 'trong': 24505, 'concerto': 4837, 'ska': 21500, 'smb': 21717, 'seria': 20912, 'mors': 15500, 'plangi': 18069, 'pulish': 18847, 'karishmaa': 12616, 'luvv': 14125, 'fashionisthenextc': 8042, 'chong': 4241, 'buttfuck': 3347, 'guava': 9956, 'tyla': 24864, 'inc': 11479, 'skomer': 21549, 'twello': 24731, \"u'l\": 24889, 'happymoth': 10259, 'enjoyin': 7410, 'ado': 298, 'kiokudb': 12874, 'tutus': 24663, 'urselff': 25392, 'stepsist': 22512, 'jaiho': 12069, 'yh': 27097, 'eekk': 7111, 'thabk': 23637, 'catvampe': 3796, 'garden:': 9135, 'localgovcamp': 13797, 'sybas': 23158, 'ase': 1318, 'sparc': 22106, 'solari': 21910, 'akankah': 553, 'suatu': 22766, 'mendapatkannya': 14839, 'at': 1400, 'rhode': 19835, 'fillet': 8270, 'mesaj': 14891, 'eroare:': 7543, 'forbiddenyou': 8622, 'jpg': 12423, 'ghicit': 9354, 'kiyosaki': 12916, 'birder': 2420, 'speakerphon': 22136, 'ilif': 11336, 'karla': 12618, 'collabro': 4640, 'jphlip': 12424, 'pseudo': 18781, 'werid': 26256, 'alpha:': 709, 'cuil': 5431, 'miz': 15251, 'cassio': 3746, 'tysm': 24882, 'clayton': 4428, 'huckabe': 11051, 'maya': 14625, 'kibbel': 12802, 'jae': 12056, 'save:summ': 20530, 'crete': 5303, 'menageri': 14835, 'loungey': 13957, 'treki': 24414, 'linuxoutlaw': 13671, 'suivez': 22858, 'luigi': 14064, 'sdn': 20743, \"'p\": 12, 'montmel': 15421, 'misanthrop': 15165, 'twiit': 24750, 'mbb': 14644, 'agfest': 424, 'apparat': 1093, 'teus': 23605, 'jessandnicolemus': 12232, 'quickpwn': 19033, 'iflow': 11301, 'twittererer': 24797, 'cryopreserv': 5393, 'omlett': 16853, 'omnomlett': 16857, 'peen': 17636, 'people': 17702, 'ludi': 14052, 'yinz': 27108, 'congrad': 4896, 'covershot': 5190, 'kelana': 12706, 'coffeeshop': 4596, 'ptfe': 18809, 'grice': 9838, 'cactus': 3422, 'heao': 10450, 'bludger': 2612, 'beater': 2043, 'quidditch': 19035, 'wheniwerealad': 26340, 'pleze': 18148, 'whalen': 26293, 'tsar': 24565, 'crept': 5298, 'dongl': 6599, 'alreet': 718, 'dreamgirl': 6751, 'twitwoo': 24833, 'celebritytweet': 3866, 'lustig': 14115, 'armer': 1227, 'garantiefal': 9129, 'mybrut': 15810, 'barcampbkk': 1870, 'pentecost': 17695, 'portugal:': 18344, 'adorei': 306, 'fonzi': 8596, 'corlain': 5077, 'shezz': 21125, 'hving': 11165, 'photomedia': 17882, 'tripod': 24476, 'viewfind': 25684, 'name:': 15917, 'u:': 24893, 'live:': 13726, 'shatranjanpoli': 21055, 'andheri': 883, 'gettng': 9331, 'reactionari': 19286, 'luat': 14030, 'examenul': 7748, 'spss': 22300, 'garageband': 9128, 'chillingoutnow': 4177, 'accent:': 178, 'euruko:': 7655, 'ful': 8949, 'yep:': 27062, 'sisch': 21461, 'swiffer': 23115, 'magician': 14245, 'sxswi': 23152, \"m'off\": 14158, 'satde': 20500, 'piggl': 17946, \"g'nyt\": 9040, 'gosl': 9650, 'primatech': 18591, 'anych': 1019, 'link:': 13660, 'whaataat': 26288, 'sierra': 21353, 'dap': 5657, 'unfortunatelli': 25146, 'mccartney': 14662, 'suni': 22922, 'tisk': 24017, 'tfl': 23621, 'hws': 11169, 'kmrn': 12938, 'kosong': 13019, \"wha'dya\": 26285, 'gatwick': 9176, 'frolic': 8877, 'consumm': 4960, 'degreas': 5902, 'ipsohot': 11860, 'sightse': 21365, 'gaijin': 9073, 'godzilla': 9569}\n"
     ]
    }
   ],
   "source": [
    "print(Tfidf_vect.vocabulary_)"
   ]
  },
  {
   "cell_type": "code",
   "execution_count": 45,
   "metadata": {},
   "outputs": [
    {
     "output_type": "stream",
     "name": "stdout",
     "text": [
      "  (0, 26180)\t0.2548996367200428\n  (0, 16338)\t0.19405706441707807\n  (0, 12981)\t0.5218737040782858\n  (0, 12576)\t0.5032023382393739\n  (0, 10050)\t0.3588151679978652\n  (0, 5606)\t0.4206931509473147\n  (0, 1247)\t0.2570451763650436\n  (1, 24448)\t0.6225591508861841\n  (1, 24081)\t0.2715372856624016\n  (1, 14571)\t0.4930382472856573\n  (1, 12038)\t0.49413138555791436\n  (1, 9535)\t0.2267930039994\n  (2, 23965)\t0.43552219966699146\n  (2, 19541)\t0.7058585537785985\n  (2, 8119)\t0.21909767351418416\n  (2, 5134)\t0.5138874634737477\n  (3, 20314)\t0.4705995487775976\n  (3, 15200)\t0.43424538601551177\n  (3, 14299)\t0.40328385139178063\n  (3, 3761)\t0.6537041721001733\n  (4, 23647)\t0.2791995188538269\n  (4, 17872)\t0.40957122789673794\n  (4, 13883)\t0.278942814840156\n  (4, 11213)\t0.3369580918870474\n  (4, 9791)\t0.30756635045044123\n  :\t:\n  (49161, 16951)\t0.2982921177107771\n  (49161, 14299)\t0.1647378948932787\n  (49161, 14221)\t0.206719079582079\n  (49161, 13929)\t0.20994845787156788\n  (49161, 13926)\t0.22878806520634942\n  (49161, 13609)\t0.12985094000185787\n  (49161, 12002)\t0.4085606679441293\n  (49161, 11259)\t0.25597500048769106\n  (49161, 8119)\t0.07870445801292149\n  (49161, 4911)\t0.5493690939204765\n  (49162, 27086)\t0.3583561673683537\n  (49162, 26540)\t0.44962011567662696\n  (49162, 20765)\t0.5033462226161592\n  (49162, 18557)\t0.33247449673815765\n  (49162, 13417)\t0.3523754373406842\n  (49162, 9657)\t0.2778509992842131\n  (49162, 2438)\t0.32273250756699307\n  (49163, 25144)\t0.44891822308529894\n  (49163, 23835)\t0.3262658654395282\n  (49163, 19313)\t0.27227156970792415\n  (49163, 17469)\t0.3946475545726892\n  (49163, 16453)\t0.1865627557382737\n  (49163, 11214)\t0.25613344936905275\n  (49163, 9601)\t0.26220087708469003\n  (49163, 9248)\t0.5412810807438072\n"
     ]
    }
   ],
   "source": [
    "print(Train_X_Tfidf)"
   ]
  },
  {
   "cell_type": "code",
   "execution_count": 46,
   "metadata": {},
   "outputs": [
    {
     "output_type": "execute_result",
     "data": {
      "text/plain": [
       "SVC(gamma='auto', kernel='linear')"
      ]
     },
     "metadata": {},
     "execution_count": 46
    }
   ],
   "source": [
    "SVM = svm.SVC(C=1.0, kernel='linear', degree=3, gamma='auto')\n",
    "SVM.fit(Train_X_Tfidf,y_train)"
   ]
  },
  {
   "cell_type": "code",
   "execution_count": null,
   "metadata": {},
   "outputs": [],
   "source": [
    "predictions_SVM = SVM.predict(Test_X_Tfidf)"
   ]
  },
  {
   "cell_type": "code",
   "execution_count": 48,
   "metadata": {},
   "outputs": [
    {
     "output_type": "stream",
     "name": "stdout",
     "text": [
      "Cross Val Score:  0.7604344940489909\n",
      "Train Score:  0.9992\n",
      "Train Score:  0.7646\n"
     ]
    }
   ],
   "source": [
    "print(\"SVM Accuracy Score -> \",accuracy_score(predictions_SVM, y_test)*100)"
   ]
  },
  {
   "source": [
    "Pour cette deuxième étape, nous avons récupéré les deux jeux de données pour les combiner en un seul. L'accuracy se trouve entre les deux jeux de données, ce qui paraît normal."
   ],
   "cell_type": "markdown",
   "metadata": {}
  },
  {
   "source": [
    "## Etape 3 : Utiliser les nouvelles émotions du jeu de données 2 et les prédire sur les messages du jeu 1"
   ],
   "cell_type": "markdown",
   "metadata": {}
  },
  {
   "source": [
    "### Choix des variables"
   ],
   "cell_type": "markdown",
   "metadata": {}
  },
  {
   "cell_type": "code",
   "execution_count": 51,
   "metadata": {},
   "outputs": [],
   "source": [
    "X = new_list2\n",
    "y = text_emotion['trinary_emotion']\n",
    "X_test = new_list\n",
    "y_test = emotion_final['trinary_emotion']"
   ]
  },
  {
   "cell_type": "code",
   "execution_count": 52,
   "metadata": {},
   "outputs": [
    {
     "output_type": "execute_result",
     "data": {
      "text/plain": [
       "CountVectorizer(lowercase=False, min_df=0)"
      ]
     },
     "metadata": {},
     "execution_count": 52
    }
   ],
   "source": [
    "Tfidf_vect = TfidfVectorizer(analyzer=lambda x: x)\n",
    "Tfidf_vect.fit(X)\n",
    "Train_X_Tfidf = Tfidf_vect.transform(X)\n",
    "Test_X_Tfidf = Tfidf_vect.transform(X_test)"
   ]
  },
  {
   "cell_type": "code",
   "execution_count": 47,
   "metadata": {
    "tags": [
     "outputPrepend"
    ]
   },
   "outputs": [
    {
     "output_type": "stream",
     "name": "stdout",
     "text": [
      "23872, 'chrystina': 4283, 'glenelg': 9470, 'runday': 20215, 'dataloung': 5695, 'webshot': 26160, 'requiem': 19680, 'myspaces:': 15838, 'grat': 9769, 'why:': 26446, 'aoouoouoouu': 1048, 'bwahahahaha': 3369, 'bedalii': 2087, 'phast': 17827, 'musicar': 15758, 'grope': 9888, 'ulja': 24964, 'bahahaha': 1746, 'mercur': 14871, 'vallejo': 25496, 'arbi': 1161, 'walkathon': 25952, 'blokeslib': 2586, 'pineforest': 17979, 'harlow': 10295, 'braclet': 2897, 'tonight:': 24160, 'spald': 22095, 'frd': 8759, 'yung': 27228, 'breakfst': 2959, 'panini': 17373, 'svetlana': 23058, 'rewatch': 19811, 'woolseri': 26719, 'molton': 15343, 'clinch': 4474, 'poorer': 18294, 'egss': 7154, 'unix': 25201, 'tcu': 23411, 'bubblegum': 3160, 'funkey': 8978, 'xmlrpc': 26926, 'codeignit': 4582, 'output': 17100, 'zend': 27290, 'testfest': 23594, 'groot': 9883, 'succ': 22804, 'jas': 12133, 'twidget': 24746, 'peolpl': 17700, 'can:': 3551, 'thnkn': 23811, 'virtus': 25735, 'treviso': 24433, 'futurshow': 9016, 'forza': 8682, 'ragazzi': 19125, 'espn': 7578, 'humma': 11095, 'cupi': 5461, 'pohaku': 18220, 'gbw': 9198, 'whoah': 26407, 'sweepi': 23094, 'ftuv': 8915, 'xmrn': 26927, 'utv': 25438, 'holidayz': 10809, 'kamikaz': 12569, 'pst': 18792, 'novemeb': 16494, 'eventho': 7674, 'gerrard': 9309, 'hollaback': 10813, 'felton': 8145, 's:': 20284, 'divx': 6470, 'benihana': 2218, 'trnds': 24493, 'summat': 22884, 'ovah': 17132, 'mozert': 15589, 'alkalin': 645, 'suh': 22852, 'weet': 26188, 'prix': 18629, 'jessiebear': 12236, 'dmore': 6501, 'drea': 6745, 'boubous': 2829, 'ovr': 17218, 'dokay': 6567, 'witht': 26606, 'suggest:': 22851, 'fiercemichi': 8237, 'vacum': 25467, 'pixiebob': 18041, 'econtrol': 7064, 'rpm': 20146, 'twittergadget': 24804, 'trib': 24443, 'vishal': 25740, 'adt': 317, 'princelpl': 18600, 'dinnerr': 6265, 'doomsday': 6624, 'illumin': 11346, 'waterley': 26075, 'mcflys': 14676, 'buss': 3319, 'compaq': 4763, 'evrytim': 7729, 'plce': 18122, 'mojojojo': 15328, 'twub': 24846, 'muthath': 15786, 'togetha': 24103, 'swensen': 23110, \"you'r\": 27160, 'minnebron': 15128, 'eddplant': 7079, 'librefm': 13549, 'audaci': 1476, 'unsubscrib': 25289, \"g'nitey\": 9039, 'splodg': 22229, 'facespac': 7926, 'jass': 12137, 'zoey': 27329, 'tofurki': 24098, 'lohang:': 13824, 'lester': 13494, 'jiuliani': 12290, 'iwish': 12013, 'jfc': 12254, 'meteor': 14914, 'ooww': 16919, 'lipstic': 13678, 'jester': 12239, 'tobleron': 24075, 'chichest': 4140, 'nitentdo': 16317, 'amigo': 817, ':mother': 34, 'yhaw': 27098, 'mumi': 15711, 'respit': 19717, 'vimto': 25697, 'droplet': 6796, 'nemecek': 16073, 'keed': 12689, 'intol': 11791, 'hawksmoor': 10376, 'yit': 27117, 'hitchik': 10734, 'allig': 664, 'meadowbank': 14719, 'thanku': 23653, 'cand': 3570, 'twtad': 24843, 'kinni': 12870, 'innit': 11650, 'carcassonn': 3638, 'tomb': 24122, 'but': 3325, 'theyu': 23755, 'inspiron': 11692, 'ddr': 5758, 'sae': 20334, 'snowflak': 21830, 'howlin': 11011, 'musta': 15775, 'walaikum': 25940, 'assalam': 1360, \"w'end\": 25875, 'dua': 6834, 'trotzdem': 24514, 'weh': 26196, 'rasberri': 19210, 'pu': 18818, 'greentea': 9818, 'spaggetti': 22091, 'tripic': 24473, 'dreeaami': 6762, 'hounslow': 10978, 'exhusband': 7799, 'voil': 25807, 'tellmetwic': 23499, 'dollarosa': 6576, 'ironclad': 11890, 'softshock': 21897, 'chorleywood': 4251, 'lyx': 14155, 'sammyandchellishow': 20404, 'whoott': 26429, 'bacoor': 1709, 'wahaha': 25901, 'toink': 24107, 'wiih': 26490, 'bubl': 3164, 'blg': 2546, 'aasman': 84, 'paar': 17257, 'shaayad': 20979, 'kellie:': 12714, 'alex:': 607, 'hahahahahahahaa': 10109, 'mifun': 15016, 'thor': 23824, 'wonderfur': 26683, 'kittykiss': 12910, 'chweet': 4310, 'muax': 15657, 'skye': 21561, 'thrillseek': 23861, 'mimmiz': 15087, 'supremist': 22998, 'abhor': 113, 'cottin': 5124, 'plis': 18153, 'status:': 22465, 'heartstr': 10473, 'euch': 7632, 'janett': 12108, 'aslyum': 1349, 'chergo': 4107, 'overheardinlondon': 17172, 'wasstraat': 26051, 'ffanci': 8198, 'scarabeo': 20582, 'polyest': 18264, 'sylvest': 23164, 'sheena': 21081, 'othman': 17056, 'likewith': 13616, 'mkting': 15262, 'mcdick': 14669, 'rblpnbro': 19260, 'trax': 24391, 'charni': 4025, 'trishi': 24482, 'alor': 702, 'quich': 19028, 'vesak': 25622, 'hannahisdead:': 10234, 'fuckyeah': 8935, 'norr': 16426, 'dishes:': 6361, 'torta': 24221, 'itlog': 11979, 'breakfastservic': 2958, 'marjolein': 14477, 'guido': 9976, 'dirk': 6288, 'saigon': 20353, 'hanoi': 10236, 'jihoon': 12271, 'mime': 15080, 'tweetbreak': 24702, 'strek': 22653, 'dorian': 6639, 'scriptgirl': 20722, 'sharn': 21044, 'twitterhead': 24805, 'poutin': 18399, 'hedburg': 10496, 'outz': 17124, 'youz': 27192, 'bellss': 2182, 'ringin': 19909, 'adieu': 280, 'favourti': 8076, 'ging': 9405, 'leavingg': 13399, 'boyfrienndd': 2876, 'nightz': 16266, 'dibster': 6177, 'tys': 24881, 'thelovelybones:': 23704, 'premir': 18507, 'mcsmoothi': 14706, 'guapisimo': 9950, 'skateprk': 21507, 'handbal': 10201, 'arcadia': 1168, \"mariachi'nin\": 14457, 'yeni': 27060, 'kampanyasi': 12571, 'berab': 2236, 'gelistirdigimiz': 9233, 'uygulamasi': 25450, \"hurriyet'\": 11143, 'haber': 10063, 'olmus:': 16815, 'clad': 4384, 'playset': 18116, 'mfr': 14943, 'acen': 204, 'tyg': 24861, 'superfli': 22955, 'jdorama': 12171, 'deathstar': 5793, 'enterpric': 7440, 'okey': 16792, 'reefri': 19448, 'ahhahahaha': 482, 'ariyan': 1214, 'hamish': 10182, 'binari': 2392, 'zirconcod': 27324, 'busyy': 3324, 'ida': 11260, 'quester': 19021, 'sequest': 20899, 'albion': 586, 'anyonewithbik': 1028, 'twitdroid': 24776, 'orderd': 16984, 'cinerama': 4344, 'youporn': 27174, 'sooper': 21998, 'dooper': 6627, 'bharia': 2328, 'dhumchik': 6147, 'beautyy': 2060, 'feckin': 8105, 'gdgd': 9207, 'imna': 11407, 'yani': 26981, 'cyjvgnp': 5543, 'sowyy': 22077, 'rugrat': 20194, 'anndd': 943, 'biker': 2376, 'zomg': 27339, 'hugger': 11066, 'larin': 13255, 'rirakkuma': 19924, 'atcha': 1406, 'hue': 11057, 'caveat': 3817, 'kakabalik': 12551, 'tarlac': 23347, 'mme': 15268, 'equipment:': 7514, 'coolmax': 5031, 'yoda': 27132, 'deceit': 5814, 'tatum': 23383, 'outdat': 17083, 'bigot': 2370, 'imperialist': 11423, 'monoculturalist': 15399, 'jfufnfwucnbqj': 12258, 'romina': 20056, 'kaleidoscop': 12558, 'greshamblak': 9830, 'eexcit': 7120, 'reallyy': 19316, 'gahif': 9070, 'melika': 14798, 'hoorayi': 10897, 'pantien': 17383, 'ideia': 11269, 'yourselff': 27181, 'bubb': 3157, 'viz': 25773, 'rhix': 19834, \"round'n'round\": 20118, 'geocod': 9277, 'ssm': 22353, 'funzen': 8994, 'iloveitwhen': 11356, 'unassum': 25008, 'unpretenti': 25247, 'rerecord': 19686, 'awestruck': 1593, 'pangaea': 17365, 'killah': 12831, 'mikeywayday': 15037, 'dramathon': 6728, 'datapoint': 5696, 'danapoint': 5627, 'gpgmail': 9695, 'twatt': 24678, 'sgb': 20974, 'tare': 23344, 'castil': 3754, 'urechi': 25374, 'drumu': 6813, 'muzichii': 15795, 'vopseaua': 25834, 'afectat': 357, 'rau': 19227, 'iyla': 12020, 'printchick': 18607, 'sharen': 21036, 'amarula': 771, 'timestamp:': 23973, 'cest': 3917, 'hiyahh': 10743, 'listnin': 13705, 'agreement:': 450, 'schoolbook': 20636, ':i': 30, 'pww': 18938, 'kwento': 13090, 'anyho': 1021, 'mumzi': 15717, 'geordiebird': 9289, 'chng': 4220, 'feedicon': 8116, 'bossman': 2811, 'powershel': 18414, 'overher': 17174, 'bringtaraback': 3033, 'ishra': 11923, 'ventura': 25589, 'beeman': 2105, 'crocodil': 5339, 'lindi': 13645, 'olympiou': 16820, 'diamanti': 6162, 'thessaloniki': 23741, 'cancertown': 3566, 'mazi': 14641, 'kristina': 13042, \"d'awhh\": 5561, 'dono': 6607, 'funnili': 8986, 'roland': 20030, 'fuckn': 8932, 'urrxta': 25390, 'cuckoo': 5419, 'yehh': 27051, 'mandingo': 14380, 'oxoxo': 17238, ':o:o:o:o:o:o:o': 36, 'foxi': 8706, 'givein': 9433, 'tantal': 23324, 'communism': 4747, 'night:': 16253, 'ecpm': 7065, 'anwb': 1012, 'years:': 27031, 'siberia': 21324, 'epi': 7487, 'learner': 13388, 'bent:': 2227, 'turnon': 24649, 'rullz': 20205, 'excti': 7777, 'jerseyz': 12229, 'qiuqiu': 18965, 'rossi': 20099, 'automobil': 1529, 'juan': 12440, 'pelota': 17657, 'greenday': 9808, 'correction:': 5100, 'faceti': 7927, 'aikido': 508, 'xloser': 26921, 'saya': 20547, 'members:': 14820, 'nunawad': 16553, 'teatre': 23433, 'alist': 640, 'cantab': 3591, 'sftw': 20972, 'officialshew': 16726, 'maar': 14166, 'timthumb': 23983, 'bgeezi': 2316, 'fructos': 8893, 'disater': 6306, 'ferrari': 8170, 'chocoslam': 4231, 'blokey': 2587, 'heavyweight': 10488, 'scanlon': 20577, 'robber': 19973, 'kimosav': 12849, 'butti': 3350, 'dillybar': 6243, 'cafe:': 3432, 'misog': 15194, 'sion': 21449, 'sierr': 21352, 'uy': 25449, 'saying:': 20552, 'quil': 19040, 'defici': 5878, 'emir': 7308, 'richter': 19864, 'grungi': 9934, 'loco_crime_': 13807, 'smashspac': 21716, 'ssbb': 22350, 'greatfirewallofchina': 9795, 'wyat': 26882, 'donkey': 6601, 'echt': 7051, 'angetan': 910, 'sst': 22358, 'mcnugget': 14698, 'queenrania': 19008, 'tweeterz': 24712, 'location:': 13799, 'shabbi': 20980, 'gmn': 9519, 'punya': 18880, 'antibacteri': 988, 'metalcor': 14905, 'exxager': 7876, 'xhaust': 26911, 'corr': 5097, 'kd': 12681, 'derham': 6029, 'yeem': 27044, 'camerabag': 3526, 'lolo': 13844, 'hindustan': 10714, 'dunia': 6900, 'asay': 1309, 'nehi': 16055, 'milegi': 15047, 'quaver': 19002, 'stoneheng': 22583, 'awekay': 1582, 'mort': 15502, 'dur': 6916, 'prend': 18511, 'buger': 3199, 'dati': 5700, 'lian': 13534, 'eina': 7172, 'about': 131, 'arizzard': 1216, 'emarosa': 7278, 'gingg': 9407, 'watergun': 26073, 'broughti': 3102, 'mamacita': 14345, 'muuaah': 15791, 'opus': 16965, 'mchale': 14685, 'puyallup': 18925, 'classier': 4417, 'selalu': 20820, 'ruang': 20166, 'sahabat': 20347, 'smuggl': 21761, 'prodigi': 18664, 'shreddi': 21280, 'wright': 26824, 'maita': 14288, 'thatv': 23673, 'wacko': 25887, 'jealz': 12178, 'thh': 23758, 'sampsonn': 20408, 'gustar': 10025, 'earlybird': 6989, 'laka': 13166, 'nalang': 15910, 'bandana': 1815, 'frist': 8863, 'phog': 17861, 'subit': 22775, 'ravish': 19239, 'as:': 1301, 'boyfrann': 2874, 'nako': 15906, 'umuulan': 24991, 'wheew': 26335, 'tweat': 24682, 'doogi': 6621, 'howser': 11014, 'naina': 15895, 'familia': 7982, 'trixter': 24492, 'fanboy': 7993, 'pussycat': 18915, 'maroon': 14495, 'morrningg': 15497, 'bravi': 2936, 'rentaphon': 19624, 'yesi': 27071, 'fitzcarraldo': 8363, 'cherrylolita:': 4112, 'noghti': 16360, 'defunct': 5893, 'grisham': 9867, 'boyzon': 2883, 'derni': 6033, 'sofi': 21890, 'twittertaleov': 24823, 'shute': 21310, 'hollyweird': 10824, 'aracheologist': 1159, 'buxton': 3356, 'micheal': 14967, 'sheen': 21080, 'volturi': 25819, 'izon': 12024, 'goona': 9626, 'teeve': 23465, 'areo': 1190, 'lumpi': 14083, 'wadg': 25891, 'milf': 15052, 'everryth': 7694, 'breadtalk': 2952, 'khayyam': 12785, 'wakil': 25934, 'elisa': 7232, 'ise': 11920, 'shelan': 21092, 'rae': 19111, 'yumyum': 27226, 'skankin': 21503, 'hallelujah': 10165, 'xfactor': 26909, 'famin': 7985, 'ipt': 11862, 'ngobrolin': 16196, 'cii': 4330, 'kesian': 12750, 'kamu': 12572, 'speakernya': 22135, 'rusak': 20232, 'benerin': 2213, 'allsort': 677, 'reiki': 19519, 'cruet': 5372, 'ohtay': 16762, 'waltzer': 25974, 'emul': 7342, 'activeresourc': 239, 'bussi': 3320, 'kuantan': 13063, 'trian': 24440, 'whistler': 26383, 'shooee': 21206, 'farro': 8030, 'prerecord': 18522, 'admk': 296, 'hyderabad': 11175, 'hahahaah': 10101, 'lamo': 13192, 'oneshot': 16874, 'thurther': 23901, 'ohi': 16748, 'pastrana': 17512, 'tamlyn': 23299, 'watti': 26086, 'overplay': 17183, 'hhahaa': 10648, 'loli': 13837, 'applescript': 1113, 'oda': 16685, 'bitbett': 2439, 'jackshit': 12045, 'gerai': 9295, 'shecki': 21077, 'maxxi': 14623, 'anwar': 1010, 'twittertakeov': 24822, 'scattegori': 20594, 'tallebudgera': 23287, 'yogulici': 27136, 'competitor': 4781, 'sugarfre': 22846, 'facepanda': 7924, 'laast': 13109, 'brawn': 2940, 'mclaren': 14691, 'khichadi': 12789, 'mendelssohn': 14841, 'ranchero': 19181, 'papabear': 17391, 'zdf': 27275, 'fernsehgarten': 8167, 'curious:': 5473, 'garner': 9145, 'boya': 2870, 'smap': 21703, 'lonesometown': 13860, 'houseofrock': 10987, 'thxx': 23907, 'missinmydgbigtym': 15210, 'jenson': 12215, 'schuhmach': 20645, 'fotc': 8686, 'empitom': 7332, 'ffrecommend': 8202, 'franco': 8736, 'everest': 7686, 'boofi': 2741, 'toothpick': 24185, 'dbar': 5747, 'timez': 23975, 'englisch': 7395, 'upss': 25355, 'writen': 26831, 'chesca': 4115, 'ascari': 1312, 'unabash': 24995, 'byw': 3392, 'johno': 12342, 'ivfm': 12006, 'pyyuci': 18949, 'skus': 21557, 'scotter': 20682, 'yoou': 27148, 'netplay': 16119, 'gott': 9668, 'qc': 18957, 'finnali': 8316, 'dg': 6134, 'brlliant': 3057, 'jiah': 12265, 'absoulut': 146, 'lewish': 13516, 'nomint': 16380, 'remmber': 19594, 'headsup': 10435, 'toolbar': 24175, 'mariqueen': 14473, 'toniight': 24163, 'uniteddog': 25195, 'weetabix': 26189, 'turbines:': 24636, 'pegel': 17646, 'kelil': 12709, 'kuil': 13070, 'realx': 19319, 'fryeffect': 8905, 'soccergam': 21864, 'iono': 11844, 'rol': 20029, 'gda': 9204, 'girlish': 9419, 'buongiorno': 3264, 'listenen': 13697, 'dbuc': 5751, 'kyneton': 13100, 'daylesford': 5730, 'mcd': 14668, 'sumbodi': 22872, 'gramma': 9728, 'geodefens': 9278, 'karl': 12617, 'genni': 9261, 'pcso': 17589, 'garley': 9141, 'inbrug': 11478, 'teheh': 23471, 'elijah': 7228, 'mcglaclan': 14681, 'jpnnbak': 12426, 'glre': 9503, 'baseship': 1922, 'skrg': 21553, 'sempit': 20848, 'waktunya': 25937, 'havealovelytim': 10356, 'lilim': 13622, 'presents:': 18535, 'recepi': 19361, 'keiron': 12702, 'cuold': 5453, 'natalyy': 15973, 'bilko': 2383, 'lushh': 14112, 'citeh': 4362, 'oii': 16768, 'marko': 14484, 'roseland': 20092, 'vri': 25854, 'bruxel': 3128, 'catchyy': 3773, 'xmind': 26924, 'preview:': 18570, 'candic': 3574, 'rus': 20231, 'mascot': 14534, 'virl': 25727, 'westend': 26267, 'aprreci': 1139, 'viritu': 25726, 'destroyalin': 6076, 'duckrac': 6855, 'yesti': 27083, 'fayr': 8080, 'cipriano': 4350, 'amaiz': 764, 'tbqh': 23403, 'unixodbc': 25202, 'waldi': 25943, 'bonzo': 2733, 'mattern': 14595, 'smtime': 21757, 'realz': 19320, ':wave': 53, 'boffert': 2683, 'ronaldo': 20064, 'awsum': 1608, 'dampier': 5623, 'tiberiu': 23914, 'aflat': 380, 'sunt': 22939, 'imbecili': 11378, 'groul': 9898, 'auntiegail': 1502, 'childmind': 4163, 'headbutt': 10417, 'wonderfuli': 26682, 'mader': 14224, 'wirt': 26577, 'almo': 690, 'listenint': 13700, 'afh': 376, 'vulcan': 25865, 'acsm': 231, 'unparallel': 25237, 'sublimin': 22780, 'phoenixfm': 17860, 'seriuosli': 20921, 'genoes': 9264, 'zhonguoren': 27302, 'briyani': 3056, 'yeehah': 27043, 'topifi': 24195, 'midyr': 15012, 'hmd': 10751, 'klum': 12932, 'estou': 7606, 'slimi': 21638, 'reden': 19420, 'zebra': 27281, 'jls': 12304, 'antcam': 982, 'lan': 13195, 'compr': 4808, 'abhi': 112, 'cass': 3738, 'empress': 7339, 'mpaa': 15596, 'videorecord': 25669, 'cantera': 3596, 'urbanoutfitt': 25371, 'soetim': 21887, 'goodtim': 9615, 'kaila': 12545, 'ocampo': 16660, 'rainbowhol': 19143, 'env': 7465, 'sippin': 21452, 'euruko': 7654, 'mutha': 15784, 'rawknrol': 19244, 'sanh': 20441, 'afterlif': 395, 'mammyy': 14357, 'knitterati': 12954, 'ravelri': 19234, 'parnoid': 17462, 'chroni': 4278, 'rajendran': 19155, 'wthr': 26857, 'performac': 17727, 'bradie': 2901, 'hag': 10087, 'fii': 8259, 'mushkila': 15753, \"ma'a\": 14161, 'ammox': 829, 'robbinson': 19976, 'coontail': 5035, 'rishlov': 19927, 'smile:': 21732, 'bithday': 2444, 'momduk': 15350, 'jba': 12160, 'sliverlight': 21650, 'thatmak': 23670, 'carbonara': 3636, 'lina': 13641, 'birthdaypres': 2428, 'rieger': 19884, 'begonia': 2132, 'camool': 3536, 'streetcar': 22649, 'kyoto': 13101, 'profiel': 18676, 'jole': 12353, 'erwin': 7556, 'blom': 2588, 'ceasar': 3854, 'valk': 25494, 'corney': 5085, 'tadi': 23232, 'koala': 12980, 'pubquizz': 18825, 'sinon': 21446, 'bip': 2417, 'pairung': 17315, 'ejam': 7184, 'rapidshar': 19200, 'tanc': 23306, 'vapid': 25518, 'bachus': 1680, 'goodmornin': 9611, 'embarres': 7288, 'chaparro': 3989, 'thirst': 23791, 'stealthi': 22482, 'mamba': 14349, 'snazz': 21783, 'youregreat': 27178, 'mngr': 15278, 'frankfurt': 8739, 'crikey': 5313, 'maternalhealth': 14578, 'there:': 23728, 'scarepoint': 20587, 'basslin': 1939, 'otara': 17042, 'redirect': 19427, 'keyla': 12767, 'janic': 12111, 'frehley': 8795, 'jovani': 12410, 'robsessedpattinson': 19989, 'oystser': 17248, 'somwher': 21973, 'luket': 14068, 'heathfox': 10481, 'dreamweav': 6757, 'light:': 13591, 'looki': 13886, 'mhc': 14951, 'pitta': 18033, 'bornean': 2803, 'bristlehead': 3040, 'titti': 24029, 'businessi': 3316, 'afflict': 369, 'tada': 23231, 'nasism': 15965, 'kerk': 12743, 'prezzi': 18574, '_is': 58, 'plansem': 18073, 'jfk': 12256, 'horseforth': 10940, 'jah': 12065, 'prerequisit': 18523, 'gaydar': 9190, 'apperici': 1102, 'sanath': 20417, 'jaya': 12146, 'bubblewrap': 3162, 'budda': 3178, 'hawndog': 10377, 'basil': 1928, 'telegraph': 23483, 'neway': 16146, 'nesquik': 16102, 'loretta': 13915, 'canazarro': 3560, 'squarespac': 22313, 'vivoc': 25770, 'yupz': 27234, 'aircondit': 524, 'meka': 14784, 'scorecard': 20672, 'keswick': 12751, 'woould': 26728, 'nogard': 16358, 'infront': 11609, 'accordion': 194, 'swansea': 23070, 'hatti': 10344, 'peruvian': 17777, 'thar': 23660, 'tong': 24153, 'ch:': 3927, 'banh': 1831, 'trong': 24505, 'concerto': 4837, 'ska': 21500, 'smb': 21717, 'seria': 20912, 'mors': 15500, 'plangi': 18069, 'pulish': 18847, 'karishmaa': 12616, 'luvv': 14125, 'fashionisthenextc': 8042, 'chong': 4241, 'buttfuck': 3347, 'guava': 9956, 'tyla': 24864, 'inc': 11479, 'skomer': 21549, 'twello': 24731, \"u'l\": 24889, 'happymoth': 10259, 'enjoyin': 7410, 'ado': 298, 'kiokudb': 12874, 'tutus': 24663, 'urselff': 25392, 'stepsist': 22512, 'jaiho': 12069, 'yh': 27097, 'eekk': 7111, 'thabk': 23637, 'catvampe': 3796, 'garden:': 9135, 'localgovcamp': 13797, 'sybas': 23158, 'ase': 1318, 'sparc': 22106, 'solari': 21910, 'akankah': 553, 'suatu': 22766, 'mendapatkannya': 14839, 'at': 1400, 'rhode': 19835, 'fillet': 8270, 'mesaj': 14891, 'eroare:': 7543, 'forbiddenyou': 8622, 'jpg': 12423, 'ghicit': 9354, 'kiyosaki': 12916, 'birder': 2420, 'speakerphon': 22136, 'ilif': 11336, 'karla': 12618, 'collabro': 4640, 'jphlip': 12424, 'pseudo': 18781, 'werid': 26256, 'alpha:': 709, 'cuil': 5431, 'miz': 15251, 'cassio': 3746, 'tysm': 24882, 'clayton': 4428, 'huckabe': 11051, 'maya': 14625, 'kibbel': 12802, 'jae': 12056, 'save:summ': 20530, 'crete': 5303, 'menageri': 14835, 'loungey': 13957, 'treki': 24414, 'linuxoutlaw': 13671, 'suivez': 22858, 'luigi': 14064, 'sdn': 20743, \"'p\": 12, 'montmel': 15421, 'misanthrop': 15165, 'twiit': 24750, 'mbb': 14644, 'agfest': 424, 'apparat': 1093, 'teus': 23605, 'jessandnicolemus': 12232, 'quickpwn': 19033, 'iflow': 11301, 'twittererer': 24797, 'cryopreserv': 5393, 'omlett': 16853, 'omnomlett': 16857, 'peen': 17636, 'people': 17702, 'ludi': 14052, 'yinz': 27108, 'congrad': 4896, 'covershot': 5190, 'kelana': 12706, 'coffeeshop': 4596, 'ptfe': 18809, 'grice': 9838, 'cactus': 3422, 'heao': 10450, 'bludger': 2612, 'beater': 2043, 'quidditch': 19035, 'wheniwerealad': 26340, 'pleze': 18148, 'whalen': 26293, 'tsar': 24565, 'crept': 5298, 'dongl': 6599, 'alreet': 718, 'dreamgirl': 6751, 'twitwoo': 24833, 'celebritytweet': 3866, 'lustig': 14115, 'armer': 1227, 'garantiefal': 9129, 'mybrut': 15810, 'barcampbkk': 1870, 'pentecost': 17695, 'portugal:': 18344, 'adorei': 306, 'fonzi': 8596, 'corlain': 5077, 'shezz': 21125, 'hving': 11165, 'photomedia': 17882, 'tripod': 24476, 'viewfind': 25684, 'name:': 15917, 'u:': 24893, 'live:': 13726, 'shatranjanpoli': 21055, 'andheri': 883, 'gettng': 9331, 'reactionari': 19286, 'luat': 14030, 'examenul': 7748, 'spss': 22300, 'garageband': 9128, 'chillingoutnow': 4177, 'accent:': 178, 'euruko:': 7655, 'ful': 8949, 'yep:': 27062, 'sisch': 21461, 'swiffer': 23115, 'magician': 14245, 'sxswi': 23152, \"m'off\": 14158, 'satde': 20500, 'piggl': 17946, \"g'nyt\": 9040, 'gosl': 9650, 'primatech': 18591, 'anych': 1019, 'link:': 13660, 'whaataat': 26288, 'sierra': 21353, 'dap': 5657, 'unfortunatelli': 25146, 'mccartney': 14662, 'suni': 22922, 'tisk': 24017, 'tfl': 23621, 'hws': 11169, 'kmrn': 12938, 'kosong': 13019, \"wha'dya\": 26285, 'gatwick': 9176, 'frolic': 8877, 'consumm': 4960, 'degreas': 5902, 'ipsohot': 11860, 'sightse': 21365, 'gaijin': 9073, 'godzilla': 9569}\n"
     ]
    }
   ],
   "source": [
    "print(Tfidf_vect.vocabulary_)"
   ]
  },
  {
   "cell_type": "code",
   "execution_count": 48,
   "metadata": {},
   "outputs": [
    {
     "output_type": "stream",
     "name": "stdout",
     "text": [
      "  (0, 1247)\t0.2570451763650436\n  (0, 5606)\t0.4206931509473147\n  (0, 10050)\t0.3588151679978652\n  (0, 12576)\t0.5032023382393739\n  (0, 12981)\t0.5218737040782858\n  (0, 16338)\t0.19405706441707807\n  (0, 26180)\t0.2548996367200428\n  (1, 9535)\t0.2267930039994\n  (1, 12038)\t0.49413138555791436\n  (1, 14571)\t0.4930382472856573\n  (1, 24081)\t0.2715372856624016\n  (1, 24448)\t0.6225591508861841\n  (2, 5134)\t0.5138874634737477\n  (2, 8119)\t0.21909767351418416\n  (2, 19541)\t0.7058585537785985\n  (2, 23965)\t0.43552219966699146\n  (3, 3761)\t0.6537041721001733\n  (3, 14299)\t0.40328385139178063\n  (3, 15200)\t0.43424538601551177\n  (3, 20314)\t0.4705995487775976\n  (4, 1305)\t0.5426398403421164\n  (4, 4720)\t0.41700615349886544\n  (4, 9791)\t0.30756635045044123\n  (4, 11213)\t0.3369580918870474\n  (4, 13883)\t0.278942814840156\n  :\t:\n  (49161, 12002)\t0.4085606679441293\n  (49161, 13609)\t0.12985094000185787\n  (49161, 13926)\t0.22878806520634942\n  (49161, 13929)\t0.20994845787156788\n  (49161, 14221)\t0.206719079582079\n  (49161, 14299)\t0.1647378948932787\n  (49161, 16951)\t0.2982921177107771\n  (49161, 17701)\t0.18307639824023017\n  (49161, 23977)\t0.34121651963633315\n  (49161, 26584)\t0.1935855523393247\n  (49162, 2438)\t0.32273250756699307\n  (49162, 9657)\t0.2778509992842131\n  (49162, 13417)\t0.3523754373406842\n  (49162, 18557)\t0.33247449673815765\n  (49162, 20765)\t0.5033462226161592\n  (49162, 26540)\t0.44962011567662696\n  (49162, 27086)\t0.3583561673683537\n  (49163, 9248)\t0.5412810807438072\n  (49163, 9601)\t0.26220087708469003\n  (49163, 11214)\t0.25613344936905275\n  (49163, 16453)\t0.1865627557382737\n  (49163, 17469)\t0.3946475545726892\n  (49163, 19313)\t0.27227156970792415\n  (49163, 23835)\t0.3262658654395282\n  (49163, 25144)\t0.44891822308529894\n"
     ]
    }
   ],
   "source": [
    "print(Train_X_Tfidf)"
   ]
  },
  {
   "cell_type": "code",
   "execution_count": 56,
   "metadata": {},
   "outputs": [
    {
     "output_type": "execute_result",
     "data": {
      "text/plain": [
       "RandomForestClassifier(random_state=42)"
      ]
     },
     "metadata": {},
     "execution_count": 56
    }
   ],
   "source": [
    "SVM = svm.SVC(C=1.0, kernel='linear', degree=3, gamma='auto')\n",
    "SVM.fit(Train_X_Tfidf,y_train)"
   ]
  },
  {
   "cell_type": "code",
   "execution_count": 58,
   "metadata": {},
   "outputs": [],
   "source": [
    "predictions_SVM = SVM.predict(Test_X_Tfidf)"
   ]
  },
  {
   "cell_type": "code",
   "execution_count": null,
   "metadata": {},
   "outputs": [],
   "source": [
    "print(\"SVM Accuracy Score -> \",accuracy_score(predictions_SVM, y_test)*100)"
   ]
  },
  {
   "cell_type": "code",
   "execution_count": 59,
   "metadata": {},
   "outputs": [
    {
     "output_type": "execute_result",
     "data": {
      "text/plain": [
       "                                                    text  predictions\n",
       "0                                i didnt feel humiliated            0\n",
       "1      i can go from feeling so hopeless to so damned...            0\n",
       "2       im grabbing a minute to post i feel greedy wrong            0\n",
       "3      i am ever feeling nostalgic about the fireplac...            0\n",
       "4                                   i am feeling grouchy            0\n",
       "...                                                  ...          ...\n",
       "21451               Melissa stared at her friend in dism            1\n",
       "21452  Successive state elections have seen the gover...            1\n",
       "21453               Vincent was irritated but not dismay            1\n",
       "21454  Kendall-Hume turned back to face the dismayed ...            1\n",
       "21455                    I am dismayed , but not surpris            1\n",
       "\n",
       "[21456 rows x 2 columns]"
      ],
      "text/html": "<div>\n<style scoped>\n    .dataframe tbody tr th:only-of-type {\n        vertical-align: middle;\n    }\n\n    .dataframe tbody tr th {\n        vertical-align: top;\n    }\n\n    .dataframe thead th {\n        text-align: right;\n    }\n</style>\n<table border=\"1\" class=\"dataframe\">\n  <thead>\n    <tr style=\"text-align: right;\">\n      <th></th>\n      <th>text</th>\n      <th>predictions</th>\n    </tr>\n  </thead>\n  <tbody>\n    <tr>\n      <th>0</th>\n      <td>i didnt feel humiliated</td>\n      <td>0</td>\n    </tr>\n    <tr>\n      <th>1</th>\n      <td>i can go from feeling so hopeless to so damned...</td>\n      <td>0</td>\n    </tr>\n    <tr>\n      <th>2</th>\n      <td>im grabbing a minute to post i feel greedy wrong</td>\n      <td>0</td>\n    </tr>\n    <tr>\n      <th>3</th>\n      <td>i am ever feeling nostalgic about the fireplac...</td>\n      <td>0</td>\n    </tr>\n    <tr>\n      <th>4</th>\n      <td>i am feeling grouchy</td>\n      <td>0</td>\n    </tr>\n    <tr>\n      <th>...</th>\n      <td>...</td>\n      <td>...</td>\n    </tr>\n    <tr>\n      <th>21451</th>\n      <td>Melissa stared at her friend in dism</td>\n      <td>1</td>\n    </tr>\n    <tr>\n      <th>21452</th>\n      <td>Successive state elections have seen the gover...</td>\n      <td>1</td>\n    </tr>\n    <tr>\n      <th>21453</th>\n      <td>Vincent was irritated but not dismay</td>\n      <td>1</td>\n    </tr>\n    <tr>\n      <th>21454</th>\n      <td>Kendall-Hume turned back to face the dismayed ...</td>\n      <td>1</td>\n    </tr>\n    <tr>\n      <th>21455</th>\n      <td>I am dismayed , but not surpris</td>\n      <td>1</td>\n    </tr>\n  </tbody>\n</table>\n<p>21456 rows × 2 columns</p>\n</div>"
     },
     "metadata": {},
     "execution_count": 59
    }
   ],
   "source": [
    "X_sentences = emotion_final['text']\n",
    "pd.DataFrame({'text':X_sentences, 'predictions':predictions_SVM})"
   ]
  },
  {
   "cell_type": "code",
   "execution_count": 60,
   "metadata": {},
   "outputs": [],
   "source": [
    "data = {'text' : X_sentences, 'prediction' : predictions_SVM}\n",
    "predictions_first_messages = pd.DataFrame(data).head(15)"
   ]
  },
  {
   "cell_type": "code",
   "execution_count": 61,
   "metadata": {},
   "outputs": [
    {
     "output_type": "execute_result",
     "data": {
      "text/plain": [
       "array([0, 0, 0, ..., 1, 1, 1])"
      ]
     },
     "metadata": {},
     "execution_count": 61
    }
   ],
   "source": [
    "predictions_SVM"
   ]
  },
  {
   "source": [
    "acc = accuracy_score(y_test, predictions_SVM)\n",
    "print(acc)"
   ],
   "cell_type": "code",
   "metadata": {},
   "execution_count": 64,
   "outputs": [
    {
     "output_type": "stream",
     "name": "stdout",
     "text": [
      "0.5780201342281879\n"
     ]
    }
   ]
  },
  {
   "source": [
    "En comparant les données prédites et les données réelles, dans le cadre d'une classification binaire, on se rend compte que le taux de prédictions réussis est d'environ 57 %, ce qui est plutôt correct dans la mesure où on obtient plus de bonnes que de mauvaises prédictions."
   ],
   "cell_type": "markdown",
   "metadata": {}
  },
  {
   "cell_type": "code",
   "execution_count": 65,
   "metadata": {},
   "outputs": [],
   "source": [
    "predictions_first_messages.to_csv(\"/home/apprenant/Documents/Brief-Emotion-Analysis-Text/data/02_cleaned/svm_predictions.csv\")"
   ]
  }
 ]
}